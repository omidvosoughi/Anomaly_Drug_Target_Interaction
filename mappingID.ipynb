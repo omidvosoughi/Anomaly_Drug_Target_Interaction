{
 "cells": [
  {
   "cell_type": "code",
   "execution_count": 1,
   "metadata": {},
   "outputs": [],
   "source": [
    "import pandas as pd"
   ]
  },
  {
   "cell_type": "code",
   "execution_count": 2,
   "metadata": {},
   "outputs": [
    {
     "data": {
      "text/html": [
       "<div>\n",
       "<style scoped>\n",
       "    .dataframe tbody tr th:only-of-type {\n",
       "        vertical-align: middle;\n",
       "    }\n",
       "\n",
       "    .dataframe tbody tr th {\n",
       "        vertical-align: top;\n",
       "    }\n",
       "\n",
       "    .dataframe thead th {\n",
       "        text-align: right;\n",
       "    }\n",
       "</style>\n",
       "<table border=\"1\" class=\"dataframe\">\n",
       "  <thead>\n",
       "    <tr style=\"text-align: right;\">\n",
       "      <th></th>\n",
       "      <th>item</th>\n",
       "      <th>drugbank_id</th>\n",
       "      <th>kegg_id</th>\n",
       "    </tr>\n",
       "  </thead>\n",
       "  <tbody>\n",
       "    <tr>\n",
       "      <th>0</th>\n",
       "      <td>http://www.wikidata.org/entity/Q409697</td>\n",
       "      <td>00082</td>\n",
       "      <td>D05394</td>\n",
       "    </tr>\n",
       "    <tr>\n",
       "      <th>1</th>\n",
       "      <td>http://www.wikidata.org/entity/Q409712</td>\n",
       "      <td>06590</td>\n",
       "      <td>D08884</td>\n",
       "    </tr>\n",
       "    <tr>\n",
       "      <th>2</th>\n",
       "      <td>http://www.wikidata.org/entity/Q409721</td>\n",
       "      <td>04573</td>\n",
       "      <td>D00185</td>\n",
       "    </tr>\n",
       "    <tr>\n",
       "      <th>3</th>\n",
       "      <td>http://www.wikidata.org/entity/Q409729</td>\n",
       "      <td>00918</td>\n",
       "      <td>D02824</td>\n",
       "    </tr>\n",
       "    <tr>\n",
       "      <th>4</th>\n",
       "      <td>http://www.wikidata.org/entity/Q409761</td>\n",
       "      <td>00915</td>\n",
       "      <td>C06818</td>\n",
       "    </tr>\n",
       "  </tbody>\n",
       "</table>\n",
       "</div>"
      ],
      "text/plain": [
       "                                     item drugbank_id kegg_id\n",
       "0  http://www.wikidata.org/entity/Q409697       00082  D05394\n",
       "1  http://www.wikidata.org/entity/Q409712       06590  D08884\n",
       "2  http://www.wikidata.org/entity/Q409721       04573  D00185\n",
       "3  http://www.wikidata.org/entity/Q409729       00918  D02824\n",
       "4  http://www.wikidata.org/entity/Q409761       00915  C06818"
      ]
     },
     "execution_count": 2,
     "metadata": {},
     "output_type": "execute_result"
    }
   ],
   "source": [
    "all_drugs = pd.read_csv('query.csv')\n",
    "all_drugs.head()"
   ]
  },
  {
   "cell_type": "code",
   "execution_count": 3,
   "metadata": {},
   "outputs": [
    {
     "data": {
      "text/plain": [
       "2926"
      ]
     },
     "execution_count": 3,
     "metadata": {},
     "output_type": "execute_result"
    }
   ],
   "source": [
    "enzyme = pd.read_csv('enzyme.txt', sep='\\t')\n",
    "enzyme.head()\n",
    "len(enzyme)"
   ]
  },
  {
   "cell_type": "code",
   "execution_count": 4,
   "metadata": {},
   "outputs": [
    {
     "data": {
      "text/plain": [
       "1476"
      ]
     },
     "execution_count": 4,
     "metadata": {},
     "output_type": "execute_result"
    }
   ],
   "source": [
    "Ion_Channel = pd.read_csv('ic.txt', sep='\\t')\n",
    "Ion_Channel.head()\n",
    "len(Ion_Channel)"
   ]
  },
  {
   "cell_type": "code",
   "execution_count": 5,
   "metadata": {},
   "outputs": [
    {
     "data": {
      "text/plain": [
       "635"
      ]
     },
     "execution_count": 5,
     "metadata": {},
     "output_type": "execute_result"
    }
   ],
   "source": [
    "gpcr = pd.read_csv('gpcr.txt', sep='\\t')\n",
    "gpcr.head()\n",
    "len(gpcr)"
   ]
  },
  {
   "cell_type": "code",
   "execution_count": 6,
   "metadata": {},
   "outputs": [
    {
     "data": {
      "text/plain": [
       "90"
      ]
     },
     "execution_count": 6,
     "metadata": {},
     "output_type": "execute_result"
    }
   ],
   "source": [
    "nr = pd.read_csv('nr.txt', sep='\\t')\n",
    "nr.head()\n",
    "len(nr)"
   ]
  },
  {
   "cell_type": "code",
   "execution_count": 7,
   "metadata": {},
   "outputs": [],
   "source": [
    "en_drugs = enzyme.iloc[:, 1]\n",
    "len(set(en_drugs))\n",
    "en_drugs = list(set(en_drugs))"
   ]
  },
  {
   "cell_type": "code",
   "execution_count": 8,
   "metadata": {},
   "outputs": [],
   "source": [
    "ic_drugs = Ion_Channel.iloc[:, 1]\n",
    "len(set(ic_drugs))\n",
    "ic_drugs = list(set(ic_drugs))"
   ]
  },
  {
   "cell_type": "code",
   "execution_count": 9,
   "metadata": {},
   "outputs": [],
   "source": [
    "gpcr_drugs = gpcr.iloc[:, 1]\n",
    "len(set(gpcr_drugs))\n",
    "gpcr_drugs = list(set(gpcr_drugs))"
   ]
  },
  {
   "cell_type": "code",
   "execution_count": 10,
   "metadata": {},
   "outputs": [],
   "source": [
    "nr_drugs = nr.iloc[:, 1]\n",
    "len(set(nr_drugs))\n",
    "nr_drugs = list(set(nr_drugs))"
   ]
  },
  {
   "cell_type": "code",
   "execution_count": 11,
   "metadata": {},
   "outputs": [
    {
     "data": {
      "text/plain": [
       "932"
      ]
     },
     "execution_count": 11,
     "metadata": {},
     "output_type": "execute_result"
    }
   ],
   "source": [
    "all_drugs_yamanishi = en_drugs + ic_drugs + gpcr_drugs + nr_drugs\n",
    "len(all_drugs_yamanishi)"
   ]
  },
  {
   "cell_type": "code",
   "execution_count": 12,
   "metadata": {},
   "outputs": [
    {
     "data": {
      "text/plain": [
       "5127"
      ]
     },
     "execution_count": 12,
     "metadata": {},
     "output_type": "execute_result"
    }
   ],
   "source": [
    "all_data_yamanishi = pd.concat([enzyme, Ion_Channel, gpcr, nr])\n",
    "all_data_yamanishi.head()\n",
    "len(all_data_yamanishi)"
   ]
  },
  {
   "cell_type": "code",
   "execution_count": 13,
   "metadata": {},
   "outputs": [
    {
     "data": {
      "text/html": [
       "<div>\n",
       "<style scoped>\n",
       "    .dataframe tbody tr th:only-of-type {\n",
       "        vertical-align: middle;\n",
       "    }\n",
       "\n",
       "    .dataframe tbody tr th {\n",
       "        vertical-align: top;\n",
       "    }\n",
       "\n",
       "    .dataframe thead th {\n",
       "        text-align: right;\n",
       "    }\n",
       "</style>\n",
       "<table border=\"1\" class=\"dataframe\">\n",
       "  <thead>\n",
       "    <tr style=\"text-align: right;\">\n",
       "      <th></th>\n",
       "      <th>target</th>\n",
       "      <th>drug</th>\n",
       "    </tr>\n",
       "  </thead>\n",
       "  <tbody>\n",
       "    <tr>\n",
       "      <th>0</th>\n",
       "      <td>hsa:10</td>\n",
       "      <td>D00002</td>\n",
       "    </tr>\n",
       "    <tr>\n",
       "      <th>1</th>\n",
       "      <td>hsa:10</td>\n",
       "      <td>D00448</td>\n",
       "    </tr>\n",
       "    <tr>\n",
       "      <th>2</th>\n",
       "      <td>hsa:100</td>\n",
       "      <td>D00037</td>\n",
       "    </tr>\n",
       "    <tr>\n",
       "      <th>3</th>\n",
       "      <td>hsa:100</td>\n",
       "      <td>D00155</td>\n",
       "    </tr>\n",
       "    <tr>\n",
       "      <th>4</th>\n",
       "      <td>hsa:10056</td>\n",
       "      <td>D00021</td>\n",
       "    </tr>\n",
       "  </tbody>\n",
       "</table>\n",
       "</div>"
      ],
      "text/plain": [
       "      target    drug\n",
       "0     hsa:10  D00002\n",
       "1     hsa:10  D00448\n",
       "2    hsa:100  D00037\n",
       "3    hsa:100  D00155\n",
       "4  hsa:10056  D00021"
      ]
     },
     "execution_count": 13,
     "metadata": {},
     "output_type": "execute_result"
    }
   ],
   "source": [
    "all_data_yamanishi.head()"
   ]
  },
  {
   "cell_type": "code",
   "execution_count": 14,
   "metadata": {},
   "outputs": [
    {
     "data": {
      "text/plain": [
       "[Series([], Name: target, dtype: object)]"
      ]
     },
     "execution_count": 14,
     "metadata": {},
     "output_type": "execute_result"
    }
   ],
   "source": [
    "tt = []\n",
    "tt.append((all_data_yamanishi[all_data_yamanishi['drug']=='DB00522'])['target'])\n",
    "tt"
   ]
  },
  {
   "cell_type": "code",
   "execution_count": 15,
   "metadata": {},
   "outputs": [],
   "source": [
    "ss = pd.DataFrame((all_data_yamanishi[all_data_yamanishi['drug']=='D01346'])['target'])"
   ]
  },
  {
   "cell_type": "code",
   "execution_count": 16,
   "metadata": {},
   "outputs": [
    {
     "data": {
      "text/html": [
       "<div>\n",
       "<style scoped>\n",
       "    .dataframe tbody tr th:only-of-type {\n",
       "        vertical-align: middle;\n",
       "    }\n",
       "\n",
       "    .dataframe tbody tr th {\n",
       "        vertical-align: top;\n",
       "    }\n",
       "\n",
       "    .dataframe thead th {\n",
       "        text-align: right;\n",
       "    }\n",
       "</style>\n",
       "<table border=\"1\" class=\"dataframe\">\n",
       "  <thead>\n",
       "    <tr style=\"text-align: right;\">\n",
       "      <th></th>\n",
       "      <th>target</th>\n",
       "    </tr>\n",
       "  </thead>\n",
       "  <tbody>\n",
       "    <tr>\n",
       "      <th>109</th>\n",
       "      <td>hsa:11330</td>\n",
       "    </tr>\n",
       "    <tr>\n",
       "      <th>175</th>\n",
       "      <td>hsa:1504</td>\n",
       "    </tr>\n",
       "    <tr>\n",
       "      <th>1251</th>\n",
       "      <td>hsa:279</td>\n",
       "    </tr>\n",
       "    <tr>\n",
       "      <th>2139</th>\n",
       "      <td>hsa:5406</td>\n",
       "    </tr>\n",
       "    <tr>\n",
       "      <th>421</th>\n",
       "      <td>hsa:2918</td>\n",
       "    </tr>\n",
       "  </tbody>\n",
       "</table>\n",
       "</div>"
      ],
      "text/plain": [
       "         target\n",
       "109   hsa:11330\n",
       "175    hsa:1504\n",
       "1251    hsa:279\n",
       "2139   hsa:5406\n",
       "421    hsa:2918"
      ]
     },
     "execution_count": 16,
     "metadata": {},
     "output_type": "execute_result"
    }
   ],
   "source": [
    "ss"
   ]
  },
  {
   "cell_type": "code",
   "execution_count": 17,
   "metadata": {},
   "outputs": [],
   "source": [
    "# all_drugs[all_drugs['drug']]"
   ]
  },
  {
   "cell_type": "code",
   "execution_count": 18,
   "metadata": {},
   "outputs": [
    {
     "data": {
      "text/plain": [
       "932"
      ]
     },
     "execution_count": 18,
     "metadata": {},
     "output_type": "execute_result"
    }
   ],
   "source": [
    "len(all_drugs_yamanishi)"
   ]
  },
  {
   "cell_type": "code",
   "execution_count": 19,
   "metadata": {},
   "outputs": [],
   "source": [
    "# all_drugs['item'] = all_drugs['item'].astype(str)\n",
    "# all_drugs['drugbank_id'] = all_drugs['drugbank_id'].astype(str)\n",
    "# all_drugs['kegg_id'] = all_drugs['kegg_id'].astype(str)"
   ]
  },
  {
   "cell_type": "code",
   "execution_count": 20,
   "metadata": {},
   "outputs": [],
   "source": [
    "# all_drugs = all_drugs.astype(str)"
   ]
  },
  {
   "cell_type": "code",
   "execution_count": 21,
   "metadata": {},
   "outputs": [],
   "source": [
    "mapped_drug_id = {}\n",
    "DB_id_list = []\n",
    "kegg_id_list = []\n",
    "for item in all_drugs_yamanishi:\n",
    "    mapped_DB_id = pd.DataFrame(all_drugs['drugbank_id'].where(all_drugs['kegg_id'] == item).dropna())\n",
    "    # mapped_kg_id = pd.DataFrame(all_drugs['kegg_id'].where(all_drugs['kegg_id'] == item).dropna())\n",
    "    # mapped_DB_id = mapped_DB_id.astype(int)\n",
    "    if not mapped_DB_id.empty:\n",
    "        DB_id_list.append(mapped_DB_id.to_string(index=False, header=False))\n",
    "        kegg_id_list.append(item)\n",
    "\n",
    "DB_id_list = ['DB'+ s for s in DB_id_list]\n",
    "mapped_drug_id['drugBank_id'] = DB_id_list\n",
    "mapped_drug_id['kegg_id'] = kegg_id_list\n",
    "    "
   ]
  },
  {
   "cell_type": "code",
   "execution_count": 22,
   "metadata": {},
   "outputs": [
    {
     "data": {
      "text/plain": [
       "2"
      ]
     },
     "execution_count": 22,
     "metadata": {},
     "output_type": "execute_result"
    }
   ],
   "source": [
    "len(mapped_drug_id)"
   ]
  },
  {
   "cell_type": "code",
   "execution_count": 23,
   "metadata": {},
   "outputs": [],
   "source": [
    "# all_data_yamanishi"
   ]
  },
  {
   "cell_type": "code",
   "execution_count": 24,
   "metadata": {},
   "outputs": [
    {
     "data": {
      "text/html": [
       "<div>\n",
       "<style scoped>\n",
       "    .dataframe tbody tr th:only-of-type {\n",
       "        vertical-align: middle;\n",
       "    }\n",
       "\n",
       "    .dataframe tbody tr th {\n",
       "        vertical-align: top;\n",
       "    }\n",
       "\n",
       "    .dataframe thead th {\n",
       "        text-align: right;\n",
       "    }\n",
       "</style>\n",
       "<table border=\"1\" class=\"dataframe\">\n",
       "  <thead>\n",
       "    <tr style=\"text-align: right;\">\n",
       "      <th></th>\n",
       "      <th>drugBank_id</th>\n",
       "      <th>kegg_id</th>\n",
       "    </tr>\n",
       "  </thead>\n",
       "  <tbody>\n",
       "    <tr>\n",
       "      <th>0</th>\n",
       "      <td>DB14125</td>\n",
       "      <td>D03077</td>\n",
       "    </tr>\n",
       "    <tr>\n",
       "      <th>1</th>\n",
       "      <td>DB00120</td>\n",
       "      <td>D00021</td>\n",
       "    </tr>\n",
       "    <tr>\n",
       "      <th>2</th>\n",
       "      <td>DB00939</td>\n",
       "      <td>D02341</td>\n",
       "    </tr>\n",
       "    <tr>\n",
       "      <th>3</th>\n",
       "      <td>DB01022</td>\n",
       "      <td>D00148</td>\n",
       "    </tr>\n",
       "    <tr>\n",
       "      <th>4</th>\n",
       "      <td>DB00284</td>\n",
       "      <td>D00216</td>\n",
       "    </tr>\n",
       "    <tr>\n",
       "      <th>...</th>\n",
       "      <td>...</td>\n",
       "      <td>...</td>\n",
       "    </tr>\n",
       "    <tr>\n",
       "      <th>491</th>\n",
       "      <td>DB00304</td>\n",
       "      <td>D02367</td>\n",
       "    </tr>\n",
       "    <tr>\n",
       "      <th>492</th>\n",
       "      <td>DB00655</td>\n",
       "      <td>D00067</td>\n",
       "    </tr>\n",
       "    <tr>\n",
       "      <th>493</th>\n",
       "      <td>DB14512</td>\n",
       "      <td>D00690</td>\n",
       "    </tr>\n",
       "    <tr>\n",
       "      <th>494</th>\n",
       "      <td>DB01039</td>\n",
       "      <td>D00565</td>\n",
       "    </tr>\n",
       "    <tr>\n",
       "      <th>495</th>\n",
       "      <td>DB01185</td>\n",
       "      <td>D00327</td>\n",
       "    </tr>\n",
       "  </tbody>\n",
       "</table>\n",
       "<p>496 rows × 2 columns</p>\n",
       "</div>"
      ],
      "text/plain": [
       "    drugBank_id kegg_id\n",
       "0       DB14125  D03077\n",
       "1       DB00120  D00021\n",
       "2       DB00939  D02341\n",
       "3       DB01022  D00148\n",
       "4       DB00284  D00216\n",
       "..          ...     ...\n",
       "491     DB00304  D02367\n",
       "492     DB00655  D00067\n",
       "493     DB14512  D00690\n",
       "494     DB01039  D00565\n",
       "495     DB01185  D00327\n",
       "\n",
       "[496 rows x 2 columns]"
      ]
     },
     "execution_count": 24,
     "metadata": {},
     "output_type": "execute_result"
    }
   ],
   "source": [
    "mapped_drug_id = pd.DataFrame(mapped_drug_id)\n",
    "mapped_drug_id"
   ]
  },
  {
   "cell_type": "code",
   "execution_count": 25,
   "metadata": {},
   "outputs": [],
   "source": [
    "# all_data_yamanishi = all_data_yamanishi.replace('D01346', 'DB00522')\n",
    "# all_data_yamanishi[all_data_yamanishi['drug']=='DB00522']"
   ]
  },
  {
   "cell_type": "code",
   "execution_count": 26,
   "metadata": {},
   "outputs": [
    {
     "data": {
      "text/plain": [
       "'D03077'"
      ]
     },
     "execution_count": 26,
     "metadata": {},
     "output_type": "execute_result"
    }
   ],
   "source": [
    "mapped_drug_id.iloc[0, 1]"
   ]
  },
  {
   "cell_type": "code",
   "execution_count": 27,
   "metadata": {},
   "outputs": [
    {
     "data": {
      "text/html": [
       "<div>\n",
       "<style scoped>\n",
       "    .dataframe tbody tr th:only-of-type {\n",
       "        vertical-align: middle;\n",
       "    }\n",
       "\n",
       "    .dataframe tbody tr th {\n",
       "        vertical-align: top;\n",
       "    }\n",
       "\n",
       "    .dataframe thead th {\n",
       "        text-align: right;\n",
       "    }\n",
       "</style>\n",
       "<table border=\"1\" class=\"dataframe\">\n",
       "  <thead>\n",
       "    <tr style=\"text-align: right;\">\n",
       "      <th></th>\n",
       "      <th>target</th>\n",
       "      <th>drug</th>\n",
       "    </tr>\n",
       "  </thead>\n",
       "  <tbody>\n",
       "    <tr>\n",
       "      <th>176</th>\n",
       "      <td>hsa:151531</td>\n",
       "      <td>D00584</td>\n",
       "    </tr>\n",
       "    <tr>\n",
       "      <th>797</th>\n",
       "      <td>hsa:1806</td>\n",
       "      <td>D00584</td>\n",
       "    </tr>\n",
       "    <tr>\n",
       "      <th>2562</th>\n",
       "      <td>hsa:7083</td>\n",
       "      <td>D00584</td>\n",
       "    </tr>\n",
       "    <tr>\n",
       "      <th>2563</th>\n",
       "      <td>hsa:7084</td>\n",
       "      <td>D00584</td>\n",
       "    </tr>\n",
       "    <tr>\n",
       "      <th>2613</th>\n",
       "      <td>hsa:7298</td>\n",
       "      <td>D00584</td>\n",
       "    </tr>\n",
       "    <tr>\n",
       "      <th>2635</th>\n",
       "      <td>hsa:7372</td>\n",
       "      <td>D00584</td>\n",
       "    </tr>\n",
       "    <tr>\n",
       "      <th>2636</th>\n",
       "      <td>hsa:7378</td>\n",
       "      <td>D00584</td>\n",
       "    </tr>\n",
       "  </tbody>\n",
       "</table>\n",
       "</div>"
      ],
      "text/plain": [
       "          target    drug\n",
       "176   hsa:151531  D00584\n",
       "797     hsa:1806  D00584\n",
       "2562    hsa:7083  D00584\n",
       "2563    hsa:7084  D00584\n",
       "2613    hsa:7298  D00584\n",
       "2635    hsa:7372  D00584\n",
       "2636    hsa:7378  D00584"
      ]
     },
     "execution_count": 27,
     "metadata": {},
     "output_type": "execute_result"
    }
   ],
   "source": [
    "all_data_yamanishi[all_data_yamanishi['drug']=='D00584']"
   ]
  },
  {
   "cell_type": "code",
   "execution_count": 28,
   "metadata": {},
   "outputs": [],
   "source": [
    "# all_data_yamanishi = all_data_yamanishi.replace('D00584', 'DB00544')\n",
    "# all_data_yamanishi[all_data_yamanishi['drug']=='DB00544']"
   ]
  },
  {
   "cell_type": "code",
   "execution_count": 29,
   "metadata": {},
   "outputs": [
    {
     "data": {
      "text/plain": [
       "'D03077'"
      ]
     },
     "execution_count": 29,
     "metadata": {},
     "output_type": "execute_result"
    }
   ],
   "source": [
    "mapped_drug_id.iloc[0, 1]"
   ]
  },
  {
   "cell_type": "code",
   "execution_count": 30,
   "metadata": {},
   "outputs": [],
   "source": [
    "for i in range(len(mapped_drug_id)):\n",
    "    all_data_yamanishi = all_data_yamanishi.replace(mapped_drug_id.iloc[i, 1], mapped_drug_id.iloc[i, 0])"
   ]
  },
  {
   "cell_type": "code",
   "execution_count": 31,
   "metadata": {},
   "outputs": [
    {
     "data": {
      "text/html": [
       "<div>\n",
       "<style scoped>\n",
       "    .dataframe tbody tr th:only-of-type {\n",
       "        vertical-align: middle;\n",
       "    }\n",
       "\n",
       "    .dataframe tbody tr th {\n",
       "        vertical-align: top;\n",
       "    }\n",
       "\n",
       "    .dataframe thead th {\n",
       "        text-align: right;\n",
       "    }\n",
       "</style>\n",
       "<table border=\"1\" class=\"dataframe\">\n",
       "  <thead>\n",
       "    <tr style=\"text-align: right;\">\n",
       "      <th></th>\n",
       "      <th>target</th>\n",
       "      <th>drug</th>\n",
       "    </tr>\n",
       "  </thead>\n",
       "  <tbody>\n",
       "    <tr>\n",
       "      <th>0</th>\n",
       "      <td>hsa:10</td>\n",
       "      <td>D00002</td>\n",
       "    </tr>\n",
       "    <tr>\n",
       "      <th>1</th>\n",
       "      <td>hsa:10</td>\n",
       "      <td>DB00795</td>\n",
       "    </tr>\n",
       "    <tr>\n",
       "      <th>2</th>\n",
       "      <td>hsa:100</td>\n",
       "      <td>D00037</td>\n",
       "    </tr>\n",
       "    <tr>\n",
       "      <th>3</th>\n",
       "      <td>hsa:100</td>\n",
       "      <td>D00155</td>\n",
       "    </tr>\n",
       "    <tr>\n",
       "      <th>4</th>\n",
       "      <td>hsa:10056</td>\n",
       "      <td>DB00120</td>\n",
       "    </tr>\n",
       "    <tr>\n",
       "      <th>...</th>\n",
       "      <td>...</td>\n",
       "      <td>...</td>\n",
       "    </tr>\n",
       "    <tr>\n",
       "      <th>85</th>\n",
       "      <td>hsa:8856</td>\n",
       "      <td>DB02789</td>\n",
       "    </tr>\n",
       "    <tr>\n",
       "      <th>86</th>\n",
       "      <td>hsa:8856</td>\n",
       "      <td>D00211</td>\n",
       "    </tr>\n",
       "    <tr>\n",
       "      <th>87</th>\n",
       "      <td>hsa:8856</td>\n",
       "      <td>D00730</td>\n",
       "    </tr>\n",
       "    <tr>\n",
       "      <th>88</th>\n",
       "      <td>hsa:9970</td>\n",
       "      <td>DB01174</td>\n",
       "    </tr>\n",
       "    <tr>\n",
       "      <th>89</th>\n",
       "      <td>hsa:9971</td>\n",
       "      <td>D00163</td>\n",
       "    </tr>\n",
       "  </tbody>\n",
       "</table>\n",
       "<p>5127 rows × 2 columns</p>\n",
       "</div>"
      ],
      "text/plain": [
       "       target     drug\n",
       "0      hsa:10   D00002\n",
       "1      hsa:10  DB00795\n",
       "2     hsa:100   D00037\n",
       "3     hsa:100   D00155\n",
       "4   hsa:10056  DB00120\n",
       "..        ...      ...\n",
       "85   hsa:8856  DB02789\n",
       "86   hsa:8856   D00211\n",
       "87   hsa:8856   D00730\n",
       "88   hsa:9970  DB01174\n",
       "89   hsa:9971   D00163\n",
       "\n",
       "[5127 rows x 2 columns]"
      ]
     },
     "execution_count": 31,
     "metadata": {},
     "output_type": "execute_result"
    }
   ],
   "source": [
    "all_data_yamanishi"
   ]
  },
  {
   "cell_type": "code",
   "execution_count": 57,
   "metadata": {},
   "outputs": [],
   "source": [
    "all_data_yamanishi.to_csv('all_data_yamanishi.txt', index=False)"
   ]
  },
  {
   "cell_type": "code",
   "execution_count": 32,
   "metadata": {},
   "outputs": [
    {
     "data": {
      "text/plain": [
       "target    object\n",
       "drug      object\n",
       "dtype: object"
      ]
     },
     "execution_count": 32,
     "metadata": {},
     "output_type": "execute_result"
    }
   ],
   "source": [
    "all_data_yamanishi.dtypes"
   ]
  },
  {
   "cell_type": "code",
   "execution_count": 33,
   "metadata": {},
   "outputs": [
    {
     "data": {
      "text/plain": [
       "0     False\n",
       "1      True\n",
       "2     False\n",
       "3     False\n",
       "4      True\n",
       "      ...  \n",
       "85     True\n",
       "86    False\n",
       "87    False\n",
       "88     True\n",
       "89    False\n",
       "Name: drug, Length: 5127, dtype: bool"
      ]
     },
     "execution_count": 33,
     "metadata": {},
     "output_type": "execute_result"
    }
   ],
   "source": [
    "all_data_yamanishi[\"drug\"].str.startswith('DB')"
   ]
  },
  {
   "cell_type": "code",
   "execution_count": 34,
   "metadata": {},
   "outputs": [
    {
     "data": {
      "text/html": [
       "<div>\n",
       "<style scoped>\n",
       "    .dataframe tbody tr th:only-of-type {\n",
       "        vertical-align: middle;\n",
       "    }\n",
       "\n",
       "    .dataframe tbody tr th {\n",
       "        vertical-align: top;\n",
       "    }\n",
       "\n",
       "    .dataframe thead th {\n",
       "        text-align: right;\n",
       "    }\n",
       "</style>\n",
       "<table border=\"1\" class=\"dataframe\">\n",
       "  <thead>\n",
       "    <tr style=\"text-align: right;\">\n",
       "      <th></th>\n",
       "      <th>target</th>\n",
       "      <th>drug</th>\n",
       "    </tr>\n",
       "  </thead>\n",
       "  <tbody>\n",
       "    <tr>\n",
       "      <th>1</th>\n",
       "      <td>hsa:10</td>\n",
       "      <td>DB00795</td>\n",
       "    </tr>\n",
       "    <tr>\n",
       "      <th>4</th>\n",
       "      <td>hsa:10056</td>\n",
       "      <td>DB00120</td>\n",
       "    </tr>\n",
       "    <tr>\n",
       "      <th>14</th>\n",
       "      <td>hsa:10269</td>\n",
       "      <td>DB00636</td>\n",
       "    </tr>\n",
       "    <tr>\n",
       "      <th>15</th>\n",
       "      <td>hsa:10279</td>\n",
       "      <td>DB00677</td>\n",
       "    </tr>\n",
       "    <tr>\n",
       "      <th>16</th>\n",
       "      <td>hsa:10279</td>\n",
       "      <td>DB00513</td>\n",
       "    </tr>\n",
       "    <tr>\n",
       "      <th>...</th>\n",
       "      <td>...</td>\n",
       "      <td>...</td>\n",
       "    </tr>\n",
       "    <tr>\n",
       "      <th>82</th>\n",
       "      <td>hsa:7421</td>\n",
       "      <td>DB00169</td>\n",
       "    </tr>\n",
       "    <tr>\n",
       "      <th>83</th>\n",
       "      <td>hsa:7421</td>\n",
       "      <td>DB01070</td>\n",
       "    </tr>\n",
       "    <tr>\n",
       "      <th>84</th>\n",
       "      <td>hsa:7421</td>\n",
       "      <td>DB00910</td>\n",
       "    </tr>\n",
       "    <tr>\n",
       "      <th>85</th>\n",
       "      <td>hsa:8856</td>\n",
       "      <td>DB02789</td>\n",
       "    </tr>\n",
       "    <tr>\n",
       "      <th>88</th>\n",
       "      <td>hsa:9970</td>\n",
       "      <td>DB01174</td>\n",
       "    </tr>\n",
       "  </tbody>\n",
       "</table>\n",
       "<p>3078 rows × 2 columns</p>\n",
       "</div>"
      ],
      "text/plain": [
       "       target     drug\n",
       "1      hsa:10  DB00795\n",
       "4   hsa:10056  DB00120\n",
       "14  hsa:10269  DB00636\n",
       "15  hsa:10279  DB00677\n",
       "16  hsa:10279  DB00513\n",
       "..        ...      ...\n",
       "82   hsa:7421  DB00169\n",
       "83   hsa:7421  DB01070\n",
       "84   hsa:7421  DB00910\n",
       "85   hsa:8856  DB02789\n",
       "88   hsa:9970  DB01174\n",
       "\n",
       "[3078 rows x 2 columns]"
      ]
     },
     "execution_count": 34,
     "metadata": {},
     "output_type": "execute_result"
    }
   ],
   "source": [
    "# boolean series returned with False at place of NaN\n",
    "bool_series = all_data_yamanishi[\"drug\"].str.startswith('DB', na = False)\n",
    "  \n",
    "# displaying filtered dataframe\n",
    "all_data_yamanishi[bool_series]"
   ]
  },
  {
   "cell_type": "code",
   "execution_count": 35,
   "metadata": {},
   "outputs": [
    {
     "data": {
      "text/html": [
       "<div>\n",
       "<style scoped>\n",
       "    .dataframe tbody tr th:only-of-type {\n",
       "        vertical-align: middle;\n",
       "    }\n",
       "\n",
       "    .dataframe tbody tr th {\n",
       "        vertical-align: top;\n",
       "    }\n",
       "\n",
       "    .dataframe thead th {\n",
       "        text-align: right;\n",
       "    }\n",
       "</style>\n",
       "<table border=\"1\" class=\"dataframe\">\n",
       "  <thead>\n",
       "    <tr style=\"text-align: right;\">\n",
       "      <th></th>\n",
       "      <th>target</th>\n",
       "      <th>drug</th>\n",
       "    </tr>\n",
       "  </thead>\n",
       "  <tbody>\n",
       "    <tr>\n",
       "      <th>1</th>\n",
       "      <td>hsa:10</td>\n",
       "      <td>DB00795</td>\n",
       "    </tr>\n",
       "    <tr>\n",
       "      <th>4</th>\n",
       "      <td>hsa:10056</td>\n",
       "      <td>DB00120</td>\n",
       "    </tr>\n",
       "    <tr>\n",
       "      <th>14</th>\n",
       "      <td>hsa:10269</td>\n",
       "      <td>DB00636</td>\n",
       "    </tr>\n",
       "    <tr>\n",
       "      <th>15</th>\n",
       "      <td>hsa:10279</td>\n",
       "      <td>DB00677</td>\n",
       "    </tr>\n",
       "    <tr>\n",
       "      <th>16</th>\n",
       "      <td>hsa:10279</td>\n",
       "      <td>DB00513</td>\n",
       "    </tr>\n",
       "    <tr>\n",
       "      <th>...</th>\n",
       "      <td>...</td>\n",
       "      <td>...</td>\n",
       "    </tr>\n",
       "    <tr>\n",
       "      <th>82</th>\n",
       "      <td>hsa:7421</td>\n",
       "      <td>DB00169</td>\n",
       "    </tr>\n",
       "    <tr>\n",
       "      <th>83</th>\n",
       "      <td>hsa:7421</td>\n",
       "      <td>DB01070</td>\n",
       "    </tr>\n",
       "    <tr>\n",
       "      <th>84</th>\n",
       "      <td>hsa:7421</td>\n",
       "      <td>DB00910</td>\n",
       "    </tr>\n",
       "    <tr>\n",
       "      <th>85</th>\n",
       "      <td>hsa:8856</td>\n",
       "      <td>DB02789</td>\n",
       "    </tr>\n",
       "    <tr>\n",
       "      <th>88</th>\n",
       "      <td>hsa:9970</td>\n",
       "      <td>DB01174</td>\n",
       "    </tr>\n",
       "  </tbody>\n",
       "</table>\n",
       "<p>3078 rows × 2 columns</p>\n",
       "</div>"
      ],
      "text/plain": [
       "       target     drug\n",
       "1      hsa:10  DB00795\n",
       "4   hsa:10056  DB00120\n",
       "14  hsa:10269  DB00636\n",
       "15  hsa:10279  DB00677\n",
       "16  hsa:10279  DB00513\n",
       "..        ...      ...\n",
       "82   hsa:7421  DB00169\n",
       "83   hsa:7421  DB01070\n",
       "84   hsa:7421  DB00910\n",
       "85   hsa:8856  DB02789\n",
       "88   hsa:9970  DB01174\n",
       "\n",
       "[3078 rows x 2 columns]"
      ]
     },
     "execution_count": 35,
     "metadata": {},
     "output_type": "execute_result"
    }
   ],
   "source": [
    "yamanishi_mapped_to_DB = all_data_yamanishi[bool_series]\n",
    "yamanishi_mapped_to_DB"
   ]
  },
  {
   "cell_type": "code",
   "execution_count": 36,
   "metadata": {},
   "outputs": [
    {
     "data": {
      "text/html": [
       "<div>\n",
       "<style scoped>\n",
       "    .dataframe tbody tr th:only-of-type {\n",
       "        vertical-align: middle;\n",
       "    }\n",
       "\n",
       "    .dataframe tbody tr th {\n",
       "        vertical-align: top;\n",
       "    }\n",
       "\n",
       "    .dataframe thead th {\n",
       "        text-align: right;\n",
       "    }\n",
       "</style>\n",
       "<table border=\"1\" class=\"dataframe\">\n",
       "  <thead>\n",
       "    <tr style=\"text-align: right;\">\n",
       "      <th></th>\n",
       "      <th>drug</th>\n",
       "      <th>target</th>\n",
       "    </tr>\n",
       "  </thead>\n",
       "  <tbody>\n",
       "    <tr>\n",
       "      <th>1</th>\n",
       "      <td>DB00795</td>\n",
       "      <td>hsa:10</td>\n",
       "    </tr>\n",
       "    <tr>\n",
       "      <th>4</th>\n",
       "      <td>DB00120</td>\n",
       "      <td>hsa:10056</td>\n",
       "    </tr>\n",
       "    <tr>\n",
       "      <th>14</th>\n",
       "      <td>DB00636</td>\n",
       "      <td>hsa:10269</td>\n",
       "    </tr>\n",
       "    <tr>\n",
       "      <th>15</th>\n",
       "      <td>DB00677</td>\n",
       "      <td>hsa:10279</td>\n",
       "    </tr>\n",
       "    <tr>\n",
       "      <th>16</th>\n",
       "      <td>DB00513</td>\n",
       "      <td>hsa:10279</td>\n",
       "    </tr>\n",
       "    <tr>\n",
       "      <th>...</th>\n",
       "      <td>...</td>\n",
       "      <td>...</td>\n",
       "    </tr>\n",
       "    <tr>\n",
       "      <th>82</th>\n",
       "      <td>DB00169</td>\n",
       "      <td>hsa:7421</td>\n",
       "    </tr>\n",
       "    <tr>\n",
       "      <th>83</th>\n",
       "      <td>DB01070</td>\n",
       "      <td>hsa:7421</td>\n",
       "    </tr>\n",
       "    <tr>\n",
       "      <th>84</th>\n",
       "      <td>DB00910</td>\n",
       "      <td>hsa:7421</td>\n",
       "    </tr>\n",
       "    <tr>\n",
       "      <th>85</th>\n",
       "      <td>DB02789</td>\n",
       "      <td>hsa:8856</td>\n",
       "    </tr>\n",
       "    <tr>\n",
       "      <th>88</th>\n",
       "      <td>DB01174</td>\n",
       "      <td>hsa:9970</td>\n",
       "    </tr>\n",
       "  </tbody>\n",
       "</table>\n",
       "<p>3078 rows × 2 columns</p>\n",
       "</div>"
      ],
      "text/plain": [
       "       drug     target\n",
       "1   DB00795     hsa:10\n",
       "4   DB00120  hsa:10056\n",
       "14  DB00636  hsa:10269\n",
       "15  DB00677  hsa:10279\n",
       "16  DB00513  hsa:10279\n",
       "..      ...        ...\n",
       "82  DB00169   hsa:7421\n",
       "83  DB01070   hsa:7421\n",
       "84  DB00910   hsa:7421\n",
       "85  DB02789   hsa:8856\n",
       "88  DB01174   hsa:9970\n",
       "\n",
       "[3078 rows x 2 columns]"
      ]
     },
     "execution_count": 36,
     "metadata": {},
     "output_type": "execute_result"
    }
   ],
   "source": [
    "yamanishi_mapped_to_DB = yamanishi_mapped_to_DB[['drug', 'target']]\n",
    "yamanishi_mapped_to_DB"
   ]
  },
  {
   "cell_type": "code",
   "execution_count": 37,
   "metadata": {},
   "outputs": [],
   "source": [
    "yamanishi_mapped_to_DB.to_csv('yamanishi_mapped_to_DB.csv', index=False)"
   ]
  },
  {
   "cell_type": "code",
   "execution_count": 38,
   "metadata": {},
   "outputs": [],
   "source": [
    "# yamanishi_mapped_to_DB[yamanishi_mapped_to_DB['drug']=='DB00795']"
   ]
  },
  {
   "cell_type": "code",
   "execution_count": 39,
   "metadata": {},
   "outputs": [],
   "source": [
    "# mapped_kegg_id = []\n",
    "# for item in all_drugs_yamanishi:\n",
    "#     mapped_kg_id = pd.DataFrame(all_drugs['kegg_id'].where(all_drugs['kegg_id'] == item).dropna())\n",
    "#     # mapped_DB_id = mapped_DB_id.astype(int)\n",
    "#     if not mapped_kg_id.empty:\n",
    "#         mapped_kegg_id.append(mapped_kg_id.to_string(index=False, header=False))"
   ]
  },
  {
   "cell_type": "code",
   "execution_count": 40,
   "metadata": {},
   "outputs": [],
   "source": [
    "# len(mapped_kegg_id)"
   ]
  },
  {
   "cell_type": "code",
   "execution_count": 41,
   "metadata": {},
   "outputs": [],
   "source": [
    "# len(mapped_drugBank_id)"
   ]
  },
  {
   "cell_type": "code",
   "execution_count": 42,
   "metadata": {},
   "outputs": [],
   "source": [
    "# enzyme"
   ]
  },
  {
   "cell_type": "code",
   "execution_count": 43,
   "metadata": {},
   "outputs": [],
   "source": [
    "# mapped_drugBank_id"
   ]
  },
  {
   "cell_type": "code",
   "execution_count": 44,
   "metadata": {},
   "outputs": [],
   "source": [
    "# l_replace_all = ['DB'+ s for s in mapped_drugBank_id]\n",
    "# print(l_replace_all)"
   ]
  },
  {
   "cell_type": "code",
   "execution_count": 45,
   "metadata": {},
   "outputs": [],
   "source": [
    "# all_drugs['drugbank_id'].where(all_drugs['drugbank_id'] == 'SALT001147').dropna().to_string(index=False, header=False)"
   ]
  },
  {
   "cell_type": "code",
   "execution_count": 46,
   "metadata": {},
   "outputs": [],
   "source": [
    "# all_drugs.iloc[3083, :]"
   ]
  },
  {
   "cell_type": "code",
   "execution_count": 47,
   "metadata": {},
   "outputs": [],
   "source": [
    "# all_drugs.dtypes"
   ]
  },
  {
   "cell_type": "code",
   "execution_count": 48,
   "metadata": {},
   "outputs": [],
   "source": [
    "# i=all_drugs[all_drugs['kegg_id']=='D02756']\n",
    "# print(i['drugbank_id'])"
   ]
  },
  {
   "cell_type": "code",
   "execution_count": 49,
   "metadata": {},
   "outputs": [],
   "source": [
    "# len(mapped_drugBank_id)"
   ]
  },
  {
   "cell_type": "code",
   "execution_count": 50,
   "metadata": {},
   "outputs": [],
   "source": [
    "# xx = []"
   ]
  },
  {
   "cell_type": "code",
   "execution_count": 51,
   "metadata": {},
   "outputs": [],
   "source": [
    "# all_drugs_mapped = pd.DataFrame(all_drugs['drugbank_id'].where(all_drugs['kegg_id'] == 'D03775').dropna())\n",
    "# # print(all_drugs_mapped.to_string(columns=['drugbank_id']))\n",
    "# if not all_drugs_mapped.empty:\n",
    "#     xx.append(all_drugs_mapped.to_string(index=False, header=False))"
   ]
  },
  {
   "cell_type": "code",
   "execution_count": 52,
   "metadata": {},
   "outputs": [],
   "source": [
    "# if not all_drugs_mapped.empty:\n",
    "#     print('DataFrame is empty!')"
   ]
  },
  {
   "cell_type": "code",
   "execution_count": 53,
   "metadata": {},
   "outputs": [],
   "source": [
    "# print(all_drugs_mapped.to_string(index=False, header=False))"
   ]
  },
  {
   "cell_type": "code",
   "execution_count": 54,
   "metadata": {},
   "outputs": [],
   "source": [
    "# xx"
   ]
  },
  {
   "cell_type": "code",
   "execution_count": 55,
   "metadata": {},
   "outputs": [],
   "source": [
    "# all_drugs['drugbank_id'].where(all_drugs['kegg_id'] == 'D02756').dropna()"
   ]
  },
  {
   "cell_type": "code",
   "execution_count": 56,
   "metadata": {},
   "outputs": [],
   "source": [
    "# mapped_drugBank_id"
   ]
  }
 ],
 "metadata": {
  "kernelspec": {
   "display_name": "Python 3.9.12 ('pytorch_trial_0')",
   "language": "python",
   "name": "python3"
  },
  "language_info": {
   "codemirror_mode": {
    "name": "ipython",
    "version": 3
   },
   "file_extension": ".py",
   "mimetype": "text/x-python",
   "name": "python",
   "nbconvert_exporter": "python",
   "pygments_lexer": "ipython3",
   "version": "3.9.12"
  },
  "orig_nbformat": 4,
  "vscode": {
   "interpreter": {
    "hash": "c0470d853b5d5fc35c5aa1f9f6893811314728868a7619edeceac4267c8b492d"
   }
  }
 },
 "nbformat": 4,
 "nbformat_minor": 2
}
