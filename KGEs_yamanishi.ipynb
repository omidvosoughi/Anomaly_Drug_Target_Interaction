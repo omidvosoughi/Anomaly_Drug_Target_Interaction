{
  "cells": [
    {
      "cell_type": "markdown",
      "metadata": {
        "id": "QkQl613v5gAr"
      },
      "source": [
        "# Task 0"
      ]
    },
    {
      "cell_type": "code",
      "execution_count": 1,
      "metadata": {
        "colab": {
          "base_uri": "https://localhost:8080/"
        },
        "id": "UwzH-WKITMlP",
        "outputId": "bf8ef924-ead8-4c94-bd58-d66c3ac4c5f9"
      },
      "outputs": [
        {
          "output_type": "stream",
          "name": "stdout",
          "text": [
            "Mounted at /content/drive\n"
          ]
        }
      ],
      "source": [
        "from google.colab import drive\n",
        "drive.mount('/content/drive')"
      ]
    },
    {
      "cell_type": "markdown",
      "metadata": {
        "id": "L0jpZu9yf31D"
      },
      "source": [
        "This cell imports necessary libraries. Also, it contains a method that reads the logs and plots accordingly."
      ]
    },
    {
      "cell_type": "code",
      "execution_count": 2,
      "metadata": {
        "id": "aCpONep9K7K8"
      },
      "outputs": [],
      "source": [
        "from matplotlib import pyplot as plt\n",
        "import pandas as pd\n",
        "import numpy as np\n",
        "import pathlib\n",
        "import glob\n",
        "from PIL import Image\n",
        "from random import randint\n",
        "import cv2\n",
        "import numpy as np\n",
        "import glob\n",
        "\n",
        "def plot_logs(filename):\n",
        "  hits1, hits3, hits10, mr, mrr, loss = [], [], [], [], [], []\n",
        "  keywords = [\"Valid HITS@1 \", \"Valid HITS@3\", \"Valid HITS@10\", \"Valid MR \", \"Valid MRR\"]\n",
        "  with open(filename) as f:\n",
        "      lines = f.readlines()\n",
        "  read_started = 0\n",
        "  for line in lines:\n",
        "    for keyw in keywords:    \n",
        "      if line.find(keyw) != -1:\n",
        "        line = line[line.find(keyw):]\n",
        "        read_started += 1\n",
        "        value = float(line[line.find(\":\")+1:].replace(\"\\n\", \"\"))\n",
        "        if read_started == 1:\n",
        "          mrr.append(value)\n",
        "        if read_started == 2:\n",
        "          mr.append(value)\n",
        "        if read_started == 3:\n",
        "          hits1.append(value)\n",
        "        if read_started == 4:\n",
        "          hits3.append(value)\n",
        "        if read_started == 5:\n",
        "          hits10.append(value)\n",
        "          read_started = 0\n",
        "      if line.find(\"average loss\") != -1:\n",
        "        line = line[line.find(\"average loss\"):]\n",
        "        value = float(line[line.find(\":\")+1:].replace(\"\\n\", \"\"))\n",
        "        loss.append(value)\n",
        "\n",
        "  fig, ax = plt.subplots(2,3, figsize = (16,8))\n",
        "  ax[0][0].plot(loss)\n",
        "  ax[0][0].set_title(\"Loss\")\n",
        "\n",
        "  ax[0][1].plot(mr)\n",
        "  ax[0][1].set_title(\"mr\")\n",
        "\n",
        "  ax[0][2].plot(mrr)\n",
        "  ax[0][2].set_title(\"mrr\")\n",
        "  ax[0][2].axis(ymin=0,ymax=1.1)\n",
        "\n",
        "  ax[1][0].plot(hits1)\n",
        "  ax[1][0].set_title(\"hits1\")\n",
        "  ax[1][0].axis(ymin=0,ymax=1.1)\n",
        "\n",
        "  ax[1][1].plot(hits3)\n",
        "  ax[1][1].set_title(\"hits3\")\n",
        "  ax[1][1].axis(ymin=0,ymax=1.1)\n",
        "\n",
        "  ax[1][2].plot(hits10)\n",
        "  ax[1][2].set_title(\"hits10\")\n",
        "  ax[1][2].axis(ymin=0,ymax=1.1)\n",
        "\n",
        "  return hits1, hits3, hits10, mr, mrr, loss"
      ]
    },
    {
      "cell_type": "markdown",
      "metadata": {
        "id": "cARaytWzfvnJ"
      },
      "source": [
        "Run below cell to copy the repository from github. Then dive into the directory"
      ]
    },
    {
      "cell_type": "code",
      "execution_count": 3,
      "metadata": {
        "colab": {
          "base_uri": "https://localhost:8080/"
        },
        "id": "x73_mN4eFVks",
        "outputId": "72bc37a6-578d-46c8-b6fe-21a960abd4e3"
      },
      "outputs": [
        {
          "output_type": "stream",
          "name": "stdout",
          "text": [
            "/content/drive/MyDrive/AI_Labor\n",
            "Cloning into 'KnowledgeGraphEmbedding'...\n",
            "remote: Enumerating objects: 113, done.\u001b[K\n",
            "remote: Total 113 (delta 0), reused 0 (delta 0), pack-reused 113\u001b[K\n",
            "Receiving objects: 100% (113/113), 32.19 MiB | 14.60 MiB/s, done.\n",
            "Resolving deltas: 100% (35/35), done.\n",
            "Checking out files: 100% (55/55), done.\n",
            "/content/drive/MyDrive/AI_Labor/KnowledgeGraphEmbedding\n"
          ]
        }
      ],
      "source": [
        "%cd /content/drive/MyDrive/AI_Labor\n",
        "!rm -r /content/drive/MyDrive/AI_Labor/KnowledgeGraphEmbedding\n",
        "!git clone https://github.com/DeepGraphLearning/KnowledgeGraphEmbedding.git\n",
        "%cd KnowledgeGraphEmbedding"
      ]
    },
    {
      "cell_type": "markdown",
      "metadata": {
        "id": "P4cq7uT3gLI-"
      },
      "source": [
        "Run below cell to remove redundant data"
      ]
    },
    {
      "cell_type": "code",
      "execution_count": null,
      "metadata": {
        "id": "5yVIebn0mMb8"
      },
      "outputs": [],
      "source": [
        "# !rm -r /content/drive/MyDrive/KnowledgeGraphEmbedding/data/countries_S2\n",
        "# !rm -r /content/KnowledgeGraphEmbedding/data/countries_S3"
      ]
    },
    {
      "cell_type": "markdown",
      "metadata": {
        "id": "vK57mHz8gSH5"
      },
      "source": [
        "Run below cell to modify the code so that it is reproducible by setting numpy, torch and random's seed to a fixed value. Also it modifies the code a little bit to be able to save store embeddings during training\n",
        "\n"
      ]
    },
    {
      "cell_type": "code",
      "execution_count": 4,
      "metadata": {
        "id": "567fUw7LlS6Z"
      },
      "outputs": [],
      "source": [
        "line =\"torch.manual_seed(0)\\nnp.random.seed(0)\\n\"\n",
        "f = open(\"/content/drive/MyDrive/AI_Labor/KnowledgeGraphEmbedding/codes/dataloader.py\", \"r\")\n",
        "contents = f.readlines()\n",
        "f.close()\n",
        "contents.insert(8, line)\n",
        "f = open(\"/content/drive/MyDrive/AI_Labor/KnowledgeGraphEmbedding/codes/dataloader.py\", \"w\")\n",
        "contents = \"\".join(contents)\n",
        "f.write(contents)\n",
        "f.close()\n",
        "\n",
        "f = open(\"/content/drive/MyDrive/AI_Labor/KnowledgeGraphEmbedding/codes/model.py\", \"r\")\n",
        "contents = f.readlines()\n",
        "f.close()\n",
        "contents.insert(13, line)\n",
        "f = open(\"/content/drive/MyDrive/AI_Labor/KnowledgeGraphEmbedding/codes/model.py\", \"w\")\n",
        "contents = \"\".join(contents)\n",
        "f.write(contents)\n",
        "f.close()\n",
        "\n",
        "f = open(\"/content/drive/MyDrive/AI_Labor/KnowledgeGraphEmbedding/codes/run.py\", \"r\")\n",
        "contents = f.readlines()\n",
        "f.close()\n",
        "contents.insert(14, line+\"random.seed(0)\")\n",
        "f = open(\"/content/drive/MyDrive/AI_Labor/KnowledgeGraphEmbedding/codes/run.py\", \"w\")\n",
        "contents = \"\".join(contents)\n",
        "f.write(contents)\n",
        "f.close()\n",
        "\n",
        "f = open(\"/content/drive/MyDrive/AI_Labor/KnowledgeGraphEmbedding/codes/run.py\", \"r\")\n",
        "contents = f.readlines()\n",
        "f.close()\n",
        "contents[91] = \"def save_model(model, optimizer, save_variable_list, args, step=0):\\n\"\n",
        "contents[110] = \"        os.path.join(args.save_path, 'entity_embedding'+str(f\\\"{step:06d}\\\")), \\n\"\n",
        "contents[325] = \"                save_model(kge_model, optimizer, save_variable_list, args, step)\\n\"\n",
        "\n",
        "f = open(\"/content/drive/MyDrive/AI_Labor/KnowledgeGraphEmbedding/codes/run.py\", \"w\")\n",
        "contents = \"\".join(contents)\n",
        "f.write(contents)\n",
        "f.close()"
      ]
    },
    {
      "cell_type": "markdown",
      "metadata": {
        "id": "ru0PflCHgnWT"
      },
      "source": [
        "Take a look at the data..."
      ]
    },
    {
      "cell_type": "code",
      "execution_count": 5,
      "metadata": {
        "colab": {
          "base_uri": "https://localhost:8080/"
        },
        "id": "qM5iEsZIyLzj",
        "outputId": "68a774a0-5794-486b-f5cf-e51de78a9547"
      },
      "outputs": [
        {
          "output_type": "stream",
          "name": "stdout",
          "text": [
            "            head     relation    tail\n",
            "1870    hsa:8973  inhibitedBy  D00524\n",
            "816   hsa:116443  inhibitedBy  D00711\n",
            "1526     hsa:766  inhibitedBy  D00518\n",
            "302     hsa:2321  inhibitedBy  D03252\n",
            "1948     hsa:150  inhibitedBy  D02149\n",
            "\n",
            "\n",
            "\n",
            "\n",
            "            head     relation    tail\n",
            "count       1952         1952    1952\n",
            "unique       303            1     200\n",
            "top     hsa:6328  inhibitedBy  D00437\n",
            "freq          21         1952      51\n"
          ]
        }
      ],
      "source": [
        "df_train = pd.read_csv(\"/content/drive/MyDrive/AI_Labor/KnowledgeGraphEmbedding/data/yamanishi/train.txt\", sep=\"\\t\", header=None)\n",
        "headers =  [\"head\", \"relation\", \"tail\"]\n",
        "df_train.columns = headers\n",
        "\n",
        "print(df_train.sample(5))\n",
        "print(\"\\n\\n\\n\")\n",
        "print(df_train.describe())"
      ]
    },
    {
      "cell_type": "markdown",
      "metadata": {
        "id": "lvE2OeWW5_DQ"
      },
      "source": [
        "# Task 1"
      ]
    },
    {
      "cell_type": "markdown",
      "metadata": {
        "id": "2AgKk9RLgpR4"
      },
      "source": [
        "Training..."
      ]
    },
    {
      "cell_type": "code",
      "execution_count": 12,
      "metadata": {
        "colab": {
          "base_uri": "https://localhost:8080/"
        },
        "id": "3M18cMY6qAC_",
        "outputId": "c422a17c-2064-4232-ae3d-f072b0423e81"
      },
      "outputs": [
        {
          "output_type": "stream",
          "name": "stdout",
          "text": [
            "2022-09-15 14:26:26,718 INFO     Model: RotatE\n",
            "2022-09-15 14:26:26,718 INFO     Data Path: data/yamanishi\n",
            "2022-09-15 14:26:26,719 INFO     #entity: 510\n",
            "2022-09-15 14:26:26,719 INFO     #relation: 1\n",
            "2022-09-15 14:26:26,721 INFO     #train: 1952\n",
            "2022-09-15 14:26:26,723 INFO     #valid: 651\n",
            "2022-09-15 14:26:26,725 INFO     #test: 651\n",
            "2022-09-15 14:26:26,727 INFO     Model Parameter Configuration:\n",
            "2022-09-15 14:26:26,727 INFO     Parameter gamma: torch.Size([1]), require_grad = False\n",
            "2022-09-15 14:26:26,727 INFO     Parameter embedding_range: torch.Size([1]), require_grad = False\n",
            "2022-09-15 14:26:26,727 INFO     Parameter entity_embedding: torch.Size([510, 200]), require_grad = True\n",
            "2022-09-15 14:26:26,728 INFO     Parameter relation_embedding: torch.Size([1, 100]), require_grad = True\n",
            "/usr/local/lib/python3.7/dist-packages/torch/utils/data/dataloader.py:566: UserWarning: This DataLoader will create 5 worker processes in total. Our suggested max number of worker in current system is 2, which is smaller than what this DataLoader is going to create. Please be aware that excessive worker creation might get DataLoader running slow or even freeze, lower the worker number to avoid potential slowness/freeze if necessary.\n",
            "  cpuset_checked))\n",
            "2022-09-15 14:26:28,502 INFO     Ramdomly Initializing RotatE Model...\n",
            "2022-09-15 14:26:28,503 INFO     Start Training...\n",
            "2022-09-15 14:26:28,503 INFO     init_step = 0\n",
            "2022-09-15 14:26:28,503 INFO     batch_size = 100\n",
            "2022-09-15 14:26:28,503 INFO     negative_adversarial_sampling = 1\n",
            "2022-09-15 14:26:28,503 INFO     hidden_dim = 100\n",
            "2022-09-15 14:26:28,504 INFO     gamma = 6.000000\n",
            "2022-09-15 14:26:28,504 INFO     negative_adversarial_sampling = True\n",
            "2022-09-15 14:26:28,504 INFO     adversarial_temperature = 1.000000\n",
            "2022-09-15 14:26:28,504 INFO     learning_rate = 0\n",
            "2022-09-15 14:26:28,697 INFO     Training average positive_sample_loss at step 0: 2.438390\n",
            "2022-09-15 14:26:28,697 INFO     Training average negative_sample_loss at step 0: 0.113078\n",
            "2022-09-15 14:26:28,698 INFO     Training average loss at step 0: 1.275734\n",
            "2022-09-15 14:26:28,698 INFO     Evaluating on Valid Dataset...\n",
            "2022-09-15 14:26:28,838 INFO     Evaluating the model... (0/82)\n",
            "2022-09-15 14:26:29,458 INFO     Valid MRR at step 0: 0.022754\n",
            "2022-09-15 14:26:29,458 INFO     Valid MR at step 0: 201.861751\n",
            "2022-09-15 14:26:29,458 INFO     Valid HITS@1 at step 0: 0.004608\n",
            "2022-09-15 14:26:29,458 INFO     Valid HITS@3 at step 0: 0.013057\n",
            "2022-09-15 14:26:29,459 INFO     Valid HITS@10 at step 0: 0.039171\n",
            "2022-09-15 14:26:31,486 INFO     Training average positive_sample_loss at step 100: 6.692266\n",
            "2022-09-15 14:26:31,487 INFO     Training average negative_sample_loss at step 100: 0.049067\n",
            "2022-09-15 14:26:31,487 INFO     Training average loss at step 100: 3.370666\n",
            "2022-09-15 14:26:33,416 INFO     Training average positive_sample_loss at step 200: 4.990848\n",
            "2022-09-15 14:26:33,422 INFO     Training average negative_sample_loss at step 200: 0.060412\n",
            "2022-09-15 14:26:33,423 INFO     Training average loss at step 200: 2.525630\n",
            "2022-09-15 14:26:35,592 INFO     Training average positive_sample_loss at step 300: 5.119900\n",
            "2022-09-15 14:26:35,593 INFO     Training average negative_sample_loss at step 300: 0.055590\n",
            "2022-09-15 14:26:35,593 INFO     Training average loss at step 300: 2.587745\n",
            "2022-09-15 14:26:37,539 INFO     Training average positive_sample_loss at step 400: 5.087191\n",
            "2022-09-15 14:26:37,540 INFO     Training average negative_sample_loss at step 400: 0.055712\n",
            "2022-09-15 14:26:37,540 INFO     Training average loss at step 400: 2.571451\n",
            "2022-09-15 14:26:39,626 INFO     Training average positive_sample_loss at step 500: 5.367883\n",
            "2022-09-15 14:26:39,626 INFO     Training average negative_sample_loss at step 500: 0.054514\n",
            "2022-09-15 14:26:39,626 INFO     Training average loss at step 500: 2.711199\n",
            "2022-09-15 14:26:39,626 INFO     Evaluating on Valid Dataset...\n",
            "2022-09-15 14:26:39,755 INFO     Evaluating the model... (0/82)\n",
            "2022-09-15 14:26:40,397 INFO     Valid MRR at step 500: 0.141210\n",
            "2022-09-15 14:26:40,398 INFO     Valid MR at step 500: 152.288786\n",
            "2022-09-15 14:26:40,398 INFO     Valid HITS@1 at step 500: 0.093702\n",
            "2022-09-15 14:26:40,398 INFO     Valid HITS@3 at step 500: 0.149770\n",
            "2022-09-15 14:26:40,399 INFO     Valid HITS@10 at step 500: 0.223502\n",
            "2022-09-15 14:26:42,319 INFO     Training average positive_sample_loss at step 600: 5.118307\n",
            "2022-09-15 14:26:42,323 INFO     Training average negative_sample_loss at step 600: 0.060580\n",
            "2022-09-15 14:26:42,323 INFO     Training average loss at step 600: 2.589444\n",
            "2022-09-15 14:26:44,441 INFO     Training average positive_sample_loss at step 700: 5.245151\n",
            "2022-09-15 14:26:44,441 INFO     Training average negative_sample_loss at step 700: 0.057322\n",
            "2022-09-15 14:26:44,442 INFO     Training average loss at step 700: 2.651237\n",
            "2022-09-15 14:26:46,358 INFO     Training average positive_sample_loss at step 800: 5.147170\n",
            "2022-09-15 14:26:46,363 INFO     Training average negative_sample_loss at step 800: 0.058236\n",
            "2022-09-15 14:26:46,365 INFO     Training average loss at step 800: 2.602703\n",
            "2022-09-15 14:26:48,550 INFO     Training average positive_sample_loss at step 900: 5.199499\n",
            "2022-09-15 14:26:48,551 INFO     Training average negative_sample_loss at step 900: 0.055325\n",
            "2022-09-15 14:26:48,551 INFO     Training average loss at step 900: 2.627412\n",
            "2022-09-15 14:26:50,495 INFO     Training average positive_sample_loss at step 1000: 5.223279\n",
            "2022-09-15 14:26:50,497 INFO     Training average negative_sample_loss at step 1000: 0.058997\n",
            "2022-09-15 14:26:50,498 INFO     Training average loss at step 1000: 2.641138\n",
            "2022-09-15 14:26:50,501 INFO     Evaluating on Valid Dataset...\n",
            "2022-09-15 14:26:50,651 INFO     Evaluating the model... (0/82)\n",
            "2022-09-15 14:26:51,280 INFO     Valid MRR at step 1000: 0.172557\n",
            "2022-09-15 14:26:51,280 INFO     Valid MR at step 1000: 147.190476\n",
            "2022-09-15 14:26:51,281 INFO     Valid HITS@1 at step 1000: 0.127496\n",
            "2022-09-15 14:26:51,281 INFO     Valid HITS@3 at step 1000: 0.179724\n",
            "2022-09-15 14:26:51,281 INFO     Valid HITS@10 at step 1000: 0.254992\n",
            "2022-09-15 14:26:53,406 INFO     Training average positive_sample_loss at step 1100: 5.271135\n",
            "2022-09-15 14:26:53,407 INFO     Training average negative_sample_loss at step 1100: 0.057598\n",
            "2022-09-15 14:26:53,407 INFO     Training average loss at step 1100: 2.664367\n",
            "2022-09-15 14:26:55,332 INFO     Training average positive_sample_loss at step 1200: 5.292421\n",
            "2022-09-15 14:26:55,336 INFO     Training average negative_sample_loss at step 1200: 0.056066\n",
            "2022-09-15 14:26:55,337 INFO     Training average loss at step 1200: 2.674243\n",
            "2022-09-15 14:26:57,493 INFO     Training average positive_sample_loss at step 1300: 5.170273\n",
            "2022-09-15 14:26:57,494 INFO     Training average negative_sample_loss at step 1300: 0.057666\n",
            "2022-09-15 14:26:57,494 INFO     Training average loss at step 1300: 2.613969\n",
            "2022-09-15 14:26:59,411 INFO     Training average positive_sample_loss at step 1400: 4.975247\n",
            "2022-09-15 14:26:59,412 INFO     Training average negative_sample_loss at step 1400: 0.057655\n",
            "2022-09-15 14:26:59,413 INFO     Training average loss at step 1400: 2.516451\n",
            "2022-09-15 14:27:01,529 INFO     Training average positive_sample_loss at step 1500: 5.311119\n",
            "2022-09-15 14:27:01,529 INFO     Training average negative_sample_loss at step 1500: 0.055488\n",
            "2022-09-15 14:27:01,530 INFO     Training average loss at step 1500: 2.683303\n",
            "2022-09-15 14:27:01,530 INFO     Evaluating on Valid Dataset...\n",
            "2022-09-15 14:27:01,663 INFO     Evaluating the model... (0/82)\n",
            "2022-09-15 14:27:02,283 INFO     Valid MRR at step 1500: 0.183008\n",
            "2022-09-15 14:27:02,283 INFO     Valid MR at step 1500: 135.930876\n",
            "2022-09-15 14:27:02,284 INFO     Valid HITS@1 at step 1500: 0.134409\n",
            "2022-09-15 14:27:02,284 INFO     Valid HITS@3 at step 1500: 0.185100\n",
            "2022-09-15 14:27:02,284 INFO     Valid HITS@10 at step 1500: 0.269585\n",
            "2022-09-15 14:27:04,221 INFO     Training average positive_sample_loss at step 1600: 5.202205\n",
            "2022-09-15 14:27:04,221 INFO     Training average negative_sample_loss at step 1600: 0.055877\n",
            "2022-09-15 14:27:04,224 INFO     Training average loss at step 1600: 2.629041\n",
            "2022-09-15 14:27:06,350 INFO     Training average positive_sample_loss at step 1700: 5.194626\n",
            "2022-09-15 14:27:06,351 INFO     Training average negative_sample_loss at step 1700: 0.056555\n",
            "2022-09-15 14:27:06,351 INFO     Training average loss at step 1700: 2.625591\n",
            "2022-09-15 14:27:08,300 INFO     Training average positive_sample_loss at step 1800: 5.113459\n",
            "2022-09-15 14:27:08,305 INFO     Training average negative_sample_loss at step 1800: 0.055728\n",
            "2022-09-15 14:27:08,306 INFO     Training average loss at step 1800: 2.584593\n",
            "2022-09-15 14:27:10,427 INFO     Training average positive_sample_loss at step 1900: 5.315570\n",
            "2022-09-15 14:27:10,428 INFO     Training average negative_sample_loss at step 1900: 0.054289\n",
            "2022-09-15 14:27:10,428 INFO     Training average loss at step 1900: 2.684929\n",
            "2022-09-15 14:27:12,372 INFO     Training average positive_sample_loss at step 2000: 5.327486\n",
            "2022-09-15 14:27:12,372 INFO     Training average negative_sample_loss at step 2000: 0.057255\n",
            "2022-09-15 14:27:12,372 INFO     Training average loss at step 2000: 2.692370\n",
            "2022-09-15 14:27:12,373 INFO     Evaluating on Valid Dataset...\n",
            "2022-09-15 14:27:12,643 INFO     Evaluating the model... (0/82)\n",
            "2022-09-15 14:27:13,418 INFO     Valid MRR at step 2000: 0.151346\n",
            "2022-09-15 14:27:13,419 INFO     Valid MR at step 2000: 143.864823\n",
            "2022-09-15 14:27:13,419 INFO     Valid HITS@1 at step 2000: 0.105991\n",
            "2022-09-15 14:27:13,420 INFO     Valid HITS@3 at step 2000: 0.154378\n",
            "2022-09-15 14:27:13,420 INFO     Valid HITS@10 at step 2000: 0.240399\n",
            "2022-09-15 14:27:15,957 INFO     Training average positive_sample_loss at step 2100: 5.180980\n",
            "2022-09-15 14:27:15,961 INFO     Training average negative_sample_loss at step 2100: 0.058134\n",
            "2022-09-15 14:27:15,961 INFO     Training average loss at step 2100: 2.619557\n",
            "2022-09-15 14:27:17,940 INFO     Training average positive_sample_loss at step 2200: 5.139411\n",
            "2022-09-15 14:27:17,941 INFO     Training average negative_sample_loss at step 2200: 0.058131\n",
            "2022-09-15 14:27:17,942 INFO     Training average loss at step 2200: 2.598771\n",
            "2022-09-15 14:27:20,102 INFO     Training average positive_sample_loss at step 2300: 5.171654\n",
            "2022-09-15 14:27:20,102 INFO     Training average negative_sample_loss at step 2300: 0.056903\n",
            "2022-09-15 14:27:20,103 INFO     Training average loss at step 2300: 2.614279\n",
            "2022-09-15 14:27:22,034 INFO     Training average positive_sample_loss at step 2400: 5.109408\n",
            "2022-09-15 14:27:22,042 INFO     Training average negative_sample_loss at step 2400: 0.058876\n",
            "2022-09-15 14:27:22,042 INFO     Training average loss at step 2400: 2.584142\n",
            "2022-09-15 14:27:24,212 INFO     Change learning_rate to 0.005000 at step 2500\n",
            "2022-09-15 14:27:24,213 INFO     Training average positive_sample_loss at step 2500: 5.199426\n",
            "2022-09-15 14:27:24,213 INFO     Training average negative_sample_loss at step 2500: 0.055958\n",
            "2022-09-15 14:27:24,213 INFO     Training average loss at step 2500: 2.627692\n",
            "2022-09-15 14:27:24,214 INFO     Evaluating on Valid Dataset...\n",
            "2022-09-15 14:27:24,340 INFO     Evaluating the model... (0/82)\n",
            "2022-09-15 14:27:24,968 INFO     Valid MRR at step 2500: 0.140035\n",
            "2022-09-15 14:27:24,968 INFO     Valid MR at step 2500: 148.288786\n",
            "2022-09-15 14:27:24,968 INFO     Valid HITS@1 at step 2500: 0.087558\n",
            "2022-09-15 14:27:24,968 INFO     Valid HITS@3 at step 2500: 0.145161\n",
            "2022-09-15 14:27:24,969 INFO     Valid HITS@10 at step 2500: 0.248080\n",
            "2022-09-15 14:27:26,999 INFO     Training average positive_sample_loss at step 2600: 1.386145\n",
            "2022-09-15 14:27:27,006 INFO     Training average negative_sample_loss at step 2600: 0.223725\n",
            "2022-09-15 14:27:27,007 INFO     Training average loss at step 2600: 0.804935\n",
            "2022-09-15 14:27:29,146 INFO     Training average positive_sample_loss at step 2700: 0.260850\n",
            "2022-09-15 14:27:29,147 INFO     Training average negative_sample_loss at step 2700: 0.178642\n",
            "2022-09-15 14:27:29,147 INFO     Training average loss at step 2700: 0.219746\n",
            "2022-09-15 14:27:31,089 INFO     Training average positive_sample_loss at step 2800: 0.230075\n",
            "2022-09-15 14:27:31,090 INFO     Training average negative_sample_loss at step 2800: 0.158218\n",
            "2022-09-15 14:27:31,090 INFO     Training average loss at step 2800: 0.194146\n",
            "2022-09-15 14:27:33,278 INFO     Training average positive_sample_loss at step 2900: 0.238805\n",
            "2022-09-15 14:27:33,279 INFO     Training average negative_sample_loss at step 2900: 0.160325\n",
            "2022-09-15 14:27:33,279 INFO     Training average loss at step 2900: 0.199565\n",
            "2022-09-15 14:27:35,346 INFO     Training average positive_sample_loss at step 3000: 0.241723\n",
            "2022-09-15 14:27:35,346 INFO     Training average negative_sample_loss at step 3000: 0.156187\n",
            "2022-09-15 14:27:35,347 INFO     Training average loss at step 3000: 0.198955\n",
            "2022-09-15 14:27:35,347 INFO     Evaluating on Valid Dataset...\n",
            "2022-09-15 14:27:35,497 INFO     Evaluating the model... (0/82)\n",
            "2022-09-15 14:27:36,138 INFO     Valid MRR at step 3000: 0.714466\n",
            "2022-09-15 14:27:36,138 INFO     Valid MR at step 3000: 11.034562\n",
            "2022-09-15 14:27:36,139 INFO     Valid HITS@1 at step 3000: 0.596774\n",
            "2022-09-15 14:27:36,139 INFO     Valid HITS@3 at step 3000: 0.798771\n",
            "2022-09-15 14:27:36,139 INFO     Valid HITS@10 at step 3000: 0.911674\n",
            "2022-09-15 14:27:38,300 INFO     Training average positive_sample_loss at step 3100: 0.246591\n",
            "2022-09-15 14:27:38,301 INFO     Training average negative_sample_loss at step 3100: 0.158667\n",
            "2022-09-15 14:27:38,301 INFO     Training average loss at step 3100: 0.202629\n",
            "2022-09-15 14:27:40,252 INFO     Training average positive_sample_loss at step 3200: 0.255432\n",
            "2022-09-15 14:27:40,271 INFO     Training average negative_sample_loss at step 3200: 0.160889\n",
            "2022-09-15 14:27:40,271 INFO     Training average loss at step 3200: 0.208161\n",
            "2022-09-15 14:27:42,447 INFO     Training average positive_sample_loss at step 3300: 0.253525\n",
            "2022-09-15 14:27:42,447 INFO     Training average negative_sample_loss at step 3300: 0.159021\n",
            "2022-09-15 14:27:42,448 INFO     Training average loss at step 3300: 0.206273\n",
            "2022-09-15 14:27:44,373 INFO     Training average positive_sample_loss at step 3400: 0.255228\n",
            "2022-09-15 14:27:44,377 INFO     Training average negative_sample_loss at step 3400: 0.158421\n",
            "2022-09-15 14:27:44,380 INFO     Training average loss at step 3400: 0.206825\n",
            "2022-09-15 14:27:46,517 INFO     Training average positive_sample_loss at step 3500: 0.258535\n",
            "2022-09-15 14:27:46,518 INFO     Training average negative_sample_loss at step 3500: 0.158294\n",
            "2022-09-15 14:27:46,518 INFO     Training average loss at step 3500: 0.208414\n",
            "2022-09-15 14:27:46,519 INFO     Evaluating on Valid Dataset...\n",
            "2022-09-15 14:27:46,657 INFO     Evaluating the model... (0/82)\n",
            "2022-09-15 14:27:47,287 INFO     Valid MRR at step 3500: 0.688363\n",
            "2022-09-15 14:27:47,288 INFO     Valid MR at step 3500: 11.157450\n",
            "2022-09-15 14:27:47,288 INFO     Valid HITS@1 at step 3500: 0.571429\n",
            "2022-09-15 14:27:47,288 INFO     Valid HITS@3 at step 3500: 0.767281\n",
            "2022-09-15 14:27:47,288 INFO     Valid HITS@10 at step 3500: 0.905530\n",
            "2022-09-15 14:27:49,260 INFO     Training average positive_sample_loss at step 3600: 0.258783\n",
            "2022-09-15 14:27:49,262 INFO     Training average negative_sample_loss at step 3600: 0.162577\n",
            "2022-09-15 14:27:49,263 INFO     Training average loss at step 3600: 0.210680\n",
            "2022-09-15 14:27:51,421 INFO     Training average positive_sample_loss at step 3700: 0.270107\n",
            "2022-09-15 14:27:51,421 INFO     Training average negative_sample_loss at step 3700: 0.162150\n",
            "2022-09-15 14:27:51,422 INFO     Training average loss at step 3700: 0.216129\n",
            "2022-09-15 14:27:53,364 INFO     Training average positive_sample_loss at step 3800: 0.264153\n",
            "2022-09-15 14:27:53,367 INFO     Training average negative_sample_loss at step 3800: 0.163006\n",
            "2022-09-15 14:27:53,368 INFO     Training average loss at step 3800: 0.213580\n",
            "2022-09-15 14:27:55,552 INFO     Training average positive_sample_loss at step 3900: 0.264136\n",
            "2022-09-15 14:27:55,552 INFO     Training average negative_sample_loss at step 3900: 0.163164\n",
            "2022-09-15 14:27:55,553 INFO     Training average loss at step 3900: 0.213650\n",
            "2022-09-15 14:27:57,526 INFO     Training average positive_sample_loss at step 4000: 0.267517\n",
            "2022-09-15 14:27:57,530 INFO     Training average negative_sample_loss at step 4000: 0.161547\n",
            "2022-09-15 14:27:57,530 INFO     Training average loss at step 4000: 0.214532\n",
            "2022-09-15 14:27:57,530 INFO     Evaluating on Valid Dataset...\n",
            "2022-09-15 14:27:57,710 INFO     Evaluating the model... (0/82)\n",
            "2022-09-15 14:27:58,357 INFO     Valid MRR at step 4000: 0.706136\n",
            "2022-09-15 14:27:58,357 INFO     Valid MR at step 4000: 11.552227\n",
            "2022-09-15 14:27:58,358 INFO     Valid HITS@1 at step 4000: 0.597542\n",
            "2022-09-15 14:27:58,358 INFO     Valid HITS@3 at step 4000: 0.787250\n",
            "2022-09-15 14:27:58,358 INFO     Valid HITS@10 at step 4000: 0.901690\n",
            "2022-09-15 14:28:00,484 INFO     Training average positive_sample_loss at step 4100: 0.264054\n",
            "2022-09-15 14:28:00,484 INFO     Training average negative_sample_loss at step 4100: 0.159692\n",
            "2022-09-15 14:28:00,484 INFO     Training average loss at step 4100: 0.211873\n",
            "2022-09-15 14:28:02,446 INFO     Training average positive_sample_loss at step 4200: 0.278151\n",
            "2022-09-15 14:28:02,447 INFO     Training average negative_sample_loss at step 4200: 0.163088\n",
            "2022-09-15 14:28:02,447 INFO     Training average loss at step 4200: 0.220619\n",
            "2022-09-15 14:28:05,390 INFO     Training average positive_sample_loss at step 4300: 0.269898\n",
            "2022-09-15 14:28:05,390 INFO     Training average negative_sample_loss at step 4300: 0.160140\n",
            "2022-09-15 14:28:05,391 INFO     Training average loss at step 4300: 0.215019\n",
            "2022-09-15 14:28:07,387 INFO     Training average positive_sample_loss at step 4400: 0.271516\n",
            "2022-09-15 14:28:07,395 INFO     Training average negative_sample_loss at step 4400: 0.163637\n",
            "2022-09-15 14:28:07,396 INFO     Training average loss at step 4400: 0.217576\n",
            "2022-09-15 14:28:09,587 INFO     Training average positive_sample_loss at step 4500: 0.265887\n",
            "2022-09-15 14:28:09,587 INFO     Training average negative_sample_loss at step 4500: 0.158043\n",
            "2022-09-15 14:28:09,588 INFO     Training average loss at step 4500: 0.211965\n",
            "2022-09-15 14:28:09,588 INFO     Evaluating on Valid Dataset...\n",
            "2022-09-15 14:28:09,757 INFO     Evaluating the model... (0/82)\n",
            "2022-09-15 14:28:11,075 INFO     Valid MRR at step 4500: 0.697537\n",
            "2022-09-15 14:28:11,076 INFO     Valid MR at step 4500: 11.605223\n",
            "2022-09-15 14:28:11,077 INFO     Valid HITS@1 at step 4500: 0.587558\n",
            "2022-09-15 14:28:11,077 INFO     Valid HITS@3 at step 4500: 0.772657\n",
            "2022-09-15 14:28:11,077 INFO     Valid HITS@10 at step 4500: 0.894009\n",
            "2022-09-15 14:28:13,311 INFO     Training average positive_sample_loss at step 4600: 0.264023\n",
            "2022-09-15 14:28:13,311 INFO     Training average negative_sample_loss at step 4600: 0.158626\n",
            "2022-09-15 14:28:13,312 INFO     Training average loss at step 4600: 0.211324\n",
            "2022-09-15 14:28:15,557 INFO     Training average positive_sample_loss at step 4700: 0.258449\n",
            "2022-09-15 14:28:15,558 INFO     Training average negative_sample_loss at step 4700: 0.155237\n",
            "2022-09-15 14:28:15,558 INFO     Training average loss at step 4700: 0.206843\n",
            "2022-09-15 14:28:17,537 INFO     Training average positive_sample_loss at step 4800: 0.260013\n",
            "2022-09-15 14:28:17,541 INFO     Training average negative_sample_loss at step 4800: 0.156089\n",
            "2022-09-15 14:28:17,542 INFO     Training average loss at step 4800: 0.208051\n",
            "2022-09-15 14:28:19,755 INFO     Training average positive_sample_loss at step 4900: 0.260112\n",
            "2022-09-15 14:28:19,755 INFO     Training average negative_sample_loss at step 4900: 0.155556\n",
            "2022-09-15 14:28:19,755 INFO     Training average loss at step 4900: 0.207834\n",
            "2022-09-15 14:28:21,521 INFO     Evaluating on Valid Dataset...\n",
            "2022-09-15 14:28:21,645 INFO     Evaluating the model... (0/82)\n",
            "2022-09-15 14:28:22,284 INFO     Valid MRR at step 4999: 0.713545\n",
            "2022-09-15 14:28:22,284 INFO     Valid MR at step 4999: 11.839478\n",
            "2022-09-15 14:28:22,284 INFO     Valid HITS@1 at step 4999: 0.605223\n",
            "2022-09-15 14:28:22,284 INFO     Valid HITS@3 at step 4999: 0.789555\n",
            "2022-09-15 14:28:22,284 INFO     Valid HITS@10 at step 4999: 0.906298\n",
            "2022-09-15 14:28:22,285 INFO     Evaluating on Test Dataset...\n",
            "2022-09-15 14:28:22,399 INFO     Evaluating the model... (0/82)\n",
            "2022-09-15 14:28:23,046 INFO     Test MRR at step 4999: 0.702816\n",
            "2022-09-15 14:28:23,047 INFO     Test MR at step 4999: 16.145929\n",
            "2022-09-15 14:28:23,047 INFO     Test HITS@1 at step 4999: 0.611367\n",
            "2022-09-15 14:28:23,047 INFO     Test HITS@3 at step 4999: 0.762673\n",
            "2022-09-15 14:28:23,047 INFO     Test HITS@10 at step 4999: 0.869432\n"
          ]
        }
      ],
      "source": [
        "!CUDA_VISIBLE_DEVICES=0 python -u codes/run.py --do_train \\\n",
        " --cuda \\\n",
        " --do_valid \\\n",
        " --do_test \\\n",
        " --data_path data/yamanishi \\\n",
        " --model RotatE \\\n",
        " --valid_steps 500 \\\n",
        " -n 20 -b 100 -d 100 \\\n",
        " -g 6.0 -a 1.0 -adv \\\n",
        "-lr 0.05 --max_steps 5000 \\\n",
        "-save models/Task1_yamanishi_RotatE/g_6 --test_batch_size 16 -de"
      ]
    },
    {
      "cell_type": "markdown",
      "metadata": {
        "id": "Oc6kq7Bdgy1i"
      },
      "source": [
        "Plots of training"
      ]
    },
    {
      "cell_type": "code",
      "execution_count": 13,
      "metadata": {
        "colab": {
          "base_uri": "https://localhost:8080/",
          "height": 499
        },
        "id": "JS8vP_Hi7avG",
        "outputId": "30093acf-1202-486f-de8b-bb128cab0fed"
      },
      "outputs": [
        {
          "output_type": "display_data",
          "data": {
            "text/plain": [
              "<Figure size 1152x576 with 6 Axes>"
            ],
            "image/png": "[encoded data removed]"
          },
          "metadata": {
            "needs_background": "light"
          }
        }
      ],
      "source": [
        "hits1, hits3, hits10, mr, mrr, loss = plot_logs('/content/drive/MyDrive/AI_Labor/KnowledgeGraphEmbedding/models/Task1_yamanishi_RotatE/g_6/train.log')"
      ]
    },
    {
      "cell_type": "markdown",
      "metadata": {
        "id": "csH_XBsCg2_R"
      },
      "source": [
        "Below cell makes embeddings saveable and displays it"
      ]
    },
    {
      "cell_type": "code",
      "execution_count": 14,
      "metadata": {
        "colab": {
          "base_uri": "https://localhost:8080/",
          "height": 299
        },
        "id": "P9JMjDT31f8o",
        "outputId": "f0d50b31-f89d-4348-8bed-c6704031b7b5"
      },
      "outputs": [
        {
          "output_type": "execute_result",
          "data": {
            "text/plain": [
              "                d0        d1        d2        d3        d4        d5  \\\n",
              "hsa:767   0.063468 -0.034929 -0.093387 -0.181481  0.001199 -0.053235   \n",
              "D00740   -0.044008  0.043057  0.088257  0.052618 -0.030160 -0.087788   \n",
              "D00252   -0.040551  0.073025  0.108790  0.059334 -0.006583 -0.076976   \n",
              "hsa:2555  0.033860  0.090758 -0.061966  0.008948 -0.035981  0.021058   \n",
              "D00499    0.071101  0.055176  0.090620 -0.035363 -0.036841 -0.057214   \n",
              "\n",
              "                d6        d7        d8        d9  ...      d190      d191  \\\n",
              "hsa:767  -0.134530 -0.037422 -0.077385  0.054938  ...  0.116095 -0.009829   \n",
              "D00740    0.017231 -0.020174  0.026445  0.026680  ...  0.022756  0.040084   \n",
              "D00252   -0.048044 -0.014790 -0.002697 -0.018038  ...  0.051840  0.040960   \n",
              "hsa:2555  0.061989 -0.095775 -0.054350  0.022612  ...  0.021113 -0.035839   \n",
              "D00499    0.012917  0.028280  0.061452  0.067585  ... -0.058517  0.020915   \n",
              "\n",
              "              d192      d193      d194      d195      d196      d197  \\\n",
              "hsa:767  -0.044156 -0.008344  0.097838  0.021964 -0.048979  0.022516   \n",
              "D00740    0.009906 -0.007725 -0.013879  0.043794  0.065451 -0.078755   \n",
              "D00252    0.032654  0.000914 -0.022221  0.003219 -0.052974 -0.076875   \n",
              "hsa:2555  0.118392 -0.020469 -0.045899  0.039599  0.055660  0.013378   \n",
              "D00499   -0.099553 -0.011493  0.039482  0.082968 -0.080759 -0.020617   \n",
              "\n",
              "              d198      d199  \n",
              "hsa:767   0.046786  0.025602  \n",
              "D00740   -0.015825  0.008517  \n",
              "D00252   -0.037233 -0.067892  \n",
              "hsa:2555 -0.110251  0.007168  \n",
              "D00499    0.020756 -0.050457  \n",
              "\n",
              "[5 rows x 200 columns]"
            ],
            "text/html": [
              "\n",
              "  <div id=\"df-dca83783-f982-4764-b1df-ac479f9fe3f5\">\n",
              "    <div class=\"colab-df-container\">\n",
              "      <div>\n",
              "<style scoped>\n",
              "    .dataframe tbody tr th:only-of-type {\n",
              "        vertical-align: middle;\n",
              "    }\n",
              "\n",
              "    .dataframe tbody tr th {\n",
              "        vertical-align: top;\n",
              "    }\n",
              "\n",
              "    .dataframe thead th {\n",
              "        text-align: right;\n",
              "    }\n",
              "</style>\n",
              "<table border=\"1\" class=\"dataframe\">\n",
              "  <thead>\n",
              "    <tr style=\"text-align: right;\">\n",
              "      <th></th>\n",
              "      <th>d0</th>\n",
              "      <th>d1</th>\n",
              "      <th>d2</th>\n",
              "      <th>d3</th>\n",
              "      <th>d4</th>\n",
              "      <th>d5</th>\n",
              "      <th>d6</th>\n",
              "      <th>d7</th>\n",
              "      <th>d8</th>\n",
              "      <th>d9</th>\n",
              "      <th>...</th>\n",
              "      <th>d190</th>\n",
              "      <th>d191</th>\n",
              "      <th>d192</th>\n",
              "      <th>d193</th>\n",
              "      <th>d194</th>\n",
              "      <th>d195</th>\n",
              "      <th>d196</th>\n",
              "      <th>d197</th>\n",
              "      <th>d198</th>\n",
              "      <th>d199</th>\n",
              "    </tr>\n",
              "  </thead>\n",
              "  <tbody>\n",
              "    <tr>\n",
              "      <th>hsa:767</th>\n",
              "      <td>0.063468</td>\n",
              "      <td>-0.034929</td>\n",
              "      <td>-0.093387</td>\n",
              "      <td>-0.181481</td>\n",
              "      <td>0.001199</td>\n",
              "      <td>-0.053235</td>\n",
              "      <td>-0.134530</td>\n",
              "      <td>-0.037422</td>\n",
              "      <td>-0.077385</td>\n",
              "      <td>0.054938</td>\n",
              "      <td>...</td>\n",
              "      <td>0.116095</td>\n",
              "      <td>-0.009829</td>\n",
              "      <td>-0.044156</td>\n",
              "      <td>-0.008344</td>\n",
              "      <td>0.097838</td>\n",
              "      <td>0.021964</td>\n",
              "      <td>-0.048979</td>\n",
              "      <td>0.022516</td>\n",
              "      <td>0.046786</td>\n",
              "      <td>0.025602</td>\n",
              "    </tr>\n",
              "    <tr>\n",
              "      <th>D00740</th>\n",
              "      <td>-0.044008</td>\n",
              "      <td>0.043057</td>\n",
              "      <td>0.088257</td>\n",
              "      <td>0.052618</td>\n",
              "      <td>-0.030160</td>\n",
              "      <td>-0.087788</td>\n",
              "      <td>0.017231</td>\n",
              "      <td>-0.020174</td>\n",
              "      <td>0.026445</td>\n",
              "      <td>0.026680</td>\n",
              "      <td>...</td>\n",
              "      <td>0.022756</td>\n",
              "      <td>0.040084</td>\n",
              "      <td>0.009906</td>\n",
              "      <td>-0.007725</td>\n",
              "      <td>-0.013879</td>\n",
              "      <td>0.043794</td>\n",
              "      <td>0.065451</td>\n",
              "      <td>-0.078755</td>\n",
              "      <td>-0.015825</td>\n",
              "      <td>0.008517</td>\n",
              "    </tr>\n",
              "    <tr>\n",
              "      <th>D00252</th>\n",
              "      <td>-0.040551</td>\n",
              "      <td>0.073025</td>\n",
              "      <td>0.108790</td>\n",
              "      <td>0.059334</td>\n",
              "      <td>-0.006583</td>\n",
              "      <td>-0.076976</td>\n",
              "      <td>-0.048044</td>\n",
              "      <td>-0.014790</td>\n",
              "      <td>-0.002697</td>\n",
              "      <td>-0.018038</td>\n",
              "      <td>...</td>\n",
              "      <td>0.051840</td>\n",
              "      <td>0.040960</td>\n",
              "      <td>0.032654</td>\n",
              "      <td>0.000914</td>\n",
              "      <td>-0.022221</td>\n",
              "      <td>0.003219</td>\n",
              "      <td>-0.052974</td>\n",
              "      <td>-0.076875</td>\n",
              "      <td>-0.037233</td>\n",
              "      <td>-0.067892</td>\n",
              "    </tr>\n",
              "    <tr>\n",
              "      <th>hsa:2555</th>\n",
              "      <td>0.033860</td>\n",
              "      <td>0.090758</td>\n",
              "      <td>-0.061966</td>\n",
              "      <td>0.008948</td>\n",
              "      <td>-0.035981</td>\n",
              "      <td>0.021058</td>\n",
              "      <td>0.061989</td>\n",
              "      <td>-0.095775</td>\n",
              "      <td>-0.054350</td>\n",
              "      <td>0.022612</td>\n",
              "      <td>...</td>\n",
              "      <td>0.021113</td>\n",
              "      <td>-0.035839</td>\n",
              "      <td>0.118392</td>\n",
              "      <td>-0.020469</td>\n",
              "      <td>-0.045899</td>\n",
              "      <td>0.039599</td>\n",
              "      <td>0.055660</td>\n",
              "      <td>0.013378</td>\n",
              "      <td>-0.110251</td>\n",
              "      <td>0.007168</td>\n",
              "    </tr>\n",
              "    <tr>\n",
              "      <th>D00499</th>\n",
              "      <td>0.071101</td>\n",
              "      <td>0.055176</td>\n",
              "      <td>0.090620</td>\n",
              "      <td>-0.035363</td>\n",
              "      <td>-0.036841</td>\n",
              "      <td>-0.057214</td>\n",
              "      <td>0.012917</td>\n",
              "      <td>0.028280</td>\n",
              "      <td>0.061452</td>\n",
              "      <td>0.067585</td>\n",
              "      <td>...</td>\n",
              "      <td>-0.058517</td>\n",
              "      <td>0.020915</td>\n",
              "      <td>-0.099553</td>\n",
              "      <td>-0.011493</td>\n",
              "      <td>0.039482</td>\n",
              "      <td>0.082968</td>\n",
              "      <td>-0.080759</td>\n",
              "      <td>-0.020617</td>\n",
              "      <td>0.020756</td>\n",
              "      <td>-0.050457</td>\n",
              "    </tr>\n",
              "  </tbody>\n",
              "</table>\n",
              "<p>5 rows × 200 columns</p>\n",
              "</div>\n",
              "      <button class=\"colab-df-convert\" onclick=\"convertToInteractive('df-dca83783-f982-4764-b1df-ac479f9fe3f5')\"\n",
              "              title=\"Convert this dataframe to an interactive table.\"\n",
              "              style=\"display:none;\">\n",
              "        \n",
              "  <svg xmlns=\"http://www.w3.org/2000/svg\" height=\"24px\"viewBox=\"0 0 24 24\"\n",
              "       width=\"24px\">\n",
              "    <path d=\"M0 0h24v24H0V0z\" fill=\"none\"/>\n",
              "    <path d=\"M18.56 5.44l.94 2.06.94-2.06 2.06-.94-2.06-.94-.94-2.06-.94 2.06-2.06.94zm-11 1L8.5 8.5l.94-2.06 2.06-.94-2.06-.94L8.5 2.5l-.94 2.06-2.06.94zm10 10l.94 2.06.94-2.06 2.06-.94-2.06-.94-.94-2.06-.94 2.06-2.06.94z\"/><path d=\"M17.41 7.96l-1.37-1.37c-.4-.4-.92-.59-1.43-.59-.52 0-1.04.2-1.43.59L10.3 9.45l-7.72 7.72c-.78.78-.78 2.05 0 2.83L4 21.41c.39.39.9.59 1.41.59.51 0 1.02-.2 1.41-.59l7.78-7.78 2.81-2.81c.8-.78.8-2.07 0-2.86zM5.41 20L4 18.59l7.72-7.72 1.47 1.35L5.41 20z\"/>\n",
              "  </svg>\n",
              "      </button>\n",
              "      \n",
              "  <style>\n",
              "    .colab-df-container {\n",
              "      display:flex;\n",
              "      flex-wrap:wrap;\n",
              "      gap: 12px;\n",
              "    }\n",
              "\n",
              "    .colab-df-convert {\n",
              "      background-color: #E8F0FE;\n",
              "      border: none;\n",
              "      border-radius: 50%;\n",
              "      cursor: pointer;\n",
              "      display: none;\n",
              "      fill: #1967D2;\n",
              "      height: 32px;\n",
              "      padding: 0 0 0 0;\n",
              "      width: 32px;\n",
              "    }\n",
              "\n",
              "    .colab-df-convert:hover {\n",
              "      background-color: #E2EBFA;\n",
              "      box-shadow: 0px 1px 2px rgba(60, 64, 67, 0.3), 0px 1px 3px 1px rgba(60, 64, 67, 0.15);\n",
              "      fill: #174EA6;\n",
              "    }\n",
              "\n",
              "    [theme=dark] .colab-df-convert {\n",
              "      background-color: #3B4455;\n",
              "      fill: #D2E3FC;\n",
              "    }\n",
              "\n",
              "    [theme=dark] .colab-df-convert:hover {\n",
              "      background-color: #434B5C;\n",
              "      box-shadow: 0px 1px 3px 1px rgba(0, 0, 0, 0.15);\n",
              "      filter: drop-shadow(0px 1px 2px rgba(0, 0, 0, 0.3));\n",
              "      fill: #FFFFFF;\n",
              "    }\n",
              "  </style>\n",
              "\n",
              "      <script>\n",
              "        const buttonEl =\n",
              "          document.querySelector('#df-dca83783-f982-4764-b1df-ac479f9fe3f5 button.colab-df-convert');\n",
              "        buttonEl.style.display =\n",
              "          google.colab.kernel.accessAllowed ? 'block' : 'none';\n",
              "\n",
              "        async function convertToInteractive(key) {\n",
              "          const element = document.querySelector('#df-dca83783-f982-4764-b1df-ac479f9fe3f5');\n",
              "          const dataTable =\n",
              "            await google.colab.kernel.invokeFunction('convertToInteractive',\n",
              "                                                     [key], {});\n",
              "          if (!dataTable) return;\n",
              "\n",
              "          const docLinkHtml = 'Like what you see? Visit the ' +\n",
              "            '<a target=\"_blank\" href=https://colab.research.google.com/notebooks/data_table.ipynb>data table notebook</a>'\n",
              "            + ' to learn more about interactive tables.';\n",
              "          element.innerHTML = '';\n",
              "          dataTable['output_type'] = 'display_data';\n",
              "          await google.colab.output.renderOutput(dataTable, element);\n",
              "          const docLink = document.createElement('div');\n",
              "          docLink.innerHTML = docLinkHtml;\n",
              "          element.appendChild(docLink);\n",
              "        }\n",
              "      </script>\n",
              "    </div>\n",
              "  </div>\n",
              "  "
            ]
          },
          "metadata": {},
          "execution_count": 14
        }
      ],
      "source": [
        "ent_embeddings = np.load(\"/content/drive/MyDrive/AI_Labor/KnowledgeGraphEmbedding/models/Task1_yamanishi_RotatE/g_6/entity_embedding000000.npy\")\n",
        "dim_size = ent_embeddings.shape[1]\n",
        "\n",
        "headers = []\n",
        "for x in range(dim_size):\n",
        "  headers.append(\"d\"+str(x))\n",
        "\n",
        "ent_names = []\n",
        "for line in open(\"/content/drive/MyDrive/AI_Labor/KnowledgeGraphEmbedding/data/yamanishi/entities.dict\"):\n",
        "  ent_names.append(line.split(\"\\t\")[1][:-1])\n",
        "\n",
        "df_ent_embeddings = pd.DataFrame(data=ent_embeddings, index=ent_names, columns=headers)\n",
        "df_ent_embeddings.sample(5)"
      ]
    },
    {
      "cell_type": "markdown",
      "metadata": {
        "id": "-CG7k2X_hD5b"
      },
      "source": [
        "Below cell saves the embeddings"
      ]
    },
    {
      "cell_type": "code",
      "execution_count": 15,
      "metadata": {
        "id": "S1QyfY3_2RUH"
      },
      "outputs": [],
      "source": [
        "df_ent_embeddings.to_csv(\"/content/drive/MyDrive/AI_Labor/KnowledgeGraphEmbedding/models/Task1_yamanishi_RotatE/g_6/task1_labeled_embeddings.tsv\", sep=\"\\t\",index=True, header=True)\n",
        "df_ent_embeddings.to_csv(\"/content/drive/MyDrive/AI_Labor/KnowledgeGraphEmbedding/models/Task1_yamanishi_RotatE/g_6/task1_embeddings.tsv\", sep=\"\\t\",index=False, header=False)"
      ]
    },
    {
      "cell_type": "code",
      "source": [
        "!CUDA_VISIBLE_DEVICES=0 python -u codes/run.py --do_train \\\n",
        " --do_valid \\\n",
        " --do_test \\\n",
        " --data_path data/yamanishi \\\n",
        " --model TransE \\\n",
        " --valid_steps 50 \\\n",
        " -n 20 -b 100 -d 100 \\\n",
        " -g 6.0 -a 1.0 -adv \\\n",
        "-lr 0.05 --max_steps 5000 \\\n",
        "-save models/Task2_yamanishi_TransE --test_batch_size 16"
      ],
      "metadata": {
        "colab": {
          "base_uri": "https://localhost:8080/"
        },
        "id": "Z0-0N8fpjKmL",
        "outputId": "8b58bb3f-9339-4a95-fb2f-d4fd2f5d3b47"
      },
      "execution_count": 18,
      "outputs": [
        {
          "output_type": "stream",
          "name": "stdout",
          "text": [
            "2022-09-15 14:33:23,001 INFO     Model: TransE\n",
            "2022-09-15 14:33:23,002 INFO     Data Path: data/yamanishi\n",
            "2022-09-15 14:33:23,002 INFO     #entity: 510\n",
            "2022-09-15 14:33:23,002 INFO     #relation: 1\n",
            "2022-09-15 14:33:23,004 INFO     #train: 1952\n",
            "2022-09-15 14:33:23,006 INFO     #valid: 651\n",
            "2022-09-15 14:33:23,008 INFO     #test: 651\n",
            "2022-09-15 14:33:23,009 INFO     Model Parameter Configuration:\n",
            "2022-09-15 14:33:23,009 INFO     Parameter gamma: torch.Size([1]), require_grad = False\n",
            "2022-09-15 14:33:23,010 INFO     Parameter embedding_range: torch.Size([1]), require_grad = False\n",
            "2022-09-15 14:33:23,010 INFO     Parameter entity_embedding: torch.Size([510, 100]), require_grad = True\n",
            "2022-09-15 14:33:23,010 INFO     Parameter relation_embedding: torch.Size([1, 100]), require_grad = True\n",
            "/usr/local/lib/python3.7/dist-packages/torch/utils/data/dataloader.py:566: UserWarning: This DataLoader will create 5 worker processes in total. Our suggested max number of worker in current system is 2, which is smaller than what this DataLoader is going to create. Please be aware that excessive worker creation might get DataLoader running slow or even freeze, lower the worker number to avoid potential slowness/freeze if necessary.\n",
            "  cpuset_checked))\n",
            "2022-09-15 14:33:23,017 INFO     Ramdomly Initializing TransE Model...\n",
            "2022-09-15 14:33:23,017 INFO     Start Training...\n",
            "2022-09-15 14:33:23,017 INFO     init_step = 0\n",
            "2022-09-15 14:33:23,017 INFO     batch_size = 100\n",
            "2022-09-15 14:33:23,017 INFO     negative_adversarial_sampling = 1\n",
            "2022-09-15 14:33:23,018 INFO     hidden_dim = 100\n",
            "2022-09-15 14:33:23,018 INFO     gamma = 6.000000\n",
            "2022-09-15 14:33:23,018 INFO     negative_adversarial_sampling = True\n",
            "2022-09-15 14:33:23,018 INFO     adversarial_temperature = 1.000000\n",
            "2022-09-15 14:33:23,018 INFO     learning_rate = 0\n",
            "2022-09-15 14:33:23,234 INFO     Training average positive_sample_loss at step 0: 1.052611\n",
            "2022-09-15 14:33:23,235 INFO     Training average negative_sample_loss at step 0: 0.552303\n",
            "2022-09-15 14:33:23,235 INFO     Training average loss at step 0: 0.802457\n",
            "2022-09-15 14:33:23,235 INFO     Evaluating on Valid Dataset...\n",
            "2022-09-15 14:33:23,332 INFO     Evaluating the model... (0/82)\n",
            "2022-09-15 14:33:24,024 INFO     Valid MRR at step 0: 0.009360\n",
            "2022-09-15 14:33:24,026 INFO     Valid MR at step 0: 232.499232\n",
            "2022-09-15 14:33:24,026 INFO     Valid HITS@1 at step 0: 0.000000\n",
            "2022-09-15 14:33:24,026 INFO     Valid HITS@3 at step 0: 0.002304\n",
            "2022-09-15 14:33:24,027 INFO     Valid HITS@10 at step 0: 0.011521\n",
            "2022-09-15 14:33:24,983 INFO     Evaluating on Valid Dataset...\n",
            "2022-09-15 14:33:25,083 INFO     Evaluating the model... (0/82)\n",
            "2022-09-15 14:33:25,782 INFO     Valid MRR at step 50: 0.234571\n",
            "2022-09-15 14:33:25,783 INFO     Valid MR at step 50: 82.473886\n",
            "2022-09-15 14:33:25,783 INFO     Valid HITS@1 at step 50: 0.155146\n",
            "2022-09-15 14:33:25,783 INFO     Valid HITS@3 at step 50: 0.262673\n",
            "2022-09-15 14:33:25,783 INFO     Valid HITS@10 at step 50: 0.376344\n",
            "2022-09-15 14:33:26,537 INFO     Training average positive_sample_loss at step 100: 3.493586\n",
            "2022-09-15 14:33:26,537 INFO     Training average negative_sample_loss at step 100: 0.129627\n",
            "2022-09-15 14:33:26,538 INFO     Training average loss at step 100: 1.811606\n",
            "2022-09-15 14:33:26,538 INFO     Evaluating on Valid Dataset...\n",
            "2022-09-15 14:33:26,646 INFO     Evaluating the model... (0/82)\n",
            "2022-09-15 14:33:27,335 INFO     Valid MRR at step 100: 0.458460\n",
            "2022-09-15 14:33:27,335 INFO     Valid MR at step 100: 40.113671\n",
            "2022-09-15 14:33:27,336 INFO     Valid HITS@1 at step 100: 0.367896\n",
            "2022-09-15 14:33:27,336 INFO     Valid HITS@3 at step 100: 0.496928\n",
            "2022-09-15 14:33:27,336 INFO     Valid HITS@10 at step 100: 0.619048\n",
            "2022-09-15 14:33:28,040 INFO     Evaluating on Valid Dataset...\n",
            "2022-09-15 14:33:28,141 INFO     Evaluating the model... (0/82)\n",
            "2022-09-15 14:33:28,837 INFO     Valid MRR at step 150: 0.446333\n",
            "2022-09-15 14:33:28,838 INFO     Valid MR at step 150: 35.149002\n",
            "2022-09-15 14:33:28,838 INFO     Valid HITS@1 at step 150: 0.351767\n",
            "2022-09-15 14:33:28,838 INFO     Valid HITS@3 at step 150: 0.485407\n",
            "2022-09-15 14:33:28,840 INFO     Valid HITS@10 at step 150: 0.619048\n",
            "2022-09-15 14:33:29,681 INFO     Training average positive_sample_loss at step 200: 2.507188\n",
            "2022-09-15 14:33:29,685 INFO     Training average negative_sample_loss at step 200: 0.113807\n",
            "2022-09-15 14:33:29,686 INFO     Training average loss at step 200: 1.310498\n",
            "2022-09-15 14:33:29,686 INFO     Evaluating on Valid Dataset...\n",
            "2022-09-15 14:33:29,812 INFO     Evaluating the model... (0/82)\n",
            "2022-09-15 14:33:30,531 INFO     Valid MRR at step 200: 0.421428\n",
            "2022-09-15 14:33:30,531 INFO     Valid MR at step 200: 38.278034\n",
            "2022-09-15 14:33:30,531 INFO     Valid HITS@1 at step 200: 0.319508\n",
            "2022-09-15 14:33:30,532 INFO     Valid HITS@3 at step 200: 0.459293\n",
            "2022-09-15 14:33:30,532 INFO     Valid HITS@10 at step 200: 0.615207\n",
            "2022-09-15 14:33:31,479 INFO     Evaluating on Valid Dataset...\n",
            "2022-09-15 14:33:31,589 INFO     Evaluating the model... (0/82)\n",
            "2022-09-15 14:33:32,294 INFO     Valid MRR at step 250: 0.426337\n",
            "2022-09-15 14:33:32,295 INFO     Valid MR at step 250: 46.875576\n",
            "2022-09-15 14:33:32,295 INFO     Valid HITS@1 at step 250: 0.331029\n",
            "2022-09-15 14:33:32,295 INFO     Valid HITS@3 at step 250: 0.465438\n",
            "2022-09-15 14:33:32,295 INFO     Valid HITS@10 at step 250: 0.612135\n",
            "2022-09-15 14:33:33,091 INFO     Training average positive_sample_loss at step 300: 2.720614\n",
            "2022-09-15 14:33:33,091 INFO     Training average negative_sample_loss at step 300: 0.100940\n",
            "2022-09-15 14:33:33,091 INFO     Training average loss at step 300: 1.410777\n",
            "2022-09-15 14:33:33,092 INFO     Evaluating on Valid Dataset...\n",
            "2022-09-15 14:33:33,191 INFO     Evaluating the model... (0/82)\n",
            "2022-09-15 14:33:33,907 INFO     Valid MRR at step 300: 0.449666\n",
            "2022-09-15 14:33:33,907 INFO     Valid MR at step 300: 34.650538\n",
            "2022-09-15 14:33:33,907 INFO     Valid HITS@1 at step 300: 0.352535\n",
            "2022-09-15 14:33:33,907 INFO     Valid HITS@3 at step 300: 0.493088\n",
            "2022-09-15 14:33:33,908 INFO     Valid HITS@10 at step 300: 0.622120\n",
            "2022-09-15 14:33:34,654 INFO     Evaluating on Valid Dataset...\n",
            "2022-09-15 14:33:34,752 INFO     Evaluating the model... (0/82)\n",
            "2022-09-15 14:33:35,465 INFO     Valid MRR at step 350: 0.452508\n",
            "2022-09-15 14:33:35,466 INFO     Valid MR at step 350: 37.216590\n",
            "2022-09-15 14:33:35,466 INFO     Valid HITS@1 at step 350: 0.352535\n",
            "2022-09-15 14:33:35,466 INFO     Valid HITS@3 at step 350: 0.491551\n",
            "2022-09-15 14:33:35,466 INFO     Valid HITS@10 at step 350: 0.640553\n",
            "2022-09-15 14:33:36,359 INFO     Training average positive_sample_loss at step 400: 2.623764\n",
            "2022-09-15 14:33:36,360 INFO     Training average negative_sample_loss at step 400: 0.105946\n",
            "2022-09-15 14:33:36,367 INFO     Training average loss at step 400: 1.364855\n",
            "2022-09-15 14:33:36,368 INFO     Evaluating on Valid Dataset...\n",
            "2022-09-15 14:33:36,477 INFO     Evaluating the model... (0/82)\n",
            "2022-09-15 14:33:37,178 INFO     Valid MRR at step 400: 0.417402\n",
            "2022-09-15 14:33:37,178 INFO     Valid MR at step 400: 34.543779\n",
            "2022-09-15 14:33:37,178 INFO     Valid HITS@1 at step 400: 0.304916\n",
            "2022-09-15 14:33:37,179 INFO     Valid HITS@3 at step 400: 0.476190\n",
            "2022-09-15 14:33:37,179 INFO     Valid HITS@10 at step 400: 0.620584\n",
            "2022-09-15 14:33:38,158 INFO     Evaluating on Valid Dataset...\n",
            "2022-09-15 14:33:38,270 INFO     Evaluating the model... (0/82)\n",
            "2022-09-15 14:33:38,959 INFO     Valid MRR at step 450: 0.457330\n",
            "2022-09-15 14:33:38,960 INFO     Valid MR at step 450: 34.735791\n",
            "2022-09-15 14:33:38,960 INFO     Valid HITS@1 at step 450: 0.359447\n",
            "2022-09-15 14:33:38,960 INFO     Valid HITS@3 at step 450: 0.505376\n",
            "2022-09-15 14:33:38,960 INFO     Valid HITS@10 at step 450: 0.644393\n",
            "2022-09-15 14:33:39,716 INFO     Training average positive_sample_loss at step 500: 2.626784\n",
            "2022-09-15 14:33:39,717 INFO     Training average negative_sample_loss at step 500: 0.101617\n",
            "2022-09-15 14:33:39,717 INFO     Training average loss at step 500: 1.364200\n",
            "2022-09-15 14:33:39,717 INFO     Evaluating on Valid Dataset...\n",
            "2022-09-15 14:33:39,808 INFO     Evaluating the model... (0/82)\n",
            "2022-09-15 14:33:40,496 INFO     Valid MRR at step 500: 0.424660\n",
            "2022-09-15 14:33:40,496 INFO     Valid MR at step 500: 32.982335\n",
            "2022-09-15 14:33:40,497 INFO     Valid HITS@1 at step 500: 0.331797\n",
            "2022-09-15 14:33:40,497 INFO     Valid HITS@3 at step 500: 0.456989\n",
            "2022-09-15 14:33:40,497 INFO     Valid HITS@10 at step 500: 0.604455\n",
            "2022-09-15 14:33:41,251 INFO     Evaluating on Valid Dataset...\n",
            "2022-09-15 14:33:41,346 INFO     Evaluating the model... (0/82)\n",
            "2022-09-15 14:33:42,036 INFO     Valid MRR at step 550: 0.455684\n",
            "2022-09-15 14:33:42,036 INFO     Valid MR at step 550: 29.456221\n",
            "2022-09-15 14:33:42,036 INFO     Valid HITS@1 at step 550: 0.359447\n",
            "2022-09-15 14:33:42,036 INFO     Valid HITS@3 at step 550: 0.492320\n",
            "2022-09-15 14:33:42,037 INFO     Valid HITS@10 at step 550: 0.630568\n",
            "2022-09-15 14:33:42,921 INFO     Training average positive_sample_loss at step 600: 2.636724\n",
            "2022-09-15 14:33:42,923 INFO     Training average negative_sample_loss at step 600: 0.104065\n",
            "2022-09-15 14:33:42,928 INFO     Training average loss at step 600: 1.370394\n",
            "2022-09-15 14:33:42,929 INFO     Evaluating on Valid Dataset...\n",
            "2022-09-15 14:33:43,071 INFO     Evaluating the model... (0/82)\n",
            "2022-09-15 14:33:43,758 INFO     Valid MRR at step 600: 0.423528\n",
            "2022-09-15 14:33:43,759 INFO     Valid MR at step 600: 35.503840\n",
            "2022-09-15 14:33:43,759 INFO     Valid HITS@1 at step 600: 0.328725\n",
            "2022-09-15 14:33:43,759 INFO     Valid HITS@3 at step 600: 0.466206\n",
            "2022-09-15 14:33:43,759 INFO     Valid HITS@10 at step 600: 0.605223\n",
            "2022-09-15 14:33:44,710 INFO     Evaluating on Valid Dataset...\n",
            "2022-09-15 14:33:44,812 INFO     Evaluating the model... (0/82)\n",
            "2022-09-15 14:33:45,524 INFO     Valid MRR at step 650: 0.439545\n",
            "2022-09-15 14:33:45,524 INFO     Valid MR at step 650: 38.162826\n",
            "2022-09-15 14:33:45,524 INFO     Valid HITS@1 at step 650: 0.341782\n",
            "2022-09-15 14:33:45,524 INFO     Valid HITS@3 at step 650: 0.476959\n",
            "2022-09-15 14:33:45,524 INFO     Valid HITS@10 at step 650: 0.627496\n",
            "2022-09-15 14:33:46,283 INFO     Training average positive_sample_loss at step 700: 2.753240\n",
            "2022-09-15 14:33:46,283 INFO     Training average negative_sample_loss at step 700: 0.100522\n",
            "2022-09-15 14:33:46,283 INFO     Training average loss at step 700: 1.426881\n",
            "2022-09-15 14:33:46,284 INFO     Evaluating on Valid Dataset...\n",
            "2022-09-15 14:33:46,393 INFO     Evaluating the model... (0/82)\n",
            "2022-09-15 14:33:47,076 INFO     Valid MRR at step 700: 0.469651\n",
            "2022-09-15 14:33:47,076 INFO     Valid MR at step 700: 35.807220\n",
            "2022-09-15 14:33:47,076 INFO     Valid HITS@1 at step 700: 0.387865\n",
            "2022-09-15 14:33:47,076 INFO     Valid HITS@3 at step 700: 0.495392\n",
            "2022-09-15 14:33:47,076 INFO     Valid HITS@10 at step 700: 0.632873\n",
            "2022-09-15 14:33:47,780 INFO     Evaluating on Valid Dataset...\n",
            "2022-09-15 14:33:47,877 INFO     Evaluating the model... (0/82)\n",
            "2022-09-15 14:33:48,566 INFO     Valid MRR at step 750: 0.436386\n",
            "2022-09-15 14:33:48,566 INFO     Valid MR at step 750: 36.481567\n",
            "2022-09-15 14:33:48,566 INFO     Valid HITS@1 at step 750: 0.341782\n",
            "2022-09-15 14:33:48,566 INFO     Valid HITS@3 at step 750: 0.475422\n",
            "2022-09-15 14:33:48,566 INFO     Valid HITS@10 at step 750: 0.622120\n",
            "2022-09-15 14:33:49,440 INFO     Training average positive_sample_loss at step 800: 2.737635\n",
            "2022-09-15 14:33:49,446 INFO     Training average negative_sample_loss at step 800: 0.096570\n",
            "2022-09-15 14:33:49,447 INFO     Training average loss at step 800: 1.417103\n",
            "2022-09-15 14:33:49,447 INFO     Evaluating on Valid Dataset...\n",
            "2022-09-15 14:33:49,546 INFO     Evaluating the model... (0/82)\n",
            "2022-09-15 14:33:50,239 INFO     Valid MRR at step 800: 0.443744\n",
            "2022-09-15 14:33:50,240 INFO     Valid MR at step 800: 36.321813\n",
            "2022-09-15 14:33:50,240 INFO     Valid HITS@1 at step 800: 0.367127\n",
            "2022-09-15 14:33:50,240 INFO     Valid HITS@3 at step 800: 0.460829\n",
            "2022-09-15 14:33:50,240 INFO     Valid HITS@10 at step 800: 0.596006\n",
            "2022-09-15 14:33:51,191 INFO     Evaluating on Valid Dataset...\n",
            "2022-09-15 14:33:51,295 INFO     Evaluating the model... (0/82)\n",
            "2022-09-15 14:33:52,001 INFO     Valid MRR at step 850: 0.443795\n",
            "2022-09-15 14:33:52,001 INFO     Valid MR at step 850: 36.099846\n",
            "2022-09-15 14:33:52,002 INFO     Valid HITS@1 at step 850: 0.346390\n",
            "2022-09-15 14:33:52,002 INFO     Valid HITS@3 at step 850: 0.487711\n",
            "2022-09-15 14:33:52,002 INFO     Valid HITS@10 at step 850: 0.631336\n",
            "2022-09-15 14:33:52,768 INFO     Training average positive_sample_loss at step 900: 2.721102\n",
            "2022-09-15 14:33:52,768 INFO     Training average negative_sample_loss at step 900: 0.102114\n",
            "2022-09-15 14:33:52,768 INFO     Training average loss at step 900: 1.411608\n",
            "2022-09-15 14:33:52,769 INFO     Evaluating on Valid Dataset...\n",
            "2022-09-15 14:33:52,878 INFO     Evaluating the model... (0/82)\n",
            "2022-09-15 14:33:53,578 INFO     Valid MRR at step 900: 0.458013\n",
            "2022-09-15 14:33:53,578 INFO     Valid MR at step 900: 35.042243\n",
            "2022-09-15 14:33:53,578 INFO     Valid HITS@1 at step 900: 0.374040\n",
            "2022-09-15 14:33:53,578 INFO     Valid HITS@3 at step 900: 0.481567\n",
            "2022-09-15 14:33:53,579 INFO     Valid HITS@10 at step 900: 0.638249\n",
            "2022-09-15 14:33:54,281 INFO     Evaluating on Valid Dataset...\n",
            "2022-09-15 14:33:54,374 INFO     Evaluating the model... (0/82)\n",
            "2022-09-15 14:33:55,083 INFO     Valid MRR at step 950: 0.446135\n",
            "2022-09-15 14:33:55,084 INFO     Valid MR at step 950: 32.680492\n",
            "2022-09-15 14:33:55,084 INFO     Valid HITS@1 at step 950: 0.355607\n",
            "2022-09-15 14:33:55,084 INFO     Valid HITS@3 at step 950: 0.473886\n",
            "2022-09-15 14:33:55,084 INFO     Valid HITS@10 at step 950: 0.627496\n",
            "2022-09-15 14:33:55,954 INFO     Training average positive_sample_loss at step 1000: 2.752555\n",
            "2022-09-15 14:33:55,960 INFO     Training average negative_sample_loss at step 1000: 0.101159\n",
            "2022-09-15 14:33:55,960 INFO     Training average loss at step 1000: 1.426857\n",
            "2022-09-15 14:33:55,961 INFO     Evaluating on Valid Dataset...\n",
            "2022-09-15 14:33:56,071 INFO     Evaluating the model... (0/82)\n",
            "2022-09-15 14:33:56,767 INFO     Valid MRR at step 1000: 0.437722\n",
            "2022-09-15 14:33:56,767 INFO     Valid MR at step 1000: 33.593702\n",
            "2022-09-15 14:33:56,767 INFO     Valid HITS@1 at step 1000: 0.350998\n",
            "2022-09-15 14:33:56,767 INFO     Valid HITS@3 at step 1000: 0.462366\n",
            "2022-09-15 14:33:56,768 INFO     Valid HITS@10 at step 1000: 0.613671\n",
            "2022-09-15 14:33:57,710 INFO     Evaluating on Valid Dataset...\n",
            "2022-09-15 14:33:57,815 INFO     Evaluating the model... (0/82)\n",
            "2022-09-15 14:33:58,538 INFO     Valid MRR at step 1050: 0.421411\n",
            "2022-09-15 14:33:58,538 INFO     Valid MR at step 1050: 42.473886\n",
            "2022-09-15 14:33:58,539 INFO     Valid HITS@1 at step 1050: 0.327957\n",
            "2022-09-15 14:33:58,539 INFO     Valid HITS@3 at step 1050: 0.455453\n",
            "2022-09-15 14:33:58,539 INFO     Valid HITS@10 at step 1050: 0.618280\n",
            "2022-09-15 14:33:59,319 INFO     Training average positive_sample_loss at step 1100: 2.888867\n",
            "2022-09-15 14:33:59,319 INFO     Training average negative_sample_loss at step 1100: 0.094453\n",
            "2022-09-15 14:33:59,320 INFO     Training average loss at step 1100: 1.491660\n",
            "2022-09-15 14:33:59,320 INFO     Evaluating on Valid Dataset...\n",
            "2022-09-15 14:33:59,415 INFO     Evaluating the model... (0/82)\n",
            "2022-09-15 14:34:00,117 INFO     Valid MRR at step 1100: 0.405532\n",
            "2022-09-15 14:34:00,118 INFO     Valid MR at step 1100: 38.764977\n",
            "2022-09-15 14:34:00,118 INFO     Valid HITS@1 at step 1100: 0.302611\n",
            "2022-09-15 14:34:00,118 INFO     Valid HITS@3 at step 1100: 0.453149\n",
            "2022-09-15 14:34:00,118 INFO     Valid HITS@10 at step 1100: 0.589862\n",
            "2022-09-15 14:34:00,872 INFO     Evaluating on Valid Dataset...\n",
            "2022-09-15 14:34:00,961 INFO     Evaluating the model... (0/82)\n",
            "2022-09-15 14:34:01,675 INFO     Valid MRR at step 1150: 0.436629\n",
            "2022-09-15 14:34:01,675 INFO     Valid MR at step 1150: 36.824885\n",
            "2022-09-15 14:34:01,676 INFO     Valid HITS@1 at step 1150: 0.349462\n",
            "2022-09-15 14:34:01,676 INFO     Valid HITS@3 at step 1150: 0.464670\n",
            "2022-09-15 14:34:01,676 INFO     Valid HITS@10 at step 1150: 0.609831\n",
            "2022-09-15 14:34:02,542 INFO     Training average positive_sample_loss at step 1200: 2.704560\n",
            "2022-09-15 14:34:02,546 INFO     Training average negative_sample_loss at step 1200: 0.102748\n",
            "2022-09-15 14:34:02,547 INFO     Training average loss at step 1200: 1.403654\n",
            "2022-09-15 14:34:02,547 INFO     Evaluating on Valid Dataset...\n",
            "2022-09-15 14:34:02,656 INFO     Evaluating the model... (0/82)\n",
            "2022-09-15 14:34:03,364 INFO     Valid MRR at step 1200: 0.423424\n",
            "2022-09-15 14:34:03,365 INFO     Valid MR at step 1200: 32.989247\n",
            "2022-09-15 14:34:03,365 INFO     Valid HITS@1 at step 1200: 0.328725\n",
            "2022-09-15 14:34:03,365 INFO     Valid HITS@3 at step 1200: 0.453149\n",
            "2022-09-15 14:34:03,365 INFO     Valid HITS@10 at step 1200: 0.615975\n",
            "2022-09-15 14:34:04,378 INFO     Evaluating on Valid Dataset...\n",
            "2022-09-15 14:34:04,476 INFO     Evaluating the model... (0/82)\n",
            "2022-09-15 14:34:05,183 INFO     Valid MRR at step 1250: 0.427399\n",
            "2022-09-15 14:34:05,183 INFO     Valid MR at step 1250: 35.313364\n",
            "2022-09-15 14:34:05,183 INFO     Valid HITS@1 at step 1250: 0.328725\n",
            "2022-09-15 14:34:05,184 INFO     Valid HITS@3 at step 1250: 0.467742\n",
            "2022-09-15 14:34:05,184 INFO     Valid HITS@10 at step 1250: 0.621352\n",
            "2022-09-15 14:34:05,951 INFO     Training average positive_sample_loss at step 1300: 2.798158\n",
            "2022-09-15 14:34:05,951 INFO     Training average negative_sample_loss at step 1300: 0.095676\n",
            "2022-09-15 14:34:05,952 INFO     Training average loss at step 1300: 1.446917\n",
            "2022-09-15 14:34:05,952 INFO     Evaluating on Valid Dataset...\n",
            "2022-09-15 14:34:06,051 INFO     Evaluating the model... (0/82)\n",
            "2022-09-15 14:34:06,746 INFO     Valid MRR at step 1300: 0.443589\n",
            "2022-09-15 14:34:06,746 INFO     Valid MR at step 1300: 30.493088\n",
            "2022-09-15 14:34:06,747 INFO     Valid HITS@1 at step 1300: 0.348694\n",
            "2022-09-15 14:34:06,747 INFO     Valid HITS@3 at step 1300: 0.475422\n",
            "2022-09-15 14:34:06,747 INFO     Valid HITS@10 at step 1300: 0.637481\n",
            "2022-09-15 14:34:07,463 INFO     Evaluating on Valid Dataset...\n",
            "2022-09-15 14:34:07,572 INFO     Evaluating the model... (0/82)\n",
            "2022-09-15 14:34:08,270 INFO     Valid MRR at step 1350: 0.446554\n",
            "2022-09-15 14:34:08,271 INFO     Valid MR at step 1350: 33.616743\n",
            "2022-09-15 14:34:08,271 INFO     Valid HITS@1 at step 1350: 0.350998\n",
            "2022-09-15 14:34:08,271 INFO     Valid HITS@3 at step 1350: 0.490015\n",
            "2022-09-15 14:34:08,271 INFO     Valid HITS@10 at step 1350: 0.632873\n",
            "2022-09-15 14:34:09,133 INFO     Training average positive_sample_loss at step 1400: 2.759903\n",
            "2022-09-15 14:34:09,139 INFO     Training average negative_sample_loss at step 1400: 0.101860\n",
            "2022-09-15 14:34:09,144 INFO     Training average loss at step 1400: 1.430881\n",
            "2022-09-15 14:34:09,144 INFO     Evaluating on Valid Dataset...\n",
            "2022-09-15 14:34:09,243 INFO     Evaluating the model... (0/82)\n",
            "2022-09-15 14:34:09,952 INFO     Valid MRR at step 1400: 0.420761\n",
            "2022-09-15 14:34:09,952 INFO     Valid MR at step 1400: 36.517665\n",
            "2022-09-15 14:34:09,952 INFO     Valid HITS@1 at step 1400: 0.327189\n",
            "2022-09-15 14:34:09,953 INFO     Valid HITS@3 at step 1400: 0.443164\n",
            "2022-09-15 14:34:09,953 INFO     Valid HITS@10 at step 1400: 0.620584\n",
            "2022-09-15 14:34:10,928 INFO     Evaluating on Valid Dataset...\n",
            "2022-09-15 14:34:11,131 INFO     Evaluating the model... (0/82)\n",
            "2022-09-15 14:34:12,124 INFO     Valid MRR at step 1450: 0.415868\n",
            "2022-09-15 14:34:12,125 INFO     Valid MR at step 1450: 42.480031\n",
            "2022-09-15 14:34:12,125 INFO     Valid HITS@1 at step 1450: 0.320276\n",
            "2022-09-15 14:34:12,126 INFO     Valid HITS@3 at step 1450: 0.460829\n",
            "2022-09-15 14:34:12,126 INFO     Valid HITS@10 at step 1450: 0.603687\n",
            "2022-09-15 14:34:13,137 INFO     Training average positive_sample_loss at step 1500: 2.774732\n",
            "2022-09-15 14:34:13,137 INFO     Training average negative_sample_loss at step 1500: 0.103800\n",
            "2022-09-15 14:34:13,138 INFO     Training average loss at step 1500: 1.439266\n",
            "2022-09-15 14:34:13,138 INFO     Evaluating on Valid Dataset...\n",
            "2022-09-15 14:34:13,246 INFO     Evaluating the model... (0/82)\n",
            "2022-09-15 14:34:13,938 INFO     Valid MRR at step 1500: 0.436407\n",
            "2022-09-15 14:34:13,939 INFO     Valid MR at step 1500: 35.521505\n",
            "2022-09-15 14:34:13,939 INFO     Valid HITS@1 at step 1500: 0.343318\n",
            "2022-09-15 14:34:13,939 INFO     Valid HITS@3 at step 1500: 0.473118\n",
            "2022-09-15 14:34:13,939 INFO     Valid HITS@10 at step 1500: 0.629032\n",
            "2022-09-15 14:34:14,648 INFO     Evaluating on Valid Dataset...\n",
            "2022-09-15 14:34:14,744 INFO     Evaluating the model... (0/82)\n",
            "2022-09-15 14:34:15,445 INFO     Valid MRR at step 1550: 0.437199\n",
            "2022-09-15 14:34:15,446 INFO     Valid MR at step 1550: 39.619048\n",
            "2022-09-15 14:34:15,446 INFO     Valid HITS@1 at step 1550: 0.341782\n",
            "2022-09-15 14:34:15,446 INFO     Valid HITS@3 at step 1550: 0.475422\n",
            "2022-09-15 14:34:15,446 INFO     Valid HITS@10 at step 1550: 0.611367\n",
            "2022-09-15 14:34:16,281 INFO     Training average positive_sample_loss at step 1600: 2.827247\n",
            "2022-09-15 14:34:16,281 INFO     Training average negative_sample_loss at step 1600: 0.101463\n",
            "2022-09-15 14:34:16,282 INFO     Training average loss at step 1600: 1.464355\n",
            "2022-09-15 14:34:16,282 INFO     Evaluating on Valid Dataset...\n",
            "2022-09-15 14:34:16,416 INFO     Evaluating the model... (0/82)\n",
            "2022-09-15 14:34:17,118 INFO     Valid MRR at step 1600: 0.451657\n",
            "2022-09-15 14:34:17,118 INFO     Valid MR at step 1600: 36.157450\n",
            "2022-09-15 14:34:17,119 INFO     Valid HITS@1 at step 1600: 0.365591\n",
            "2022-09-15 14:34:17,119 INFO     Valid HITS@3 at step 1600: 0.486175\n",
            "2022-09-15 14:34:17,119 INFO     Valid HITS@10 at step 1600: 0.612903\n",
            "2022-09-15 14:34:18,076 INFO     Evaluating on Valid Dataset...\n",
            "2022-09-15 14:34:18,172 INFO     Evaluating the model... (0/82)\n",
            "2022-09-15 14:34:18,862 INFO     Valid MRR at step 1650: 0.455804\n",
            "2022-09-15 14:34:18,863 INFO     Valid MR at step 1650: 34.708141\n",
            "2022-09-15 14:34:18,863 INFO     Valid HITS@1 at step 1650: 0.366359\n",
            "2022-09-15 14:34:18,863 INFO     Valid HITS@3 at step 1650: 0.489247\n",
            "2022-09-15 14:34:18,863 INFO     Valid HITS@10 at step 1650: 0.639017\n",
            "2022-09-15 14:34:19,627 INFO     Training average positive_sample_loss at step 1700: 2.790673\n",
            "2022-09-15 14:34:19,628 INFO     Training average negative_sample_loss at step 1700: 0.106652\n",
            "2022-09-15 14:34:19,628 INFO     Training average loss at step 1700: 1.448663\n",
            "2022-09-15 14:34:19,628 INFO     Evaluating on Valid Dataset...\n",
            "2022-09-15 14:34:19,726 INFO     Evaluating the model... (0/82)\n",
            "2022-09-15 14:34:20,417 INFO     Valid MRR at step 1700: 0.447837\n",
            "2022-09-15 14:34:20,417 INFO     Valid MR at step 1700: 33.399386\n",
            "2022-09-15 14:34:20,418 INFO     Valid HITS@1 at step 1700: 0.357143\n",
            "2022-09-15 14:34:20,418 INFO     Valid HITS@3 at step 1700: 0.480799\n",
            "2022-09-15 14:34:20,418 INFO     Valid HITS@10 at step 1700: 0.629032\n",
            "2022-09-15 14:34:21,160 INFO     Evaluating on Valid Dataset...\n",
            "2022-09-15 14:34:21,265 INFO     Evaluating the model... (0/82)\n",
            "2022-09-15 14:34:21,956 INFO     Valid MRR at step 1750: 0.427686\n",
            "2022-09-15 14:34:21,956 INFO     Valid MR at step 1750: 37.120584\n",
            "2022-09-15 14:34:21,956 INFO     Valid HITS@1 at step 1750: 0.332565\n",
            "2022-09-15 14:34:21,956 INFO     Valid HITS@3 at step 1750: 0.458525\n",
            "2022-09-15 14:34:21,957 INFO     Valid HITS@10 at step 1750: 0.607527\n",
            "2022-09-15 14:34:22,791 INFO     Training average positive_sample_loss at step 1800: 2.625323\n",
            "2022-09-15 14:34:22,792 INFO     Training average negative_sample_loss at step 1800: 0.102984\n",
            "2022-09-15 14:34:22,792 INFO     Training average loss at step 1800: 1.364153\n",
            "2022-09-15 14:34:22,792 INFO     Evaluating on Valid Dataset...\n",
            "2022-09-15 14:34:22,930 INFO     Evaluating the model... (0/82)\n",
            "2022-09-15 14:34:23,617 INFO     Valid MRR at step 1800: 0.454279\n",
            "2022-09-15 14:34:23,617 INFO     Valid MR at step 1800: 32.000000\n",
            "2022-09-15 14:34:23,618 INFO     Valid HITS@1 at step 1800: 0.366359\n",
            "2022-09-15 14:34:23,618 INFO     Valid HITS@3 at step 1800: 0.490015\n",
            "2022-09-15 14:34:23,618 INFO     Valid HITS@10 at step 1800: 0.631336\n",
            "2022-09-15 14:34:24,569 INFO     Evaluating on Valid Dataset...\n",
            "2022-09-15 14:34:24,682 INFO     Evaluating the model... (0/82)\n",
            "2022-09-15 14:34:25,363 INFO     Valid MRR at step 1850: 0.421425\n",
            "2022-09-15 14:34:25,363 INFO     Valid MR at step 1850: 38.593702\n",
            "2022-09-15 14:34:25,363 INFO     Valid HITS@1 at step 1850: 0.320276\n",
            "2022-09-15 14:34:25,363 INFO     Valid HITS@3 at step 1850: 0.464670\n",
            "2022-09-15 14:34:25,363 INFO     Valid HITS@10 at step 1850: 0.623656\n",
            "2022-09-15 14:34:26,132 INFO     Training average positive_sample_loss at step 1900: 2.813178\n",
            "2022-09-15 14:34:26,134 INFO     Training average negative_sample_loss at step 1900: 0.100025\n",
            "2022-09-15 14:34:26,136 INFO     Training average loss at step 1900: 1.456602\n",
            "2022-09-15 14:34:26,137 INFO     Evaluating on Valid Dataset...\n",
            "2022-09-15 14:34:26,236 INFO     Evaluating the model... (0/82)\n",
            "2022-09-15 14:34:26,937 INFO     Valid MRR at step 1900: 0.411514\n",
            "2022-09-15 14:34:26,937 INFO     Valid MR at step 1900: 35.354839\n",
            "2022-09-15 14:34:26,938 INFO     Valid HITS@1 at step 1900: 0.314132\n",
            "2022-09-15 14:34:26,938 INFO     Valid HITS@3 at step 1900: 0.447773\n",
            "2022-09-15 14:34:26,938 INFO     Valid HITS@10 at step 1900: 0.601382\n",
            "2022-09-15 14:34:27,641 INFO     Evaluating on Valid Dataset...\n",
            "2022-09-15 14:34:27,742 INFO     Evaluating the model... (0/82)\n",
            "2022-09-15 14:34:28,430 INFO     Valid MRR at step 1950: 0.412133\n",
            "2022-09-15 14:34:28,430 INFO     Valid MR at step 1950: 37.620584\n",
            "2022-09-15 14:34:28,431 INFO     Valid HITS@1 at step 1950: 0.313364\n",
            "2022-09-15 14:34:28,431 INFO     Valid HITS@3 at step 1950: 0.450077\n",
            "2022-09-15 14:34:28,431 INFO     Valid HITS@10 at step 1950: 0.609831\n",
            "2022-09-15 14:34:29,310 INFO     Training average positive_sample_loss at step 2000: 2.732808\n",
            "2022-09-15 14:34:29,310 INFO     Training average negative_sample_loss at step 2000: 0.103340\n",
            "2022-09-15 14:34:29,310 INFO     Training average loss at step 2000: 1.418074\n",
            "2022-09-15 14:34:29,311 INFO     Evaluating on Valid Dataset...\n",
            "2022-09-15 14:34:29,409 INFO     Evaluating the model... (0/82)\n",
            "2022-09-15 14:34:30,097 INFO     Valid MRR at step 2000: 0.425854\n",
            "2022-09-15 14:34:30,097 INFO     Valid MR at step 2000: 37.121352\n",
            "2022-09-15 14:34:30,098 INFO     Valid HITS@1 at step 2000: 0.335637\n",
            "2022-09-15 14:34:30,098 INFO     Valid HITS@3 at step 2000: 0.460061\n",
            "2022-09-15 14:34:30,098 INFO     Valid HITS@10 at step 2000: 0.606759\n",
            "2022-09-15 14:34:31,031 INFO     Evaluating on Valid Dataset...\n",
            "2022-09-15 14:34:31,142 INFO     Evaluating the model... (0/82)\n",
            "2022-09-15 14:34:31,834 INFO     Valid MRR at step 2050: 0.441561\n",
            "2022-09-15 14:34:31,835 INFO     Valid MR at step 2050: 36.041475\n",
            "2022-09-15 14:34:31,835 INFO     Valid HITS@1 at step 2050: 0.345622\n",
            "2022-09-15 14:34:31,835 INFO     Valid HITS@3 at step 2050: 0.482335\n",
            "2022-09-15 14:34:31,835 INFO     Valid HITS@10 at step 2050: 0.629032\n",
            "2022-09-15 14:34:32,602 INFO     Training average positive_sample_loss at step 2100: 2.729407\n",
            "2022-09-15 14:34:32,603 INFO     Training average negative_sample_loss at step 2100: 0.104446\n",
            "2022-09-15 14:34:32,603 INFO     Training average loss at step 2100: 1.416927\n",
            "2022-09-15 14:34:32,603 INFO     Evaluating on Valid Dataset...\n",
            "2022-09-15 14:34:32,704 INFO     Evaluating the model... (0/82)\n",
            "2022-09-15 14:34:33,390 INFO     Valid MRR at step 2100: 0.460940\n",
            "2022-09-15 14:34:33,390 INFO     Valid MR at step 2100: 32.289555\n",
            "2022-09-15 14:34:33,390 INFO     Valid HITS@1 at step 2100: 0.367896\n",
            "2022-09-15 14:34:33,390 INFO     Valid HITS@3 at step 2100: 0.496928\n",
            "2022-09-15 14:34:33,390 INFO     Valid HITS@10 at step 2100: 0.643625\n",
            "2022-09-15 14:34:34,104 INFO     Evaluating on Valid Dataset...\n",
            "2022-09-15 14:34:34,213 INFO     Evaluating the model... (0/82)\n",
            "2022-09-15 14:34:34,918 INFO     Valid MRR at step 2150: 0.461081\n",
            "2022-09-15 14:34:34,918 INFO     Valid MR at step 2150: 30.671275\n",
            "2022-09-15 14:34:34,918 INFO     Valid HITS@1 at step 2150: 0.363287\n",
            "2022-09-15 14:34:34,918 INFO     Valid HITS@3 at step 2150: 0.504608\n",
            "2022-09-15 14:34:34,919 INFO     Valid HITS@10 at step 2150: 0.649770\n",
            "2022-09-15 14:34:35,774 INFO     Training average positive_sample_loss at step 2200: 2.629561\n",
            "2022-09-15 14:34:35,779 INFO     Training average negative_sample_loss at step 2200: 0.107218\n",
            "2022-09-15 14:34:35,779 INFO     Training average loss at step 2200: 1.368390\n",
            "2022-09-15 14:34:35,779 INFO     Evaluating on Valid Dataset...\n",
            "2022-09-15 14:34:35,886 INFO     Evaluating the model... (0/82)\n",
            "2022-09-15 14:34:36,580 INFO     Valid MRR at step 2200: 0.449501\n",
            "2022-09-15 14:34:36,581 INFO     Valid MR at step 2200: 33.008449\n",
            "2022-09-15 14:34:36,581 INFO     Valid HITS@1 at step 2200: 0.346390\n",
            "2022-09-15 14:34:36,581 INFO     Valid HITS@3 at step 2200: 0.499232\n",
            "2022-09-15 14:34:36,581 INFO     Valid HITS@10 at step 2200: 0.640553\n",
            "2022-09-15 14:34:37,531 INFO     Evaluating on Valid Dataset...\n",
            "2022-09-15 14:34:37,628 INFO     Evaluating the model... (0/82)\n",
            "2022-09-15 14:34:38,338 INFO     Valid MRR at step 2250: 0.413058\n",
            "2022-09-15 14:34:38,339 INFO     Valid MR at step 2250: 36.912442\n",
            "2022-09-15 14:34:38,339 INFO     Valid HITS@1 at step 2250: 0.317204\n",
            "2022-09-15 14:34:38,339 INFO     Valid HITS@3 at step 2250: 0.447773\n",
            "2022-09-15 14:34:38,339 INFO     Valid HITS@10 at step 2250: 0.600614\n",
            "2022-09-15 14:34:39,122 INFO     Training average positive_sample_loss at step 2300: 2.783388\n",
            "2022-09-15 14:34:39,123 INFO     Training average negative_sample_loss at step 2300: 0.099834\n",
            "2022-09-15 14:34:39,123 INFO     Training average loss at step 2300: 1.441611\n",
            "2022-09-15 14:34:39,123 INFO     Evaluating on Valid Dataset...\n",
            "2022-09-15 14:34:39,233 INFO     Evaluating the model... (0/82)\n",
            "2022-09-15 14:34:39,922 INFO     Valid MRR at step 2300: 0.441444\n",
            "2022-09-15 14:34:39,922 INFO     Valid MR at step 2300: 37.965438\n",
            "2022-09-15 14:34:39,922 INFO     Valid HITS@1 at step 2300: 0.347158\n",
            "2022-09-15 14:34:39,922 INFO     Valid HITS@3 at step 2300: 0.486943\n",
            "2022-09-15 14:34:39,922 INFO     Valid HITS@10 at step 2300: 0.616743\n",
            "2022-09-15 14:34:40,627 INFO     Evaluating on Valid Dataset...\n",
            "2022-09-15 14:34:40,730 INFO     Evaluating the model... (0/82)\n",
            "2022-09-15 14:34:41,504 INFO     Valid MRR at step 2350: 0.437887\n",
            "2022-09-15 14:34:41,504 INFO     Valid MR at step 2350: 34.515361\n",
            "2022-09-15 14:34:41,504 INFO     Valid HITS@1 at step 2350: 0.341014\n",
            "2022-09-15 14:34:41,504 INFO     Valid HITS@3 at step 2350: 0.475422\n",
            "2022-09-15 14:34:41,504 INFO     Valid HITS@10 at step 2350: 0.625192\n",
            "2022-09-15 14:34:42,402 INFO     Training average positive_sample_loss at step 2400: 2.750207\n",
            "2022-09-15 14:34:42,408 INFO     Training average negative_sample_loss at step 2400: 0.102542\n",
            "2022-09-15 14:34:42,410 INFO     Training average loss at step 2400: 1.426375\n",
            "2022-09-15 14:34:42,410 INFO     Evaluating on Valid Dataset...\n",
            "2022-09-15 14:34:42,521 INFO     Evaluating the model... (0/82)\n",
            "2022-09-15 14:34:43,210 INFO     Valid MRR at step 2400: 0.410015\n",
            "2022-09-15 14:34:43,211 INFO     Valid MR at step 2400: 33.188172\n",
            "2022-09-15 14:34:43,211 INFO     Valid HITS@1 at step 2400: 0.314132\n",
            "2022-09-15 14:34:43,211 INFO     Valid HITS@3 at step 2400: 0.442396\n",
            "2022-09-15 14:34:43,211 INFO     Valid HITS@10 at step 2400: 0.602919\n",
            "2022-09-15 14:34:44,148 INFO     Evaluating on Valid Dataset...\n",
            "2022-09-15 14:34:44,260 INFO     Evaluating the model... (0/82)\n",
            "2022-09-15 14:34:44,957 INFO     Valid MRR at step 2450: 0.457152\n",
            "2022-09-15 14:34:44,957 INFO     Valid MR at step 2450: 30.797235\n",
            "2022-09-15 14:34:44,957 INFO     Valid HITS@1 at step 2450: 0.364823\n",
            "2022-09-15 14:34:44,958 INFO     Valid HITS@3 at step 2450: 0.489247\n",
            "2022-09-15 14:34:44,958 INFO     Valid HITS@10 at step 2450: 0.632104\n",
            "2022-09-15 14:34:45,751 INFO     Change learning_rate to 0.005000 at step 2500\n",
            "2022-09-15 14:34:45,752 INFO     Training average positive_sample_loss at step 2500: 2.748423\n",
            "2022-09-15 14:34:45,752 INFO     Training average negative_sample_loss at step 2500: 0.101426\n",
            "2022-09-15 14:34:45,753 INFO     Training average loss at step 2500: 1.424924\n",
            "2022-09-15 14:34:45,753 INFO     Evaluating on Valid Dataset...\n",
            "2022-09-15 14:34:45,854 INFO     Evaluating the model... (0/82)\n",
            "2022-09-15 14:34:46,565 INFO     Valid MRR at step 2500: 0.411206\n",
            "2022-09-15 14:34:46,566 INFO     Valid MR at step 2500: 33.576805\n",
            "2022-09-15 14:34:46,566 INFO     Valid HITS@1 at step 2500: 0.324885\n",
            "2022-09-15 14:34:46,566 INFO     Valid HITS@3 at step 2500: 0.431644\n",
            "2022-09-15 14:34:46,566 INFO     Valid HITS@10 at step 2500: 0.592166\n",
            "2022-09-15 14:34:47,311 INFO     Evaluating on Valid Dataset...\n",
            "2022-09-15 14:34:47,411 INFO     Evaluating the model... (0/82)\n",
            "2022-09-15 14:34:48,102 INFO     Valid MRR at step 2550: 0.624236\n",
            "2022-09-15 14:34:48,102 INFO     Valid MR at step 2550: 15.460829\n",
            "2022-09-15 14:34:48,102 INFO     Valid HITS@1 at step 2550: 0.522273\n",
            "2022-09-15 14:34:48,102 INFO     Valid HITS@3 at step 2550: 0.681260\n",
            "2022-09-15 14:34:48,102 INFO     Valid HITS@10 at step 2550: 0.818740\n",
            "2022-09-15 14:34:48,954 INFO     Training average positive_sample_loss at step 2600: 0.810782\n",
            "2022-09-15 14:34:48,956 INFO     Training average negative_sample_loss at step 2600: 0.263358\n",
            "2022-09-15 14:34:48,960 INFO     Training average loss at step 2600: 0.537070\n",
            "2022-09-15 14:34:48,960 INFO     Evaluating on Valid Dataset...\n",
            "2022-09-15 14:34:49,105 INFO     Evaluating the model... (0/82)\n",
            "2022-09-15 14:34:49,818 INFO     Valid MRR at step 2600: 0.700538\n",
            "2022-09-15 14:34:49,818 INFO     Valid MR at step 2600: 9.811060\n",
            "2022-09-15 14:34:49,818 INFO     Valid HITS@1 at step 2600: 0.605991\n",
            "2022-09-15 14:34:49,818 INFO     Valid HITS@3 at step 2600: 0.758833\n",
            "2022-09-15 14:34:49,818 INFO     Valid HITS@10 at step 2600: 0.880952\n",
            "2022-09-15 14:34:50,774 INFO     Evaluating on Valid Dataset...\n",
            "2022-09-15 14:34:50,884 INFO     Evaluating the model... (0/82)\n",
            "2022-09-15 14:34:51,583 INFO     Valid MRR at step 2650: 0.710308\n",
            "2022-09-15 14:34:51,584 INFO     Valid MR at step 2650: 8.762673\n",
            "2022-09-15 14:34:51,584 INFO     Valid HITS@1 at step 2650: 0.612903\n",
            "2022-09-15 14:34:51,584 INFO     Valid HITS@3 at step 2650: 0.768049\n",
            "2022-09-15 14:34:51,584 INFO     Valid HITS@10 at step 2650: 0.894009\n",
            "2022-09-15 14:34:52,344 INFO     Training average positive_sample_loss at step 2700: 0.251393\n",
            "2022-09-15 14:34:52,345 INFO     Training average negative_sample_loss at step 2700: 0.180881\n",
            "2022-09-15 14:34:52,345 INFO     Training average loss at step 2700: 0.216137\n",
            "2022-09-15 14:34:52,345 INFO     Evaluating on Valid Dataset...\n",
            "2022-09-15 14:34:52,462 INFO     Evaluating the model... (0/82)\n",
            "2022-09-15 14:34:53,151 INFO     Valid MRR at step 2700: 0.743445\n",
            "2022-09-15 14:34:53,152 INFO     Valid MR at step 2700: 8.261137\n",
            "2022-09-15 14:34:53,152 INFO     Valid HITS@1 at step 2700: 0.649002\n",
            "2022-09-15 14:34:53,152 INFO     Valid HITS@3 at step 2700: 0.811060\n",
            "2022-09-15 14:34:53,152 INFO     Valid HITS@10 at step 2700: 0.905530\n",
            "2022-09-15 14:34:53,879 INFO     Evaluating on Valid Dataset...\n",
            "2022-09-15 14:34:53,967 INFO     Evaluating the model... (0/82)\n",
            "2022-09-15 14:34:54,679 INFO     Valid MRR at step 2750: 0.747315\n",
            "2022-09-15 14:34:54,680 INFO     Valid MR at step 2750: 8.112135\n",
            "2022-09-15 14:34:54,680 INFO     Valid HITS@1 at step 2750: 0.645161\n",
            "2022-09-15 14:34:54,680 INFO     Valid HITS@3 at step 2750: 0.828725\n",
            "2022-09-15 14:34:54,680 INFO     Valid HITS@10 at step 2750: 0.907834\n",
            "2022-09-15 14:34:55,560 INFO     Training average positive_sample_loss at step 2800: 0.224999\n",
            "2022-09-15 14:34:55,562 INFO     Training average negative_sample_loss at step 2800: 0.151682\n",
            "2022-09-15 14:34:55,565 INFO     Training average loss at step 2800: 0.188341\n",
            "2022-09-15 14:34:55,565 INFO     Evaluating on Valid Dataset...\n",
            "2022-09-15 14:34:55,684 INFO     Evaluating the model... (0/82)\n",
            "2022-09-15 14:34:56,375 INFO     Valid MRR at step 2800: 0.747252\n",
            "2022-09-15 14:34:56,376 INFO     Valid MR at step 2800: 8.025346\n",
            "2022-09-15 14:34:56,376 INFO     Valid HITS@1 at step 2800: 0.653610\n",
            "2022-09-15 14:34:56,376 INFO     Valid HITS@3 at step 2800: 0.810292\n",
            "2022-09-15 14:34:56,376 INFO     Valid HITS@10 at step 2800: 0.909370\n",
            "2022-09-15 14:34:57,344 INFO     Evaluating on Valid Dataset...\n",
            "2022-09-15 14:34:57,449 INFO     Evaluating the model... (0/82)\n",
            "2022-09-15 14:34:58,158 INFO     Valid MRR at step 2850: 0.740170\n",
            "2022-09-15 14:34:58,158 INFO     Valid MR at step 2850: 7.900922\n",
            "2022-09-15 14:34:58,158 INFO     Valid HITS@1 at step 2850: 0.636713\n",
            "2022-09-15 14:34:58,158 INFO     Valid HITS@3 at step 2850: 0.817972\n",
            "2022-09-15 14:34:58,158 INFO     Valid HITS@10 at step 2850: 0.913210\n",
            "2022-09-15 14:34:58,922 INFO     Training average positive_sample_loss at step 2900: 0.212703\n",
            "2022-09-15 14:34:58,923 INFO     Training average negative_sample_loss at step 2900: 0.139334\n",
            "2022-09-15 14:34:58,923 INFO     Training average loss at step 2900: 0.176018\n",
            "2022-09-15 14:34:58,923 INFO     Evaluating on Valid Dataset...\n",
            "2022-09-15 14:34:59,028 INFO     Evaluating the model... (0/82)\n",
            "2022-09-15 14:34:59,759 INFO     Valid MRR at step 2900: 0.747168\n",
            "2022-09-15 14:34:59,759 INFO     Valid MR at step 2900: 7.827189\n",
            "2022-09-15 14:34:59,760 INFO     Valid HITS@1 at step 2900: 0.645929\n",
            "2022-09-15 14:34:59,760 INFO     Valid HITS@3 at step 2900: 0.824117\n",
            "2022-09-15 14:34:59,760 INFO     Valid HITS@10 at step 2900: 0.910906\n",
            "2022-09-15 14:35:00,473 INFO     Evaluating on Valid Dataset...\n",
            "2022-09-15 14:35:00,581 INFO     Evaluating the model... (0/82)\n",
            "2022-09-15 14:35:01,278 INFO     Valid MRR at step 2950: 0.744382\n",
            "2022-09-15 14:35:01,278 INFO     Valid MR at step 2950: 7.910138\n",
            "2022-09-15 14:35:01,278 INFO     Valid HITS@1 at step 2950: 0.638249\n",
            "2022-09-15 14:35:01,278 INFO     Valid HITS@3 at step 2950: 0.824117\n",
            "2022-09-15 14:35:01,278 INFO     Valid HITS@10 at step 2950: 0.914747\n",
            "2022-09-15 14:35:02,130 INFO     Training average positive_sample_loss at step 3000: 0.217992\n",
            "2022-09-15 14:35:02,135 INFO     Training average negative_sample_loss at step 3000: 0.136816\n",
            "2022-09-15 14:35:02,139 INFO     Training average loss at step 3000: 0.177404\n",
            "2022-09-15 14:35:02,142 INFO     Evaluating on Valid Dataset...\n",
            "2022-09-15 14:35:02,255 INFO     Evaluating the model... (0/82)\n",
            "2022-09-15 14:35:02,964 INFO     Valid MRR at step 3000: 0.748451\n",
            "2022-09-15 14:35:02,965 INFO     Valid MR at step 3000: 7.921659\n",
            "2022-09-15 14:35:02,965 INFO     Valid HITS@1 at step 3000: 0.644393\n",
            "2022-09-15 14:35:02,965 INFO     Valid HITS@3 at step 3000: 0.840246\n",
            "2022-09-15 14:35:02,965 INFO     Valid HITS@10 at step 3000: 0.918587\n",
            "2022-09-15 14:35:03,913 INFO     Evaluating on Valid Dataset...\n",
            "2022-09-15 14:35:04,025 INFO     Evaluating the model... (0/82)\n",
            "2022-09-15 14:35:04,759 INFO     Valid MRR at step 3050: 0.713665\n",
            "2022-09-15 14:35:04,759 INFO     Valid MR at step 3050: 8.172043\n",
            "2022-09-15 14:35:04,759 INFO     Valid HITS@1 at step 3050: 0.597542\n",
            "2022-09-15 14:35:04,760 INFO     Valid HITS@3 at step 3050: 0.802611\n",
            "2022-09-15 14:35:04,760 INFO     Valid HITS@10 at step 3050: 0.907066\n",
            "2022-09-15 14:35:05,519 INFO     Training average positive_sample_loss at step 3100: 0.212880\n",
            "2022-09-15 14:35:05,520 INFO     Training average negative_sample_loss at step 3100: 0.132746\n",
            "2022-09-15 14:35:05,520 INFO     Training average loss at step 3100: 0.172813\n",
            "2022-09-15 14:35:05,523 INFO     Evaluating on Valid Dataset...\n",
            "2022-09-15 14:35:05,634 INFO     Evaluating the model... (0/82)\n",
            "2022-09-15 14:35:06,319 INFO     Valid MRR at step 3100: 0.739480\n",
            "2022-09-15 14:35:06,319 INFO     Valid MR at step 3100: 8.143625\n",
            "2022-09-15 14:35:06,319 INFO     Valid HITS@1 at step 3100: 0.630568\n",
            "2022-09-15 14:35:06,319 INFO     Valid HITS@3 at step 3100: 0.831797\n",
            "2022-09-15 14:35:06,320 INFO     Valid HITS@10 at step 3100: 0.907834\n",
            "2022-09-15 14:35:07,041 INFO     Evaluating on Valid Dataset...\n",
            "2022-09-15 14:35:07,138 INFO     Evaluating the model... (0/82)\n",
            "2022-09-15 14:35:07,823 INFO     Valid MRR at step 3150: 0.732483\n",
            "2022-09-15 14:35:07,823 INFO     Valid MR at step 3150: 8.002304\n",
            "2022-09-15 14:35:07,824 INFO     Valid HITS@1 at step 3150: 0.620584\n",
            "2022-09-15 14:35:07,824 INFO     Valid HITS@3 at step 3150: 0.814900\n",
            "2022-09-15 14:35:07,824 INFO     Valid HITS@10 at step 3150: 0.920123\n",
            "2022-09-15 14:35:08,685 INFO     Training average positive_sample_loss at step 3200: 0.217710\n",
            "2022-09-15 14:35:08,700 INFO     Training average negative_sample_loss at step 3200: 0.133913\n",
            "2022-09-15 14:35:08,701 INFO     Training average loss at step 3200: 0.175812\n",
            "2022-09-15 14:35:08,701 INFO     Evaluating on Valid Dataset...\n",
            "2022-09-15 14:35:08,811 INFO     Evaluating the model... (0/82)\n",
            "2022-09-15 14:35:09,497 INFO     Valid MRR at step 3200: 0.739811\n",
            "2022-09-15 14:35:09,498 INFO     Valid MR at step 3200: 7.976959\n",
            "2022-09-15 14:35:09,498 INFO     Valid HITS@1 at step 3200: 0.635177\n",
            "2022-09-15 14:35:09,498 INFO     Valid HITS@3 at step 3200: 0.823349\n",
            "2022-09-15 14:35:09,498 INFO     Valid HITS@10 at step 3200: 0.916283\n",
            "2022-09-15 14:35:10,489 INFO     Evaluating on Valid Dataset...\n",
            "2022-09-15 14:35:10,595 INFO     Evaluating the model... (0/82)\n",
            "2022-09-15 14:35:11,291 INFO     Valid MRR at step 3250: 0.721730\n",
            "2022-09-15 14:35:11,291 INFO     Valid MR at step 3250: 8.508449\n",
            "2022-09-15 14:35:11,292 INFO     Valid HITS@1 at step 3250: 0.611367\n",
            "2022-09-15 14:35:11,292 INFO     Valid HITS@3 at step 3250: 0.809524\n",
            "2022-09-15 14:35:11,292 INFO     Valid HITS@10 at step 3250: 0.903994\n",
            "2022-09-15 14:35:12,065 INFO     Training average positive_sample_loss at step 3300: 0.215638\n",
            "2022-09-15 14:35:12,066 INFO     Training average negative_sample_loss at step 3300: 0.133506\n",
            "2022-09-15 14:35:12,067 INFO     Training average loss at step 3300: 0.174572\n",
            "2022-09-15 14:35:12,067 INFO     Evaluating on Valid Dataset...\n",
            "2022-09-15 14:35:12,168 INFO     Evaluating the model... (0/82)\n",
            "2022-09-15 14:35:12,867 INFO     Valid MRR at step 3300: 0.731265\n",
            "2022-09-15 14:35:12,867 INFO     Valid MR at step 3300: 8.357143\n",
            "2022-09-15 14:35:12,867 INFO     Valid HITS@1 at step 3300: 0.634409\n",
            "2022-09-15 14:35:12,867 INFO     Valid HITS@3 at step 3300: 0.796467\n",
            "2022-09-15 14:35:12,867 INFO     Valid HITS@10 at step 3300: 0.907834\n",
            "2022-09-15 14:35:13,590 INFO     Evaluating on Valid Dataset...\n",
            "2022-09-15 14:35:13,696 INFO     Evaluating the model... (0/82)\n",
            "2022-09-15 14:35:14,379 INFO     Valid MRR at step 3350: 0.751691\n",
            "2022-09-15 14:35:14,380 INFO     Valid MR at step 3350: 8.000000\n",
            "2022-09-15 14:35:14,380 INFO     Valid HITS@1 at step 3350: 0.650538\n",
            "2022-09-15 14:35:14,380 INFO     Valid HITS@3 at step 3350: 0.830261\n",
            "2022-09-15 14:35:14,380 INFO     Valid HITS@10 at step 3350: 0.917051\n",
            "2022-09-15 14:35:15,227 INFO     Training average positive_sample_loss at step 3400: 0.215949\n",
            "2022-09-15 14:35:15,228 INFO     Training average negative_sample_loss at step 3400: 0.132528\n",
            "2022-09-15 14:35:15,229 INFO     Training average loss at step 3400: 0.174239\n",
            "2022-09-15 14:35:15,229 INFO     Evaluating on Valid Dataset...\n",
            "2022-09-15 14:35:15,344 INFO     Evaluating the model... (0/82)\n",
            "2022-09-15 14:35:16,036 INFO     Valid MRR at step 3400: 0.716457\n",
            "2022-09-15 14:35:16,036 INFO     Valid MR at step 3400: 8.389401\n",
            "2022-09-15 14:35:16,037 INFO     Valid HITS@1 at step 3400: 0.599078\n",
            "2022-09-15 14:35:16,037 INFO     Valid HITS@3 at step 3400: 0.812596\n",
            "2022-09-15 14:35:16,037 INFO     Valid HITS@10 at step 3400: 0.903994\n",
            "2022-09-15 14:35:16,965 INFO     Evaluating on Valid Dataset...\n",
            "2022-09-15 14:35:17,073 INFO     Evaluating the model... (0/82)\n",
            "2022-09-15 14:35:17,761 INFO     Valid MRR at step 3450: 0.726364\n",
            "2022-09-15 14:35:17,761 INFO     Valid MR at step 3450: 8.381720\n",
            "2022-09-15 14:35:17,762 INFO     Valid HITS@1 at step 3450: 0.619048\n",
            "2022-09-15 14:35:17,762 INFO     Valid HITS@3 at step 3450: 0.804147\n",
            "2022-09-15 14:35:17,762 INFO     Valid HITS@10 at step 3450: 0.907834\n",
            "2022-09-15 14:35:18,539 INFO     Training average positive_sample_loss at step 3500: 0.216206\n",
            "2022-09-15 14:35:18,539 INFO     Training average negative_sample_loss at step 3500: 0.131701\n",
            "2022-09-15 14:35:18,540 INFO     Training average loss at step 3500: 0.173953\n",
            "2022-09-15 14:35:18,540 INFO     Evaluating on Valid Dataset...\n",
            "2022-09-15 14:35:18,642 INFO     Evaluating the model... (0/82)\n",
            "2022-09-15 14:35:19,332 INFO     Valid MRR at step 3500: 0.733421\n",
            "2022-09-15 14:35:19,332 INFO     Valid MR at step 3500: 8.386329\n",
            "2022-09-15 14:35:19,332 INFO     Valid HITS@1 at step 3500: 0.634409\n",
            "2022-09-15 14:35:19,332 INFO     Valid HITS@3 at step 3500: 0.802611\n",
            "2022-09-15 14:35:19,332 INFO     Valid HITS@10 at step 3500: 0.906298\n",
            "2022-09-15 14:35:20,044 INFO     Evaluating on Valid Dataset...\n",
            "2022-09-15 14:35:20,158 INFO     Evaluating the model... (0/82)\n",
            "2022-09-15 14:35:20,871 INFO     Valid MRR at step 3550: 0.725351\n",
            "2022-09-15 14:35:20,871 INFO     Valid MR at step 3550: 8.202765\n",
            "2022-09-15 14:35:20,871 INFO     Valid HITS@1 at step 3550: 0.612903\n",
            "2022-09-15 14:35:20,872 INFO     Valid HITS@3 at step 3550: 0.814132\n",
            "2022-09-15 14:35:20,872 INFO     Valid HITS@10 at step 3550: 0.913210\n",
            "2022-09-15 14:35:21,713 INFO     Training average positive_sample_loss at step 3600: 0.219001\n",
            "2022-09-15 14:35:21,713 INFO     Training average negative_sample_loss at step 3600: 0.130915\n",
            "2022-09-15 14:35:21,714 INFO     Training average loss at step 3600: 0.174958\n",
            "2022-09-15 14:35:21,714 INFO     Evaluating on Valid Dataset...\n",
            "2022-09-15 14:35:21,840 INFO     Evaluating the model... (0/82)\n",
            "2022-09-15 14:35:22,538 INFO     Valid MRR at step 3600: 0.738801\n",
            "2022-09-15 14:35:22,539 INFO     Valid MR at step 3600: 8.274194\n",
            "2022-09-15 14:35:22,539 INFO     Valid HITS@1 at step 3600: 0.636713\n",
            "2022-09-15 14:35:22,539 INFO     Valid HITS@3 at step 3600: 0.824117\n",
            "2022-09-15 14:35:22,539 INFO     Valid HITS@10 at step 3600: 0.914747\n",
            "2022-09-15 14:35:23,492 INFO     Evaluating on Valid Dataset...\n",
            "2022-09-15 14:35:23,591 INFO     Evaluating the model... (0/82)\n",
            "2022-09-15 14:35:24,279 INFO     Valid MRR at step 3650: 0.712103\n",
            "2022-09-15 14:35:24,279 INFO     Valid MR at step 3650: 8.677419\n",
            "2022-09-15 14:35:24,280 INFO     Valid HITS@1 at step 3650: 0.599078\n",
            "2022-09-15 14:35:24,280 INFO     Valid HITS@3 at step 3650: 0.799539\n",
            "2022-09-15 14:35:24,280 INFO     Valid HITS@10 at step 3650: 0.907066\n",
            "2022-09-15 14:35:25,049 INFO     Training average positive_sample_loss at step 3700: 0.217364\n",
            "2022-09-15 14:35:25,049 INFO     Training average negative_sample_loss at step 3700: 0.132811\n",
            "2022-09-15 14:35:25,050 INFO     Training average loss at step 3700: 0.175087\n",
            "2022-09-15 14:35:25,050 INFO     Evaluating on Valid Dataset...\n",
            "2022-09-15 14:35:25,144 INFO     Evaluating the model... (0/82)\n",
            "2022-09-15 14:35:25,852 INFO     Valid MRR at step 3700: 0.723481\n",
            "2022-09-15 14:35:25,852 INFO     Valid MR at step 3700: 8.603687\n",
            "2022-09-15 14:35:25,853 INFO     Valid HITS@1 at step 3700: 0.624424\n",
            "2022-09-15 14:35:25,853 INFO     Valid HITS@3 at step 3700: 0.796467\n",
            "2022-09-15 14:35:25,853 INFO     Valid HITS@10 at step 3700: 0.904762\n",
            "2022-09-15 14:35:26,572 INFO     Evaluating on Valid Dataset...\n",
            "2022-09-15 14:35:26,664 INFO     Evaluating the model... (0/82)\n",
            "2022-09-15 14:35:27,365 INFO     Valid MRR at step 3750: 0.735796\n",
            "2022-09-15 14:35:27,365 INFO     Valid MR at step 3750: 8.741167\n",
            "2022-09-15 14:35:27,366 INFO     Valid HITS@1 at step 3750: 0.633641\n",
            "2022-09-15 14:35:27,366 INFO     Valid HITS@3 at step 3750: 0.811060\n",
            "2022-09-15 14:35:27,366 INFO     Valid HITS@10 at step 3750: 0.911674\n",
            "2022-09-15 14:35:28,185 INFO     Training average positive_sample_loss at step 3800: 0.218890\n",
            "2022-09-15 14:35:28,190 INFO     Training average negative_sample_loss at step 3800: 0.131469\n",
            "2022-09-15 14:35:28,191 INFO     Training average loss at step 3800: 0.175180\n",
            "2022-09-15 14:35:28,191 INFO     Evaluating on Valid Dataset...\n",
            "2022-09-15 14:35:28,333 INFO     Evaluating the model... (0/82)\n",
            "2022-09-15 14:35:29,021 INFO     Valid MRR at step 3800: 0.706577\n",
            "2022-09-15 14:35:29,021 INFO     Valid MR at step 3800: 8.485407\n",
            "2022-09-15 14:35:29,021 INFO     Valid HITS@1 at step 3800: 0.593702\n",
            "2022-09-15 14:35:29,022 INFO     Valid HITS@3 at step 3800: 0.798771\n",
            "2022-09-15 14:35:29,022 INFO     Valid HITS@10 at step 3800: 0.916283\n",
            "2022-09-15 14:35:29,945 INFO     Evaluating on Valid Dataset...\n",
            "2022-09-15 14:35:30,062 INFO     Evaluating the model... (0/82)\n",
            "2022-09-15 14:35:30,764 INFO     Valid MRR at step 3850: 0.725567\n",
            "2022-09-15 14:35:30,764 INFO     Valid MR at step 3850: 8.735791\n",
            "2022-09-15 14:35:30,765 INFO     Valid HITS@1 at step 3850: 0.614439\n",
            "2022-09-15 14:35:30,765 INFO     Valid HITS@3 at step 3850: 0.821045\n",
            "2022-09-15 14:35:30,765 INFO     Valid HITS@10 at step 3850: 0.903994\n",
            "2022-09-15 14:35:31,535 INFO     Training average positive_sample_loss at step 3900: 0.220372\n",
            "2022-09-15 14:35:31,535 INFO     Training average negative_sample_loss at step 3900: 0.132077\n",
            "2022-09-15 14:35:31,536 INFO     Training average loss at step 3900: 0.176225\n",
            "2022-09-15 14:35:31,537 INFO     Evaluating on Valid Dataset...\n",
            "2022-09-15 14:35:31,629 INFO     Evaluating the model... (0/82)\n",
            "2022-09-15 14:35:32,321 INFO     Valid MRR at step 3900: 0.736316\n",
            "2022-09-15 14:35:32,321 INFO     Valid MR at step 3900: 8.672043\n",
            "2022-09-15 14:35:32,321 INFO     Valid HITS@1 at step 3900: 0.641321\n",
            "2022-09-15 14:35:32,322 INFO     Valid HITS@3 at step 3900: 0.808756\n",
            "2022-09-15 14:35:32,322 INFO     Valid HITS@10 at step 3900: 0.908602\n",
            "2022-09-15 14:35:33,045 INFO     Evaluating on Valid Dataset...\n",
            "2022-09-15 14:35:33,146 INFO     Evaluating the model... (0/82)\n",
            "2022-09-15 14:35:33,830 INFO     Valid MRR at step 3950: 0.717982\n",
            "2022-09-15 14:35:33,830 INFO     Valid MR at step 3950: 8.698157\n",
            "2022-09-15 14:35:33,830 INFO     Valid HITS@1 at step 3950: 0.602919\n",
            "2022-09-15 14:35:33,830 INFO     Valid HITS@3 at step 3950: 0.805684\n",
            "2022-09-15 14:35:33,830 INFO     Valid HITS@10 at step 3950: 0.913210\n",
            "2022-09-15 14:35:34,665 INFO     Training average positive_sample_loss at step 4000: 0.221082\n",
            "2022-09-15 14:35:34,671 INFO     Training average negative_sample_loss at step 4000: 0.132810\n",
            "2022-09-15 14:35:34,673 INFO     Training average loss at step 4000: 0.176946\n",
            "2022-09-15 14:35:34,674 INFO     Evaluating on Valid Dataset...\n",
            "2022-09-15 14:35:34,802 INFO     Evaluating the model... (0/82)\n",
            "2022-09-15 14:35:35,524 INFO     Valid MRR at step 4000: 0.706263\n",
            "2022-09-15 14:35:35,524 INFO     Valid MR at step 4000: 8.556068\n",
            "2022-09-15 14:35:35,525 INFO     Valid HITS@1 at step 4000: 0.589094\n",
            "2022-09-15 14:35:35,525 INFO     Valid HITS@3 at step 4000: 0.788786\n",
            "2022-09-15 14:35:35,525 INFO     Valid HITS@10 at step 4000: 0.910138\n",
            "2022-09-15 14:35:36,489 INFO     Evaluating on Valid Dataset...\n",
            "2022-09-15 14:35:36,599 INFO     Evaluating the model... (0/82)\n",
            "2022-09-15 14:35:37,286 INFO     Valid MRR at step 4050: 0.713145\n",
            "2022-09-15 14:35:37,286 INFO     Valid MR at step 4050: 8.806452\n",
            "2022-09-15 14:35:37,286 INFO     Valid HITS@1 at step 4050: 0.609063\n",
            "2022-09-15 14:35:37,286 INFO     Valid HITS@3 at step 4050: 0.785714\n",
            "2022-09-15 14:35:37,286 INFO     Valid HITS@10 at step 4050: 0.910906\n",
            "2022-09-15 14:35:38,052 INFO     Training average positive_sample_loss at step 4100: 0.220734\n",
            "2022-09-15 14:35:38,053 INFO     Training average negative_sample_loss at step 4100: 0.130639\n",
            "2022-09-15 14:35:38,053 INFO     Training average loss at step 4100: 0.175686\n",
            "2022-09-15 14:35:38,054 INFO     Evaluating on Valid Dataset...\n",
            "2022-09-15 14:35:38,153 INFO     Evaluating the model... (0/82)\n",
            "2022-09-15 14:35:38,857 INFO     Valid MRR at step 4100: 0.706180\n",
            "2022-09-15 14:35:38,857 INFO     Valid MR at step 4100: 8.974654\n",
            "2022-09-15 14:35:38,857 INFO     Valid HITS@1 at step 4100: 0.592166\n",
            "2022-09-15 14:35:38,857 INFO     Valid HITS@3 at step 4100: 0.787250\n",
            "2022-09-15 14:35:38,858 INFO     Valid HITS@10 at step 4100: 0.906298\n",
            "2022-09-15 14:35:39,561 INFO     Evaluating on Valid Dataset...\n",
            "2022-09-15 14:35:39,659 INFO     Evaluating the model... (0/82)\n",
            "2022-09-15 14:35:40,354 INFO     Valid MRR at step 4150: 0.734575\n",
            "2022-09-15 14:35:40,355 INFO     Valid MR at step 4150: 8.400922\n",
            "2022-09-15 14:35:40,355 INFO     Valid HITS@1 at step 4150: 0.627496\n",
            "2022-09-15 14:35:40,355 INFO     Valid HITS@3 at step 4150: 0.814900\n",
            "2022-09-15 14:35:40,355 INFO     Valid HITS@10 at step 4150: 0.912442\n",
            "2022-09-15 14:35:41,195 INFO     Training average positive_sample_loss at step 4200: 0.223775\n",
            "2022-09-15 14:35:41,203 INFO     Training average negative_sample_loss at step 4200: 0.133005\n",
            "2022-09-15 14:35:41,205 INFO     Training average loss at step 4200: 0.178390\n",
            "2022-09-15 14:35:41,206 INFO     Evaluating on Valid Dataset...\n",
            "2022-09-15 14:35:41,353 INFO     Evaluating the model... (0/82)\n",
            "2022-09-15 14:35:42,059 INFO     Valid MRR at step 4200: 0.707810\n",
            "2022-09-15 14:35:42,060 INFO     Valid MR at step 4200: 8.688940\n",
            "2022-09-15 14:35:42,060 INFO     Valid HITS@1 at step 4200: 0.593702\n",
            "2022-09-15 14:35:42,060 INFO     Valid HITS@3 at step 4200: 0.785714\n",
            "2022-09-15 14:35:42,060 INFO     Valid HITS@10 at step 4200: 0.909370\n",
            "2022-09-15 14:35:43,049 INFO     Evaluating on Valid Dataset...\n",
            "2022-09-15 14:35:43,166 INFO     Evaluating the model... (0/82)\n",
            "2022-09-15 14:35:43,860 INFO     Valid MRR at step 4250: 0.704603\n",
            "2022-09-15 14:35:43,860 INFO     Valid MR at step 4250: 9.073733\n",
            "2022-09-15 14:35:43,860 INFO     Valid HITS@1 at step 4250: 0.592166\n",
            "2022-09-15 14:35:43,861 INFO     Valid HITS@3 at step 4250: 0.788786\n",
            "2022-09-15 14:35:43,861 INFO     Valid HITS@10 at step 4250: 0.904762\n",
            "2022-09-15 14:35:44,612 INFO     Training average positive_sample_loss at step 4300: 0.222193\n",
            "2022-09-15 14:35:44,612 INFO     Training average negative_sample_loss at step 4300: 0.132949\n",
            "2022-09-15 14:35:44,612 INFO     Training average loss at step 4300: 0.177571\n",
            "2022-09-15 14:35:44,613 INFO     Evaluating on Valid Dataset...\n",
            "2022-09-15 14:35:44,708 INFO     Evaluating the model... (0/82)\n",
            "2022-09-15 14:35:45,443 INFO     Valid MRR at step 4300: 0.711080\n",
            "2022-09-15 14:35:45,443 INFO     Valid MR at step 4300: 8.850230\n",
            "2022-09-15 14:35:45,443 INFO     Valid HITS@1 at step 4300: 0.596774\n",
            "2022-09-15 14:35:45,444 INFO     Valid HITS@3 at step 4300: 0.800307\n",
            "2022-09-15 14:35:45,444 INFO     Valid HITS@10 at step 4300: 0.906298\n",
            "2022-09-15 14:35:46,160 INFO     Evaluating on Valid Dataset...\n",
            "2022-09-15 14:35:46,250 INFO     Evaluating the model... (0/82)\n",
            "2022-09-15 14:35:46,942 INFO     Valid MRR at step 4350: 0.712305\n",
            "2022-09-15 14:35:46,943 INFO     Valid MR at step 4350: 8.629800\n",
            "2022-09-15 14:35:46,943 INFO     Valid HITS@1 at step 4350: 0.602151\n",
            "2022-09-15 14:35:46,943 INFO     Valid HITS@3 at step 4350: 0.796467\n",
            "2022-09-15 14:35:46,943 INFO     Valid HITS@10 at step 4350: 0.910138\n",
            "2022-09-15 14:35:47,817 INFO     Training average positive_sample_loss at step 4400: 0.223831\n",
            "2022-09-15 14:35:47,827 INFO     Training average negative_sample_loss at step 4400: 0.131875\n",
            "2022-09-15 14:35:47,828 INFO     Training average loss at step 4400: 0.177853\n",
            "2022-09-15 14:35:47,828 INFO     Evaluating on Valid Dataset...\n",
            "2022-09-15 14:35:47,942 INFO     Evaluating the model... (0/82)\n",
            "2022-09-15 14:35:48,642 INFO     Valid MRR at step 4400: 0.708373\n",
            "2022-09-15 14:35:48,642 INFO     Valid MR at step 4400: 8.864823\n",
            "2022-09-15 14:35:48,642 INFO     Valid HITS@1 at step 4400: 0.595238\n",
            "2022-09-15 14:35:48,642 INFO     Valid HITS@3 at step 4400: 0.798771\n",
            "2022-09-15 14:35:48,643 INFO     Valid HITS@10 at step 4400: 0.910906\n",
            "2022-09-15 14:35:49,583 INFO     Evaluating on Valid Dataset...\n",
            "2022-09-15 14:35:49,698 INFO     Evaluating the model... (0/82)\n",
            "2022-09-15 14:35:50,386 INFO     Valid MRR at step 4450: 0.728223\n",
            "2022-09-15 14:35:50,387 INFO     Valid MR at step 4450: 8.723502\n",
            "2022-09-15 14:35:50,387 INFO     Valid HITS@1 at step 4450: 0.625192\n",
            "2022-09-15 14:35:50,387 INFO     Valid HITS@3 at step 4450: 0.801075\n",
            "2022-09-15 14:35:50,387 INFO     Valid HITS@10 at step 4450: 0.903994\n",
            "2022-09-15 14:35:51,165 INFO     Training average positive_sample_loss at step 4500: 0.218969\n",
            "2022-09-15 14:35:51,165 INFO     Training average negative_sample_loss at step 4500: 0.131112\n",
            "2022-09-15 14:35:51,165 INFO     Training average loss at step 4500: 0.175040\n",
            "2022-09-15 14:35:51,166 INFO     Evaluating on Valid Dataset...\n",
            "2022-09-15 14:35:51,270 INFO     Evaluating the model... (0/82)\n",
            "2022-09-15 14:35:51,949 INFO     Valid MRR at step 4500: 0.733960\n",
            "2022-09-15 14:35:51,949 INFO     Valid MR at step 4500: 8.765745\n",
            "2022-09-15 14:35:51,950 INFO     Valid HITS@1 at step 4500: 0.637481\n",
            "2022-09-15 14:35:51,950 INFO     Valid HITS@3 at step 4500: 0.796467\n",
            "2022-09-15 14:35:51,950 INFO     Valid HITS@10 at step 4500: 0.912442\n",
            "2022-09-15 14:35:52,668 INFO     Evaluating on Valid Dataset...\n",
            "2022-09-15 14:35:52,770 INFO     Evaluating the model... (0/82)\n",
            "2022-09-15 14:35:53,487 INFO     Valid MRR at step 4550: 0.735762\n",
            "2022-09-15 14:35:53,487 INFO     Valid MR at step 4550: 8.610599\n",
            "2022-09-15 14:35:53,487 INFO     Valid HITS@1 at step 4550: 0.632104\n",
            "2022-09-15 14:35:53,488 INFO     Valid HITS@3 at step 4550: 0.826421\n",
            "2022-09-15 14:35:53,488 INFO     Valid HITS@10 at step 4550: 0.915515\n",
            "2022-09-15 14:35:54,310 INFO     Training average positive_sample_loss at step 4600: 0.219479\n",
            "2022-09-15 14:35:54,321 INFO     Training average negative_sample_loss at step 4600: 0.130789\n",
            "2022-09-15 14:35:54,321 INFO     Training average loss at step 4600: 0.175134\n",
            "2022-09-15 14:35:54,322 INFO     Evaluating on Valid Dataset...\n",
            "2022-09-15 14:35:54,470 INFO     Evaluating the model... (0/82)\n",
            "2022-09-15 14:35:55,166 INFO     Valid MRR at step 4600: 0.726422\n",
            "2022-09-15 14:35:55,167 INFO     Valid MR at step 4600: 8.767281\n",
            "2022-09-15 14:35:55,167 INFO     Valid HITS@1 at step 4600: 0.620584\n",
            "2022-09-15 14:35:55,167 INFO     Valid HITS@3 at step 4600: 0.798003\n",
            "2022-09-15 14:35:55,167 INFO     Valid HITS@10 at step 4600: 0.909370\n",
            "2022-09-15 14:35:56,111 INFO     Evaluating on Valid Dataset...\n",
            "2022-09-15 14:35:56,216 INFO     Evaluating the model... (0/82)\n",
            "2022-09-15 14:35:56,908 INFO     Valid MRR at step 4650: 0.724896\n",
            "2022-09-15 14:35:56,909 INFO     Valid MR at step 4650: 9.145929\n",
            "2022-09-15 14:35:56,909 INFO     Valid HITS@1 at step 4650: 0.632873\n",
            "2022-09-15 14:35:56,909 INFO     Valid HITS@3 at step 4650: 0.794163\n",
            "2022-09-15 14:35:56,909 INFO     Valid HITS@10 at step 4650: 0.894777\n",
            "2022-09-15 14:35:57,681 INFO     Training average positive_sample_loss at step 4700: 0.222729\n",
            "2022-09-15 14:35:57,681 INFO     Training average negative_sample_loss at step 4700: 0.131598\n",
            "2022-09-15 14:35:57,683 INFO     Training average loss at step 4700: 0.177163\n",
            "2022-09-15 14:35:57,683 INFO     Evaluating on Valid Dataset...\n",
            "2022-09-15 14:35:57,787 INFO     Evaluating the model... (0/82)\n",
            "2022-09-15 14:35:58,485 INFO     Valid MRR at step 4700: 0.749864\n",
            "2022-09-15 14:35:58,486 INFO     Valid MR at step 4700: 8.570661\n",
            "2022-09-15 14:35:58,486 INFO     Valid HITS@1 at step 4700: 0.653610\n",
            "2022-09-15 14:35:58,486 INFO     Valid HITS@3 at step 4700: 0.821813\n",
            "2022-09-15 14:35:58,486 INFO     Valid HITS@10 at step 4700: 0.914747\n",
            "2022-09-15 14:35:59,193 INFO     Evaluating on Valid Dataset...\n",
            "2022-09-15 14:35:59,293 INFO     Evaluating the model... (0/82)\n",
            "2022-09-15 14:36:00,039 INFO     Valid MRR at step 4750: 0.725191\n",
            "2022-09-15 14:36:00,039 INFO     Valid MR at step 4750: 8.802611\n",
            "2022-09-15 14:36:00,039 INFO     Valid HITS@1 at step 4750: 0.607527\n",
            "2022-09-15 14:36:00,039 INFO     Valid HITS@3 at step 4750: 0.822581\n",
            "2022-09-15 14:36:00,040 INFO     Valid HITS@10 at step 4750: 0.910138\n",
            "2022-09-15 14:36:00,906 INFO     Training average positive_sample_loss at step 4800: 0.221078\n",
            "2022-09-15 14:36:00,906 INFO     Training average negative_sample_loss at step 4800: 0.132718\n",
            "2022-09-15 14:36:00,906 INFO     Training average loss at step 4800: 0.176898\n",
            "2022-09-15 14:36:00,907 INFO     Evaluating on Valid Dataset...\n",
            "2022-09-15 14:36:01,011 INFO     Evaluating the model... (0/82)\n",
            "2022-09-15 14:36:01,706 INFO     Valid MRR at step 4800: 0.731713\n",
            "2022-09-15 14:36:01,707 INFO     Valid MR at step 4800: 8.658218\n",
            "2022-09-15 14:36:01,707 INFO     Valid HITS@1 at step 4800: 0.624424\n",
            "2022-09-15 14:36:01,707 INFO     Valid HITS@3 at step 4800: 0.816436\n",
            "2022-09-15 14:36:01,707 INFO     Valid HITS@10 at step 4800: 0.912442\n",
            "2022-09-15 14:36:02,665 INFO     Evaluating on Valid Dataset...\n",
            "2022-09-15 14:36:02,766 INFO     Evaluating the model... (0/82)\n",
            "2022-09-15 14:36:03,469 INFO     Valid MRR at step 4850: 0.722008\n",
            "2022-09-15 14:36:03,469 INFO     Valid MR at step 4850: 8.851767\n",
            "2022-09-15 14:36:03,469 INFO     Valid HITS@1 at step 4850: 0.612903\n",
            "2022-09-15 14:36:03,469 INFO     Valid HITS@3 at step 4850: 0.801843\n",
            "2022-09-15 14:36:03,469 INFO     Valid HITS@10 at step 4850: 0.910906\n",
            "2022-09-15 14:36:04,232 INFO     Training average positive_sample_loss at step 4900: 0.224249\n",
            "2022-09-15 14:36:04,233 INFO     Training average negative_sample_loss at step 4900: 0.133298\n",
            "2022-09-15 14:36:04,233 INFO     Training average loss at step 4900: 0.178774\n",
            "2022-09-15 14:36:04,233 INFO     Evaluating on Valid Dataset...\n",
            "2022-09-15 14:36:04,341 INFO     Evaluating the model... (0/82)\n",
            "2022-09-15 14:36:05,026 INFO     Valid MRR at step 4900: 0.711300\n",
            "2022-09-15 14:36:05,027 INFO     Valid MR at step 4900: 8.884025\n",
            "2022-09-15 14:36:05,027 INFO     Valid HITS@1 at step 4900: 0.596774\n",
            "2022-09-15 14:36:05,027 INFO     Valid HITS@3 at step 4900: 0.798003\n",
            "2022-09-15 14:36:05,027 INFO     Valid HITS@10 at step 4900: 0.910906\n",
            "2022-09-15 14:36:05,765 INFO     Evaluating on Valid Dataset...\n",
            "2022-09-15 14:36:05,863 INFO     Evaluating the model... (0/82)\n",
            "2022-09-15 14:36:06,564 INFO     Valid MRR at step 4950: 0.712760\n",
            "2022-09-15 14:36:06,564 INFO     Valid MR at step 4950: 8.909370\n",
            "2022-09-15 14:36:06,564 INFO     Valid HITS@1 at step 4950: 0.595238\n",
            "2022-09-15 14:36:06,564 INFO     Valid HITS@3 at step 4950: 0.795699\n",
            "2022-09-15 14:36:06,565 INFO     Valid HITS@10 at step 4950: 0.908602\n",
            "2022-09-15 14:36:07,303 INFO     Evaluating on Valid Dataset...\n",
            "2022-09-15 14:36:07,406 INFO     Evaluating the model... (0/82)\n",
            "2022-09-15 14:36:08,095 INFO     Valid MRR at step 4999: 0.728813\n",
            "2022-09-15 14:36:08,096 INFO     Valid MR at step 4999: 8.804916\n",
            "2022-09-15 14:36:08,096 INFO     Valid HITS@1 at step 4999: 0.628264\n",
            "2022-09-15 14:36:08,096 INFO     Valid HITS@3 at step 4999: 0.807988\n",
            "2022-09-15 14:36:08,096 INFO     Valid HITS@10 at step 4999: 0.913210\n",
            "2022-09-15 14:36:08,096 INFO     Evaluating on Test Dataset...\n",
            "2022-09-15 14:36:08,200 INFO     Evaluating the model... (0/82)\n",
            "2022-09-15 14:36:08,893 INFO     Test MRR at step 4999: 0.712067\n",
            "2022-09-15 14:36:08,893 INFO     Test MR at step 4999: 13.235791\n",
            "2022-09-15 14:36:08,893 INFO     Test HITS@1 at step 4999: 0.612135\n",
            "2022-09-15 14:36:08,893 INFO     Test HITS@3 at step 4999: 0.788018\n",
            "2022-09-15 14:36:08,894 INFO     Test HITS@10 at step 4999: 0.892473\n"
          ]
        }
      ]
    },
    {
      "cell_type": "code",
      "source": [
        "hits1, hits3, hits10, mr, mrr, loss = plot_logs('/content/drive/MyDrive/AI_Labor/KnowledgeGraphEmbedding/models/Task2_yamanishi_TransE/train.log')"
      ],
      "metadata": {
        "colab": {
          "base_uri": "https://localhost:8080/",
          "height": 499
        },
        "id": "ita0C4wcj-rl",
        "outputId": "f5280f62-00de-4db8-bd76-bb7524241d54"
      },
      "execution_count": 19,
      "outputs": [
        {
          "output_type": "display_data",
          "data": {
            "text/plain": [
              "<Figure size 1152x576 with 6 Axes>"
            ],
            "image/png": "[encoded data removed]"
          },
          "metadata": {
            "needs_background": "light"
          }
        }
      ]
    },
    {
      "cell_type": "markdown",
      "metadata": {
        "id": "rKHfeq-5p9F_"
      },
      "source": [
        "# Task 2"
      ]
    },
    {
      "cell_type": "markdown",
      "metadata": {
        "id": "ZxbVSvQthKBH"
      },
      "source": [
        "This cell copies the original data into a safe spot. This is important because we will change the data"
      ]
    },
    {
      "cell_type": "code",
      "execution_count": 7,
      "metadata": {
        "id": "jSdUp1MstYS4"
      },
      "outputs": [],
      "source": [
        "#run this cell to copy the original data into a safe file\n",
        "!cp /content/drive/MyDrive/AI_Labor/KnowledgeGraphEmbedding/data/yamanishi/train.txt /content/drive/MyDrive/AI_Labor/KnowledgeGraphEmbedding/data/yamanishi/original_train.txt\n",
        "!cp /content/drive/MyDrive/AI_Labor/KnowledgeGraphEmbedding/data/yamanishi/valid.txt /content/drive/MyDrive/AI_Labor/KnowledgeGraphEmbedding/data/yamanishi/original_valid.txt\n",
        "!cp /content/drive/MyDrive/AI_Labor/KnowledgeGraphEmbedding/data/yamanishi/test.txt /content/drive/MyDrive/AI_Labor/KnowledgeGraphEmbedding/data/yamanishi/original_test.txt"
      ]
    },
    {
      "cell_type": "markdown",
      "metadata": {
        "id": "AKgoWIwYhWAI"
      },
      "source": [
        "Below cell restores the original data. Run this cell whenever you want to restore the original data"
      ]
    },
    {
      "cell_type": "code",
      "execution_count": null,
      "metadata": {
        "id": "S2Eox5yft02j"
      },
      "outputs": [],
      "source": [
        "#run this cell to restore the original train-valid set of countries_S1\n",
        "!rm /content/KnowledgeGraphEmbedding/data/countries_S1/train.txt\n",
        "!rm /content/KnowledgeGraphEmbedding/data/countries_S1/valid.txt\n",
        "!rm /content/KnowledgeGraphEmbedding/data/countries_S1/test.txt\n",
        "\n",
        "!cp /content/KnowledgeGraphEmbedding/data/countries_S1/original_train.txt /content/KnowledgeGraphEmbedding/data/countries_S1/train.txt\n",
        "!cp /content/KnowledgeGraphEmbedding/data/countries_S1/original_valid.txt /content/KnowledgeGraphEmbedding/data/countries_S1/valid.txt\n",
        "!cp /content/KnowledgeGraphEmbedding/data/countries_S1/original_test.txt /content/KnowledgeGraphEmbedding/data/countries_S1/test.txt"
      ]
    },
    {
      "cell_type": "markdown",
      "metadata": {
        "id": "pRJLjYW_h46u"
      },
      "source": [
        "Take a look at the resulting data..."
      ]
    },
    {
      "cell_type": "code",
      "execution_count": 8,
      "metadata": {
        "colab": {
          "base_uri": "https://localhost:8080/"
        },
        "id": "MA6Hp6Fu_SiQ",
        "outputId": "71de1f49-8306-45a2-f081-7e255505fe63"
      },
      "outputs": [
        {
          "output_type": "stream",
          "name": "stdout",
          "text": [
            "            0              1         2\n",
            "3376   D01911       inhibits  hsa:7153\n",
            "3079  DB01201  interactsWith   DB00624\n",
            "453   DB00788       inhibits   hsa:242\n",
            "255    D00293       inhibits  hsa:2563\n",
            "5040   D03826       inhibits  hsa:1135\n",
            "\n",
            "\n",
            "\n",
            "\n",
            "              0              1        2\n",
            "count      5525           5525     5525\n",
            "unique      942              2      332\n",
            "top     DB01115  interactsWith  DB00783\n",
            "freq         58           3466      428\n"
          ]
        }
      ],
      "source": [
        "df = pd.read_csv(\"/content/drive/MyDrive/AI_Labor/KnowledgeGraphEmbedding/data/yamanishi/train.txt\", sep=\"\\t\", header=None)\n",
        "\n",
        "print(df.sample(5))\n",
        "print(\"\\n\\n\\n\")\n",
        "print(df.describe())"
      ]
    },
    {
      "cell_type": "markdown",
      "metadata": {
        "id": "vfSpezjUh6ks"
      },
      "source": [
        "Training..."
      ]
    },
    {
      "cell_type": "code",
      "execution_count": 9,
      "metadata": {
        "colab": {
          "base_uri": "https://localhost:8080/"
        },
        "id": "q-S50eukcruj",
        "outputId": "c85a4031-ca72-454b-b2be-1b9f22f75bd7"
      },
      "outputs": [
        {
          "output_type": "stream",
          "name": "stdout",
          "text": [
            "2022-09-15 07:33:30,324 INFO     Model: RotatE\n",
            "2022-09-15 07:33:30,325 INFO     Data Path: data/yamanishi\n",
            "2022-09-15 07:33:30,325 INFO     #entity: 1254\n",
            "2022-09-15 07:33:30,325 INFO     #relation: 2\n",
            "2022-09-15 07:33:30,332 INFO     #train: 5525\n",
            "2022-09-15 07:33:30,335 INFO     #valid: 1829\n",
            "2022-09-15 07:33:30,337 INFO     #test: 1832\n",
            "2022-09-15 07:33:30,339 INFO     Model Parameter Configuration:\n",
            "2022-09-15 07:33:30,339 INFO     Parameter gamma: torch.Size([1]), require_grad = False\n",
            "2022-09-15 07:33:30,339 INFO     Parameter embedding_range: torch.Size([1]), require_grad = False\n",
            "2022-09-15 07:33:30,339 INFO     Parameter entity_embedding: torch.Size([1254, 20]), require_grad = True\n",
            "2022-09-15 07:33:30,339 INFO     Parameter relation_embedding: torch.Size([2, 10]), require_grad = True\n",
            "/usr/local/lib/python3.7/dist-packages/torch/utils/data/dataloader.py:566: UserWarning: This DataLoader will create 5 worker processes in total. Our suggested max number of worker in current system is 2, which is smaller than what this DataLoader is going to create. Please be aware that excessive worker creation might get DataLoader running slow or even freeze, lower the worker number to avoid potential slowness/freeze if necessary.\n",
            "  cpuset_checked))\n",
            "2022-09-15 07:33:30,360 INFO     Ramdomly Initializing RotatE Model...\n",
            "2022-09-15 07:33:30,360 INFO     Start Training...\n",
            "2022-09-15 07:33:30,360 INFO     init_step = 0\n",
            "2022-09-15 07:33:30,361 INFO     batch_size = 20\n",
            "2022-09-15 07:33:30,361 INFO     negative_adversarial_sampling = 1\n",
            "2022-09-15 07:33:30,361 INFO     hidden_dim = 10\n",
            "2022-09-15 07:33:30,361 INFO     gamma = 6.000000\n",
            "2022-09-15 07:33:30,361 INFO     negative_adversarial_sampling = True\n",
            "2022-09-15 07:33:30,361 INFO     adversarial_temperature = 1.000000\n",
            "2022-09-15 07:33:30,361 INFO     learning_rate = 0\n",
            "2022-09-15 07:33:30,551 INFO     Training average positive_sample_loss at step 0: 2.839337\n",
            "2022-09-15 07:33:30,552 INFO     Training average negative_sample_loss at step 0: 0.280746\n",
            "2022-09-15 07:33:30,552 INFO     Training average loss at step 0: 1.560041\n",
            "2022-09-15 07:33:30,552 INFO     Evaluating on Valid Dataset...\n",
            "2022-09-15 07:33:30,741 INFO     Evaluating the model... (0/230)\n",
            "Traceback (most recent call last):\n",
            "  File \"codes/run.py\", line 363, in <module>\n",
            "    main(parse_args())\n",
            "  File \"codes/run.py\", line 337, in main\n",
            "    metrics = kge_model.test_step(kge_model, valid_triples, all_true_triples, args)\n",
            "  File \"/content/drive/MyDrive/AI_Labor/KnowledgeGraphEmbedding/codes/model.py\", line 385, in test_step\n",
            "    for positive_sample, negative_sample, filter_bias, mode in test_dataset:\n",
            "  File \"/usr/local/lib/python3.7/dist-packages/torch/utils/data/dataloader.py\", line 681, in __next__\n",
            "    data = self._next_data()\n",
            "  File \"/usr/local/lib/python3.7/dist-packages/torch/utils/data/dataloader.py\", line 1356, in _next_data\n",
            "    return self._process_data(data)\n",
            "  File \"/usr/local/lib/python3.7/dist-packages/torch/utils/data/dataloader.py\", line 1402, in _process_data\n",
            "    data.reraise()\n",
            "  File \"/usr/local/lib/python3.7/dist-packages/torch/_utils.py\", line 461, in reraise\n",
            "    raise exception\n",
            "IndexError: Caught IndexError in DataLoader worker process 0.\n",
            "Original Traceback (most recent call last):\n",
            "  File \"/usr/local/lib/python3.7/dist-packages/torch/utils/data/_utils/worker.py\", line 302, in _worker_loop\n",
            "    data = fetcher.fetch(index)\n",
            "  File \"/usr/local/lib/python3.7/dist-packages/torch/utils/data/_utils/fetch.py\", line 49, in fetch\n",
            "    data = [self.dataset[idx] for idx in possibly_batched_index]\n",
            "  File \"/usr/local/lib/python3.7/dist-packages/torch/utils/data/_utils/fetch.py\", line 49, in <listcomp>\n",
            "    data = [self.dataset[idx] for idx in possibly_batched_index]\n",
            "  File \"/content/drive/MyDrive/AI_Labor/KnowledgeGraphEmbedding/codes/dataloader.py\", line 141, in __getitem__\n",
            "    tmp[head] = (0, head)\n",
            "IndexError: list assignment index out of range\n",
            "\n"
          ]
        }
      ],
      "source": [
        "!CUDA_VISIBLE_DEVICES=0 python -u codes/run.py --do_train \\\n",
        " --do_valid \\\n",
        " --do_test \\\n",
        " --data_path data/yamanishi \\\n",
        " --model RotatE \\\n",
        " --valid_steps 10 \\\n",
        " -n 5 -b 20 -d 10 \\\n",
        " -g 6.0 -a 1.0 -adv \\\n",
        "-lr 0.05 --max_steps 500 \\\n",
        "-save models/Task2_yamanishi_RotatE --test_batch_size 16 -de"
      ]
    },
    {
      "cell_type": "markdown",
      "metadata": {
        "id": "9EZiNf54h7kY"
      },
      "source": [
        "Plotting..."
      ]
    },
    {
      "cell_type": "code",
      "execution_count": null,
      "metadata": {
        "colab": {
          "base_uri": "https://localhost:8080/",
          "height": 499
        },
        "id": "_QkjPxjmN1OA",
        "outputId": "5eb042bc-d861-41fd-b4b9-94ba531ac175"
      },
      "outputs": [
        {
          "data": {
            "image/png": "[encoded data removed]",
            "text/plain": [
              "<Figure size 1152x576 with 6 Axes>"
            ]
          },
          "metadata": {},
          "output_type": "display_data"
        }
      ],
      "source": [
        "hits1, hits3, hits10, mr, mrr, loss = plot_logs('/content/drive/MyDrive/AI_Labor/KnowledgeGraphEmbedding/models/Task2_yamanishi_RotatE/train.log')"
      ]
    },
    {
      "cell_type": "markdown",
      "metadata": {
        "id": "vZzdnJP2h9BE"
      },
      "source": [
        "Training..."
      ]
    },
    {
      "cell_type": "code",
      "execution_count": 18,
      "metadata": {
        "colab": {
          "base_uri": "https://localhost:8080/"
        },
        "id": "jHcYH8a3vbWp",
        "outputId": "929abf34-330c-432e-8f5f-8e37a693f1f3"
      },
      "outputs": [
        {
          "output_type": "stream",
          "name": "stdout",
          "text": [
            "2022-09-15 08:07:09,199 INFO     Model: TransE\n",
            "2022-09-15 08:07:09,199 INFO     Data Path: data/yamanishi\n",
            "2022-09-15 08:07:09,199 INFO     #entity: 1254\n",
            "2022-09-15 08:07:09,199 INFO     #relation: 2\n",
            "2022-09-15 08:07:09,205 INFO     #train: 5525\n",
            "2022-09-15 08:07:09,208 INFO     #valid: 1829\n",
            "2022-09-15 08:07:09,210 INFO     #test: 1832\n",
            "2022-09-15 08:07:09,212 INFO     Model Parameter Configuration:\n",
            "2022-09-15 08:07:09,212 INFO     Parameter gamma: torch.Size([1]), require_grad = False\n",
            "2022-09-15 08:07:09,212 INFO     Parameter embedding_range: torch.Size([1]), require_grad = False\n",
            "2022-09-15 08:07:09,212 INFO     Parameter entity_embedding: torch.Size([1254, 20]), require_grad = True\n",
            "2022-09-15 08:07:09,213 INFO     Parameter relation_embedding: torch.Size([2, 20]), require_grad = True\n",
            "/usr/local/lib/python3.7/dist-packages/torch/utils/data/dataloader.py:566: UserWarning: This DataLoader will create 5 worker processes in total. Our suggested max number of worker in current system is 2, which is smaller than what this DataLoader is going to create. Please be aware that excessive worker creation might get DataLoader running slow or even freeze, lower the worker number to avoid potential slowness/freeze if necessary.\n",
            "  cpuset_checked))\n",
            "2022-09-15 08:07:09,232 INFO     Ramdomly Initializing TransE Model...\n",
            "2022-09-15 08:07:09,232 INFO     Start Training...\n",
            "2022-09-15 08:07:09,233 INFO     init_step = 0\n",
            "2022-09-15 08:07:09,233 INFO     batch_size = 20\n",
            "2022-09-15 08:07:09,233 INFO     negative_adversarial_sampling = 1\n",
            "2022-09-15 08:07:09,233 INFO     hidden_dim = 20\n",
            "2022-09-15 08:07:09,233 INFO     gamma = 6.000000\n",
            "2022-09-15 08:07:09,233 INFO     negative_adversarial_sampling = True\n",
            "2022-09-15 08:07:09,233 INFO     adversarial_temperature = 1.000000\n",
            "2022-09-15 08:07:09,233 INFO     learning_rate = 0\n",
            "2022-09-15 08:07:09,375 INFO     Training average positive_sample_loss at step 0: 0.870739\n",
            "2022-09-15 08:07:09,375 INFO     Training average negative_sample_loss at step 0: 0.955333\n",
            "2022-09-15 08:07:09,375 INFO     Training average loss at step 0: 0.913036\n",
            "2022-09-15 08:07:09,375 INFO     Evaluating on Valid Dataset...\n",
            "662\n",
            "408\n",
            "724\n",
            "1081\n",
            "917\n",
            "601\n",
            "982\n",
            "432\n",
            "604\n",
            "364\n",
            "687\n",
            "526\n",
            "906\n",
            "1098\n",
            "351\n",
            "876\n",
            "1133\n",
            "642\n",
            "963\n",
            "502\n",
            "592\n",
            "434\n",
            "758\n",
            "912\n",
            "676\n",
            "843\n",
            "504\n",
            "1237\n",
            "1168\n",
            "406\n",
            "440\n",
            "1139\n",
            "671\n",
            "1194\n",
            "955\n",
            "551\n",
            "478\n",
            "827\n",
            "791\n",
            "1035\n",
            "800\n",
            "843\n",
            "438\n",
            "555\n",
            "421\n",
            "1207\n",
            "549\n",
            "484908\n",
            "\n",
            "498\n",
            "866\n",
            "732\n",
            "833\n",
            "919\n",
            "723\n",
            "427\n",
            "954\n",
            "1016\n",
            "578\n",
            "700\n",
            "1195\n",
            "570\n",
            "486\n",
            "1253\n",
            "704\n",
            "807\n",
            "626\n",
            "498\n",
            "469\n",
            "982\n",
            "1180\n",
            "502\n",
            "667\n",
            "426\n",
            "433\n",
            "909\n",
            "1164\n",
            "569\n",
            "789\n",
            "573\n",
            "424\n",
            "544\n",
            "1240\n",
            "742\n",
            "953\n",
            "762\n",
            "721\n",
            "407\n",
            "333\n",
            "756\n",
            "850\n",
            "340\n",
            "670\n",
            "1010\n",
            "445\n",
            "908\n",
            "528\n",
            "417\n",
            "1071\n",
            "1212\n",
            "1153\n",
            "502\n",
            "354\n",
            "1201\n",
            "940\n",
            "502\n",
            "725418\n",
            "\n",
            "844\n",
            "800\n",
            "594\n",
            "1245\n",
            "780\n",
            "1059\n",
            "903\n",
            "1031\n",
            "777\n",
            "11621053\n",
            "\n",
            "602457\n",
            "975\n",
            "864\n",
            "882\n",
            "445\n",
            "960\n",
            "1079\n",
            "658\n",
            "\n",
            "437\n",
            "682\n",
            "874\n",
            "504\n",
            "813\n",
            "1154\n",
            "804\n",
            "423\n",
            "1155\n",
            "481\n",
            "809\n",
            "879\n",
            "632\n",
            "1156\n",
            "362\n",
            "360\n",
            "346\n",
            "949\n",
            "981\n",
            "568\n",
            "382\n",
            "484\n",
            "948\n",
            "967\n",
            "1160\n",
            "344\n",
            "367\n",
            "1242\n",
            "502\n",
            "862\n",
            "1122\n",
            "418\n",
            "504\n",
            "569\n",
            "1261\n",
            "1088\n",
            "2022-09-15 08:07:09,509 INFO     Evaluating the model... (0/230)\n",
            "398\n",
            "947\n",
            "1081\n",
            "1032\n",
            "537\n",
            "987\n",
            "445\n",
            "461\n",
            "618\n",
            "1246\n",
            "343\n",
            "363\n",
            "806\n",
            "784\n",
            "689\n",
            "588\n",
            "452\n",
            "640\n",
            "1073\n",
            "498\n",
            "975\n",
            "632\n",
            "1054\n",
            "475\n",
            "938\n",
            "372\n",
            "1196\n",
            "531\n",
            "591\n",
            "1005\n",
            "884\n",
            "1051\n",
            "1088\n",
            "435\n",
            "353\n",
            "659\n",
            "368\n",
            "633\n",
            "904\n",
            "595\n",
            "542\n",
            "1034\n",
            "870\n",
            "670\n",
            "826\n",
            "688\n",
            "712\n",
            "504\n",
            "929\n",
            "981\n",
            "437\n",
            "1230\n",
            "694\n",
            "794\n",
            "868\n",
            "434\n",
            "909\n",
            "630\n",
            "389\n",
            "398\n",
            "996\n",
            "569\n",
            "432\n",
            "504\n",
            "848\n",
            "528\n",
            "923\n",
            "486\n",
            "485\n",
            "946\n",
            "636\n",
            "1221\n",
            "1144\n",
            "910\n",
            "597\n",
            "985\n",
            "692\n",
            "384\n",
            "955\n",
            "797\n",
            "619\n",
            "600\n",
            "437\n",
            "606\n",
            "379\n",
            "957\n",
            "1141\n",
            "524\n",
            "601\n",
            "529\n",
            "757\n",
            "1031\n",
            "1015\n",
            "465\n",
            "752\n",
            "1143\n",
            "1176\n",
            "762\n",
            "746\n",
            "341\n",
            "1019\n",
            "799\n",
            "878\n",
            "640\n",
            "854\n",
            "1052\n",
            "369\n",
            "607\n",
            "569\n",
            "422\n",
            "1222\n",
            "844\n",
            "542\n",
            "547\n",
            "406\n",
            "1033\n",
            "493\n",
            "1197\n",
            "824\n",
            "720\n",
            "1050\n",
            "1266\n",
            "484\n",
            "652\n",
            "485\n",
            "555\n",
            "351\n",
            "589\n",
            "860\n",
            "823\n",
            "656\n",
            "951\n",
            "1235\n",
            "434\n",
            "1045\n",
            "1153\n",
            "772\n",
            "701\n",
            "434\n",
            "420\n",
            "Traceback (most recent call last):\n",
            "  File \"codes/run.py\", line 363, in <module>\n",
            "564\n",
            "437\n",
            "    main(parse_args())\n",
            "  File \"codes/run.py\", line 337, in main\n",
            "656\n",
            "    metrics = kge_model.test_step(kge_model, valid_triples, all_true_triples, args)\n",
            "  File \"/content/drive/MyDrive/AI_Labor/KnowledgeGraphEmbedding/codes/model.py\", line 385, in test_step\n",
            "1163\n",
            "    for positive_sample, negative_sample, filter_bias, mode in test_dataset:\n",
            "  File \"/usr/local/lib/python3.7/dist-packages/torch/utils/data/dataloader.py\", line 681, in __next__\n",
            "705\n",
            "    data = self._next_data()\n",
            "  File \"/usr/local/lib/python3.7/dist-packages/torch/utils/data/dataloader.py\", line 1376, in _next_data\n",
            "    return self._process_data(data)\n",
            "  File \"/usr/local/lib/python3.7/dist-packages/torch/utils/data/dataloader.py\", line 1402, in _process_data\n",
            "546\n",
            "    data.reraise()\n",
            "  File \"/usr/local/lib/python3.7/dist-packages/torch/_utils.py\", line 461, in reraise\n",
            "    raise exception\n",
            "IndexError: Caught IndexError in DataLoader worker process 0.\n",
            "Original Traceback (most recent call last):\n",
            "  File \"/usr/local/lib/python3.7/dist-packages/torch/utils/data/_utils/worker.py\", line 302, in _worker_loop\n",
            "    data = fetcher.fetch(index)\n",
            "  File \"/usr/local/lib/python3.7/dist-packages/torch/utils/data/_utils/fetch.py\", line 49, in fetch\n",
            "    data = [self.dataset[idx] for idx in possibly_batched_index]\n",
            "  File \"/usr/local/lib/python3.7/dist-packages/torch/utils/data/_utils/fetch.py\", line 49, in <listcomp>\n",
            "    data = [self.dataset[idx] for idx in possibly_batched_index]\n",
            "  File \"/content/drive/MyDrive/AI_Labor/KnowledgeGraphEmbedding/codes/dataloader.py\", line 142, in __getitem__\n",
            "    tmp[head] = (0, head)\n",
            "IndexError: list assignment index out of range\n",
            "\n",
            "822\n",
            "569\n",
            "481\n",
            "538\n",
            "867\n",
            "624\n",
            "672\n",
            "687\n"
          ]
        }
      ],
      "source": [
        "!CUDA_VISIBLE_DEVICES=0 python -u codes/run.py --do_train \\\n",
        " --do_valid \\\n",
        " --do_test \\\n",
        " --data_path data/yamanishi \\\n",
        " --model TransE \\\n",
        " --valid_steps 50 \\\n",
        " -n 5 -b 20 -d 20 \\\n",
        " -g 6.0 -a 1.0 -adv \\\n",
        "-lr 0.05 --max_steps 1500 \\\n",
        "-save models/Task2_yamanishi_TransE --test_batch_size 16"
      ]
    },
    {
      "cell_type": "markdown",
      "metadata": {
        "id": "bFBjlDsOh_eq"
      },
      "source": [
        "Plotting..."
      ]
    },
    {
      "cell_type": "code",
      "execution_count": null,
      "metadata": {
        "colab": {
          "base_uri": "https://localhost:8080/",
          "height": 499
        },
        "id": "OQCJODYgOdXm",
        "outputId": "0cfabd67-4939-409f-f6f3-d85513f05cb9"
      },
      "outputs": [
        {
          "data": {
            "image/png": "[encoded data removed]",
            "text/plain": [
              "<Figure size 1152x576 with 6 Axes>"
            ]
          },
          "metadata": {},
          "output_type": "display_data"
        }
      ],
      "source": [
        "hits1, hits3, hits10, mr, mrr, loss = plot_logs('/content/drive/MyDrive/AI_Labor/KnowledgeGraphEmbedding/models/Task2_yamanishi_TransE/train.log')"
      ]
    },
    {
      "cell_type": "markdown",
      "metadata": {
        "id": "lVArLMlhiAuU"
      },
      "source": [
        "Below cell reads the embeddings (both entities and relations). After that, it shows the absolute value of each model's relation embeddings. Observe how TransE has lower value that goes towards 0!"
      ]
    },
    {
      "cell_type": "code",
      "execution_count": null,
      "metadata": {
        "colab": {
          "base_uri": "https://localhost:8080/",
          "height": 385
        },
        "id": "Qqf6qCWXt86P",
        "outputId": "bed05ef2-122b-4b17-b29e-3375f701dcd3"
      },
      "outputs": [
        {
          "name": "stdout",
          "output_type": "stream",
          "text": [
            "---RELS of RotatE\n",
            "Rels\n",
            "0.41386208\n",
            "---RELS of TransE\n",
            "Rels\n",
            "0.47817144\n"
          ]
        },
        {
          "data": {
            "image/png": "[encoded data removed]",
            "text/plain": [
              "<Figure size 720x288 with 2 Axes>"
            ]
          },
          "metadata": {},
          "output_type": "display_data"
        }
      ],
      "source": [
        "rels_rotate = np.load(\"/content/drive/MyDrive/AI_Labor/KnowledgeGraphEmbedding/models/Task2_yamanishi_RotatE/relation_embedding.npy\")\n",
        "ents_rotate = np.load(\"/content/drive/MyDrive/AI_Labor/KnowledgeGraphEmbedding/models/Task2_yamanishi_RotatE/entity_embedding000000.npy\")\n",
        "\n",
        "rels_transe = np.load(\"/content/drive/MyDrive/AI_Labor/KnowledgeGraphEmbedding/models/Task2_yamanishi_TransE/relation_embedding.npy\")\n",
        "ents_transe = np.load(\"/content/drive/MyDrive/AI_Labor/KnowledgeGraphEmbedding/models/Task2_yamanishi_TransE/entity_embedding000000.npy\")\n",
        "\n",
        "fig, ax = plt.subplots(1,2, figsize=(10,4))\n",
        "\n",
        "ax[0].boxplot(np.abs(rels_rotate[0]))\n",
        "ax[0].set_title(\"RotatE's relation weights\")\n",
        "ax[1].boxplot(np.abs(rels_transe[0]))\n",
        "ax[1].set_title(\"TransE's relation weights\")\n",
        "\n",
        "print(\"---RELS of RotatE\")\n",
        "print(\"Rels\")\n",
        "print(np.abs(rels_rotate[0]).mean())\n",
        "\n",
        "print(\"---RELS of TransE\")\n",
        "print(\"Rels\")\n",
        "print(np.abs(rels_transe[0]).mean())\n",
        "\n",
        "dim_size = ents_rotate.shape[1]\n",
        "ent_size = ents_rotate.shape[0]"
      ]
    },
    {
      "cell_type": "markdown",
      "metadata": {
        "id": "OguNBUL5iP3j"
      },
      "source": [
        "Below cell prepares the data as saveable and saves it for visualization purposes"
      ]
    },
    {
      "cell_type": "code",
      "execution_count": null,
      "metadata": {
        "id": "V0_yvpZk9zMj"
      },
      "outputs": [],
      "source": [
        "df.columns = [\"head\", \"relation\", \"tail\"]\n",
        "headers = []\n",
        "for x in range(dim_size):\n",
        "  headers.append(\"d\"+str(x))\n",
        "\n",
        "#fetching indices of used entities: \n",
        "tmp = pd.read_csv(\"/content/drive/MyDrive/AI_Labor/KnowledgeGraphEmbedding/data/yamanishi/entities.dict\", sep=\"\\t\", header=None)\n",
        "tmp.columns = [\"key\", \"value\"]\n",
        "tmp_filtered = tmp[\"value\"].isin(list(set(df['head'].values)))\n",
        "filtered_entities = tmp[tmp_filtered]\n",
        "indices_of_used_entities = filtered_entities['key'].values\n",
        "names_of_used_entities = filtered_entities['value'].values\n",
        "\n",
        "rotate_filtered_entites = np.take(ents_rotate, indices_of_used_entities, axis=0)\n",
        "df_rotate = pd.DataFrame(data=rotate_filtered_entites, index=names_of_used_entities, columns=headers)\n",
        "transe_filtered_entites = np.take(ents_transe, indices_of_used_entities, axis=0)\n",
        "df_transe = pd.DataFrame(data=transe_filtered_entites, index=names_of_used_entities, columns=headers)\n",
        "\n",
        "df_transe.to_csv(\"transe_labeled_embeddings.tsv\", sep=\"\\t\",index=True, header=True)\n",
        "df_transe.to_csv(\"transe_embeddings.tsv\", sep=\"\\t\",index=False, header=False)\n",
        "df_rotate.to_csv(\"rotate_labeled_embeddings.tsv\", sep=\"\\t\",index=True, header=True)\n",
        "df_rotate.to_csv(\"rotate_embeddings.tsv\", sep=\"\\t\",index=False, header=False)"
      ]
    },
    {
      "cell_type": "markdown",
      "metadata": {
        "id": "aI8Ou1apA0LE"
      },
      "source": [
        "# Task 3"
      ]
    },
    {
      "cell_type": "markdown",
      "metadata": {
        "id": "dq0E8G7yimbd"
      },
      "source": [
        "Restore the original data back"
      ]
    },
    {
      "cell_type": "code",
      "execution_count": null,
      "metadata": {
        "id": "ripKLnA6SxHy"
      },
      "outputs": [],
      "source": [
        "#run this cell to copy the original data into a safe file\n",
        "!cp /content/drive/MyDrive/AI_Labor/KnowledgeGraphEmbedding/data/yamanishi/train.txt /content/drive/MyDrive/AI_Labor/KnowledgeGraphEmbedding/data/yamanishi/original_train.txt\n",
        "!cp /content/drive/MyDrive/AI_Labor/KnowledgeGraphEmbedding/data/yamanishi/valid.txt /content/drive/MyDrive/AI_Labor/KnowledgeGraphEmbedding/data/yamanishi/original_valid.txt\n",
        "!cp /content/drive/MyDrive/AI_Labor/KnowledgeGraphEmbedding/data/yamanishi/test.txt /content/drive/MyDrive/AI_Labor/KnowledgeGraphEmbedding/data/yamanishi/original_test.txt"
      ]
    },
    {
      "cell_type": "code",
      "execution_count": null,
      "metadata": {
        "id": "cd0rqtpLBKQA"
      },
      "outputs": [],
      "source": [
        "#run this cell to restore the original train-valid set of countries_S1\n",
        "!rm /content/KnowledgeGraphEmbedding/data/countries_S1/train.txt\n",
        "!rm /content/KnowledgeGraphEmbedding/data/countries_S1/valid.txt\n",
        "!rm /content/KnowledgeGraphEmbedding/data/countries_S1/test.txt\n",
        "\n",
        "!cp /content/KnowledgeGraphEmbedding/data/countries_S1/original_train.txt /content/KnowledgeGraphEmbedding/data/countries_S1/train.txt\n",
        "!cp /content/KnowledgeGraphEmbedding/data/countries_S1/original_valid.txt /content/KnowledgeGraphEmbedding/data/countries_S1/valid.txt\n",
        "!cp /content/KnowledgeGraphEmbedding/data/countries_S1/original_test.txt /content/KnowledgeGraphEmbedding/data/countries_S1/test.txt"
      ]
    },
    {
      "cell_type": "markdown",
      "metadata": {
        "id": "LLKjTUrMiuXC"
      },
      "source": [
        "Take a look at data..."
      ]
    },
    {
      "cell_type": "code",
      "execution_count": null,
      "metadata": {
        "colab": {
          "base_uri": "https://localhost:8080/"
        },
        "id": "lBYaJzBuBtCG",
        "outputId": "334aa39b-e52f-4e48-86e3-bbeb220f64e0"
      },
      "outputs": [
        {
          "name": "stdout",
          "output_type": "stream",
          "text": [
            "              0            1       2\n",
            "0      hsa:5147  inhibitedBy  D00528\n",
            "1       hsa:147  inhibitedBy  D00454\n",
            "2      hsa:2562  inhibitedBy  D00548\n",
            "3      hsa:6340  inhibitedBy  D00552\n",
            "4      hsa:1562  inhibitedBy  D01425\n",
            "...         ...          ...     ...\n",
            "1947    hsa:147  inhibitedBy  D00437\n",
            "1948    hsa:150  inhibitedBy  D02149\n",
            "1949    hsa:773  inhibitedBy  D02914\n",
            "1950   hsa:5141  inhibitedBy  D01198\n",
            "1951  hsa:93589  inhibitedBy  D00512\n",
            "\n",
            "[1952 rows x 3 columns]\n",
            "\n",
            "\n",
            "\n",
            "\n",
            "               0            1       2\n",
            "count       1952         1952    1952\n",
            "unique       303            1     200\n",
            "top     hsa:6328  inhibitedBy  D00437\n",
            "freq          21         1952      51\n"
          ]
        }
      ],
      "source": [
        "df = pd.read_csv(\"/content/drive/MyDrive/AI_Labor/KnowledgeGraphEmbedding/data/yamanishi/train.txt\", sep=\"\\t\", header=None)\n",
        "\n",
        "print(df)\n",
        "print(\"\\n\\n\\n\")\n",
        "print(df.describe())"
      ]
    },
    {
      "cell_type": "markdown",
      "metadata": {
        "id": "KklJ3SBDfyx-"
      },
      "source": [
        "Below cell deletes all the saved embeddings under Task3's folder. Also, it deletes the produced plots and thus resets the folders for experimenting again!"
      ]
    },
    {
      "cell_type": "code",
      "execution_count": null,
      "metadata": {
        "id": "htIlAFfefd-z"
      },
      "outputs": [],
      "source": [
        "!find /content/drive/MyDrive/AI_Labor/KnowledgeGraphEmbedding/models/Task3_yamanishi_2Dim -type f -name '*entity_embedding*' -delete\n",
        "!rm -r /content/drive/MyDrive/AI_Labor/KnowledgeGraphEmbedding/models/Task3_yamanishi_2Dim/plots/"
      ]
    },
    {
      "cell_type": "markdown",
      "metadata": {
        "id": "9eYVc_4giv6O"
      },
      "source": [
        "Training... In the meantime below code takes snapshots of embeddings (saves each embedding state at every i'th epoch). If one wants to increase the frequency of the snapshots, one can do so via \"save_checkpoint_steps\"\n",
        "\n"
      ]
    },
    {
      "cell_type": "code",
      "execution_count": null,
      "metadata": {
        "colab": {
          "base_uri": "https://localhost:8080/"
        },
        "id": "lU5I3jaEA77j",
        "outputId": "975c8910-8e7c-41f4-8bcd-7b0e5176a81b"
      },
      "outputs": [
        {
          "name": "stdout",
          "output_type": "stream",
          "text": [
            "2022-08-25 08:18:07,273 INFO     Model: RotatE\n",
            "2022-08-25 08:18:07,274 INFO     Data Path: data/yamanishi\n",
            "2022-08-25 08:18:07,274 INFO     #entity: 510\n",
            "2022-08-25 08:18:07,274 INFO     #relation: 1\n",
            "2022-08-25 08:18:07,276 INFO     #train: 1952\n",
            "2022-08-25 08:18:07,278 INFO     #valid: 648\n",
            "2022-08-25 08:18:07,280 INFO     #test: 635\n",
            "2022-08-25 08:18:07,280 INFO     Model Parameter Configuration:\n",
            "2022-08-25 08:18:07,281 INFO     Parameter gamma: torch.Size([1]), require_grad = False\n",
            "2022-08-25 08:18:07,281 INFO     Parameter embedding_range: torch.Size([1]), require_grad = False\n",
            "2022-08-25 08:18:07,281 INFO     Parameter entity_embedding: torch.Size([510, 4]), require_grad = True\n",
            "2022-08-25 08:18:07,281 INFO     Parameter relation_embedding: torch.Size([1, 2]), require_grad = True\n",
            "/usr/local/lib/python3.7/dist-packages/torch/utils/data/dataloader.py:566: UserWarning: This DataLoader will create 5 worker processes in total. Our suggested max number of worker in current system is 2, which is smaller than what this DataLoader is going to create. Please be aware that excessive worker creation might get DataLoader running slow or even freeze, lower the worker number to avoid potential slowness/freeze if necessary.\n",
            "  cpuset_checked))\n",
            "2022-08-25 08:18:07,289 INFO     Ramdomly Initializing RotatE Model...\n",
            "2022-08-25 08:18:07,289 INFO     Start Training...\n",
            "2022-08-25 08:18:07,290 INFO     init_step = 0\n",
            "2022-08-25 08:18:07,290 INFO     batch_size = 20\n",
            "2022-08-25 08:18:07,290 INFO     negative_adversarial_sampling = 1\n",
            "2022-08-25 08:18:07,290 INFO     hidden_dim = 2\n",
            "2022-08-25 08:18:07,290 INFO     gamma = 2.000000\n",
            "2022-08-25 08:18:07,290 INFO     negative_adversarial_sampling = True\n",
            "2022-08-25 08:18:07,290 INFO     adversarial_temperature = 1.000000\n",
            "2022-08-25 08:18:07,290 INFO     learning_rate = 0\n",
            "2022-08-25 08:18:07,618 INFO     Training average positive_sample_loss at step 0: 2.640210\n",
            "2022-08-25 08:18:07,618 INFO     Training average negative_sample_loss at step 0: 0.371936\n",
            "2022-08-25 08:18:07,618 INFO     Training average loss at step 0: 1.506073\n",
            "2022-08-25 08:18:07,619 INFO     Evaluating on Valid Dataset...\n",
            "2022-08-25 08:18:07,698 INFO     Evaluating the model... (0/82)\n",
            "2022-08-25 08:18:08,404 INFO     Valid MRR at step 0: 0.012590\n",
            "2022-08-25 08:18:08,405 INFO     Valid MR at step 0: 239.354167\n",
            "2022-08-25 08:18:08,405 INFO     Valid HITS@1 at step 0: 0.001543\n",
            "2022-08-25 08:18:08,405 INFO     Valid HITS@3 at step 0: 0.005401\n",
            "2022-08-25 08:18:08,405 INFO     Valid HITS@10 at step 0: 0.016204\n",
            "2022-08-25 08:18:09,206 INFO     Evaluating on Valid Dataset...\n",
            "2022-08-25 08:18:09,294 INFO     Evaluating the model... (0/82)\n",
            "2022-08-25 08:18:09,988 INFO     Valid MRR at step 50: 0.017710\n",
            "2022-08-25 08:18:09,988 INFO     Valid MR at step 50: 204.476080\n",
            "2022-08-25 08:18:09,988 INFO     Valid HITS@1 at step 50: 0.001543\n",
            "2022-08-25 08:18:09,988 INFO     Valid HITS@3 at step 50: 0.009259\n",
            "2022-08-25 08:18:09,989 INFO     Valid HITS@10 at step 50: 0.033179\n",
            "2022-08-25 08:18:10,720 INFO     Training average positive_sample_loss at step 100: 1.855610\n",
            "2022-08-25 08:18:10,720 INFO     Training average negative_sample_loss at step 100: 0.545739\n",
            "2022-08-25 08:18:10,720 INFO     Training average loss at step 100: 1.200674\n",
            "2022-08-25 08:18:10,720 INFO     Evaluating on Valid Dataset...\n",
            "2022-08-25 08:18:10,799 INFO     Evaluating the model... (0/82)\n",
            "2022-08-25 08:18:11,503 INFO     Valid MRR at step 100: 0.029256\n",
            "2022-08-25 08:18:11,504 INFO     Valid MR at step 100: 167.519290\n",
            "2022-08-25 08:18:11,504 INFO     Valid HITS@1 at step 100: 0.004630\n",
            "2022-08-25 08:18:11,504 INFO     Valid HITS@3 at step 100: 0.019290\n",
            "2022-08-25 08:18:11,504 INFO     Valid HITS@10 at step 100: 0.057099\n",
            "2022-08-25 08:18:12,244 INFO     Evaluating on Valid Dataset...\n",
            "2022-08-25 08:18:12,332 INFO     Evaluating the model... (0/82)\n",
            "2022-08-25 08:18:13,070 INFO     Valid MRR at step 150: 0.077460\n",
            "2022-08-25 08:18:13,070 INFO     Valid MR at step 150: 115.844136\n",
            "2022-08-25 08:18:13,070 INFO     Valid HITS@1 at step 150: 0.018519\n",
            "2022-08-25 08:18:13,070 INFO     Valid HITS@3 at step 150: 0.077932\n",
            "2022-08-25 08:18:13,070 INFO     Valid HITS@10 at step 150: 0.186728\n",
            "2022-08-25 08:18:13,914 INFO     Training average positive_sample_loss at step 200: 0.873517\n",
            "2022-08-25 08:18:13,914 INFO     Training average negative_sample_loss at step 200: 0.626629\n",
            "2022-08-25 08:18:13,914 INFO     Training average loss at step 200: 0.750073\n",
            "2022-08-25 08:18:13,914 INFO     Evaluating on Valid Dataset...\n",
            "2022-08-25 08:18:13,995 INFO     Evaluating the model... (0/82)\n",
            "2022-08-25 08:18:14,710 INFO     Valid MRR at step 200: 0.199462\n",
            "2022-08-25 08:18:14,711 INFO     Valid MR at step 200: 80.090278\n",
            "2022-08-25 08:18:14,711 INFO     Valid HITS@1 at step 200: 0.115741\n",
            "2022-08-25 08:18:14,711 INFO     Valid HITS@3 at step 200: 0.226852\n",
            "2022-08-25 08:18:14,711 INFO     Valid HITS@10 at step 200: 0.349537\n",
            "2022-08-25 08:18:15,427 INFO     Evaluating on Valid Dataset...\n",
            "2022-08-25 08:18:15,516 INFO     Evaluating the model... (0/82)\n",
            "2022-08-25 08:18:16,229 INFO     Valid MRR at step 250: 0.273839\n",
            "2022-08-25 08:18:16,230 INFO     Valid MR at step 250: 59.921296\n",
            "2022-08-25 08:18:16,230 INFO     Valid HITS@1 at step 250: 0.175926\n",
            "2022-08-25 08:18:16,230 INFO     Valid HITS@3 at step 250: 0.303241\n",
            "2022-08-25 08:18:16,230 INFO     Valid HITS@10 at step 250: 0.465278\n",
            "2022-08-25 08:18:16,962 INFO     Training average positive_sample_loss at step 300: 0.624206\n",
            "2022-08-25 08:18:16,962 INFO     Training average negative_sample_loss at step 300: 0.466306\n",
            "2022-08-25 08:18:16,963 INFO     Training average loss at step 300: 0.545256\n",
            "2022-08-25 08:18:16,963 INFO     Evaluating on Valid Dataset...\n",
            "2022-08-25 08:18:17,053 INFO     Evaluating the model... (0/82)\n",
            "2022-08-25 08:18:17,781 INFO     Valid MRR at step 300: 0.408152\n",
            "2022-08-25 08:18:17,785 INFO     Valid MR at step 300: 45.980710\n",
            "2022-08-25 08:18:17,785 INFO     Valid HITS@1 at step 300: 0.307099\n",
            "2022-08-25 08:18:17,785 INFO     Valid HITS@3 at step 300: 0.456019\n",
            "2022-08-25 08:18:17,785 INFO     Valid HITS@10 at step 300: 0.606481\n",
            "2022-08-25 08:18:18,564 INFO     Evaluating on Valid Dataset...\n",
            "2022-08-25 08:18:18,657 INFO     Evaluating the model... (0/82)\n",
            "2022-08-25 08:18:19,412 INFO     Valid MRR at step 350: 0.460030\n",
            "2022-08-25 08:18:19,413 INFO     Valid MR at step 350: 38.716821\n",
            "2022-08-25 08:18:19,413 INFO     Valid HITS@1 at step 350: 0.364198\n",
            "2022-08-25 08:18:19,413 INFO     Valid HITS@3 at step 350: 0.508488\n",
            "2022-08-25 08:18:19,413 INFO     Valid HITS@10 at step 350: 0.632716\n",
            "2022-08-25 08:18:20,276 INFO     Training average positive_sample_loss at step 400: 0.612092\n",
            "2022-08-25 08:18:20,276 INFO     Training average negative_sample_loss at step 400: 0.377310\n",
            "2022-08-25 08:18:20,277 INFO     Training average loss at step 400: 0.494701\n",
            "2022-08-25 08:18:20,277 INFO     Evaluating on Valid Dataset...\n",
            "2022-08-25 08:18:20,360 INFO     Evaluating the model... (0/82)\n",
            "2022-08-25 08:18:21,071 INFO     Valid MRR at step 400: 0.485188\n",
            "2022-08-25 08:18:21,072 INFO     Valid MR at step 400: 31.643519\n",
            "2022-08-25 08:18:21,072 INFO     Valid HITS@1 at step 400: 0.388117\n",
            "2022-08-25 08:18:21,072 INFO     Valid HITS@3 at step 400: 0.520833\n",
            "2022-08-25 08:18:21,072 INFO     Valid HITS@10 at step 400: 0.680556\n",
            "2022-08-25 08:18:21,815 INFO     Evaluating on Valid Dataset...\n",
            "2022-08-25 08:18:21,909 INFO     Evaluating the model... (0/82)\n",
            "2022-08-25 08:18:22,629 INFO     Valid MRR at step 450: 0.517707\n",
            "2022-08-25 08:18:22,629 INFO     Valid MR at step 450: 29.224537\n",
            "2022-08-25 08:18:22,629 INFO     Valid HITS@1 at step 450: 0.421296\n",
            "2022-08-25 08:18:22,629 INFO     Valid HITS@3 at step 450: 0.565586\n",
            "2022-08-25 08:18:22,630 INFO     Valid HITS@10 at step 450: 0.712191\n",
            "2022-08-25 08:18:23,397 INFO     Training average positive_sample_loss at step 500: 0.624600\n",
            "2022-08-25 08:18:23,397 INFO     Training average negative_sample_loss at step 500: 0.347129\n",
            "2022-08-25 08:18:23,397 INFO     Training average loss at step 500: 0.485864\n",
            "2022-08-25 08:18:23,397 INFO     Evaluating on Valid Dataset...\n",
            "2022-08-25 08:18:23,489 INFO     Evaluating the model... (0/82)\n",
            "2022-08-25 08:18:24,197 INFO     Valid MRR at step 500: 0.495231\n",
            "2022-08-25 08:18:24,197 INFO     Valid MR at step 500: 27.083333\n",
            "2022-08-25 08:18:24,197 INFO     Valid HITS@1 at step 500: 0.395062\n",
            "2022-08-25 08:18:24,197 INFO     Valid HITS@3 at step 500: 0.531636\n",
            "2022-08-25 08:18:24,198 INFO     Valid HITS@10 at step 500: 0.709105\n",
            "2022-08-25 08:18:24,909 INFO     Evaluating on Valid Dataset...\n",
            "2022-08-25 08:18:25,011 INFO     Evaluating the model... (0/82)\n",
            "2022-08-25 08:18:25,709 INFO     Valid MRR at step 550: 0.510156\n",
            "2022-08-25 08:18:25,709 INFO     Valid MR at step 550: 26.316358\n",
            "2022-08-25 08:18:25,710 INFO     Valid HITS@1 at step 550: 0.402778\n",
            "2022-08-25 08:18:25,710 INFO     Valid HITS@3 at step 550: 0.560957\n",
            "2022-08-25 08:18:25,710 INFO     Valid HITS@10 at step 550: 0.726080\n",
            "2022-08-25 08:18:26,580 INFO     Training average positive_sample_loss at step 600: 0.617975\n",
            "2022-08-25 08:18:26,581 INFO     Training average negative_sample_loss at step 600: 0.313605\n",
            "2022-08-25 08:18:26,581 INFO     Training average loss at step 600: 0.465790\n",
            "2022-08-25 08:18:26,581 INFO     Evaluating on Valid Dataset...\n",
            "2022-08-25 08:18:26,682 INFO     Evaluating the model... (0/82)\n",
            "2022-08-25 08:18:27,410 INFO     Valid MRR at step 600: 0.534065\n",
            "2022-08-25 08:18:27,410 INFO     Valid MR at step 600: 25.472994\n",
            "2022-08-25 08:18:27,410 INFO     Valid HITS@1 at step 600: 0.425154\n",
            "2022-08-25 08:18:27,410 INFO     Valid HITS@3 at step 600: 0.587963\n",
            "2022-08-25 08:18:27,411 INFO     Valid HITS@10 at step 600: 0.739969\n",
            "2022-08-25 08:18:28,159 INFO     Evaluating on Valid Dataset...\n",
            "2022-08-25 08:18:28,244 INFO     Evaluating the model... (0/82)\n",
            "2022-08-25 08:18:28,952 INFO     Valid MRR at step 650: 0.527428\n",
            "2022-08-25 08:18:28,953 INFO     Valid MR at step 650: 25.374228\n",
            "2022-08-25 08:18:28,953 INFO     Valid HITS@1 at step 650: 0.425926\n",
            "2022-08-25 08:18:28,953 INFO     Valid HITS@3 at step 650: 0.581790\n",
            "2022-08-25 08:18:28,953 INFO     Valid HITS@10 at step 650: 0.721451\n",
            "2022-08-25 08:18:29,725 INFO     Training average positive_sample_loss at step 700: 0.640886\n",
            "2022-08-25 08:18:29,725 INFO     Training average negative_sample_loss at step 700: 0.294436\n",
            "2022-08-25 08:18:29,726 INFO     Training average loss at step 700: 0.467661\n",
            "2022-08-25 08:18:29,726 INFO     Evaluating on Valid Dataset...\n",
            "2022-08-25 08:18:29,818 INFO     Evaluating the model... (0/82)\n",
            "2022-08-25 08:18:30,554 INFO     Valid MRR at step 700: 0.549847\n",
            "2022-08-25 08:18:30,554 INFO     Valid MR at step 700: 24.520062\n",
            "2022-08-25 08:18:30,554 INFO     Valid HITS@1 at step 700: 0.438272\n",
            "2022-08-25 08:18:30,554 INFO     Valid HITS@3 at step 700: 0.617284\n",
            "2022-08-25 08:18:30,554 INFO     Valid HITS@10 at step 700: 0.764660\n",
            "2022-08-25 08:18:31,349 INFO     Evaluating on Valid Dataset...\n",
            "2022-08-25 08:18:31,430 INFO     Evaluating the model... (0/82)\n",
            "2022-08-25 08:18:32,174 INFO     Valid MRR at step 750: 0.534975\n",
            "2022-08-25 08:18:32,175 INFO     Valid MR at step 750: 23.199074\n",
            "2022-08-25 08:18:32,175 INFO     Valid HITS@1 at step 750: 0.427469\n",
            "2022-08-25 08:18:32,175 INFO     Valid HITS@3 at step 750: 0.597222\n",
            "2022-08-25 08:18:32,175 INFO     Valid HITS@10 at step 750: 0.740741\n",
            "2022-08-25 08:18:33,051 INFO     Training average positive_sample_loss at step 800: 0.643258\n",
            "2022-08-25 08:18:33,051 INFO     Training average negative_sample_loss at step 800: 0.295703\n",
            "2022-08-25 08:18:33,052 INFO     Training average loss at step 800: 0.469481\n",
            "2022-08-25 08:18:33,052 INFO     Evaluating on Valid Dataset...\n",
            "2022-08-25 08:18:33,147 INFO     Evaluating the model... (0/82)\n",
            "2022-08-25 08:18:33,870 INFO     Valid MRR at step 800: 0.519195\n",
            "2022-08-25 08:18:33,871 INFO     Valid MR at step 800: 24.201389\n",
            "2022-08-25 08:18:33,871 INFO     Valid HITS@1 at step 800: 0.404321\n",
            "2022-08-25 08:18:33,871 INFO     Valid HITS@3 at step 800: 0.576389\n",
            "2022-08-25 08:18:33,871 INFO     Valid HITS@10 at step 800: 0.756173\n",
            "2022-08-25 08:18:34,621 INFO     Evaluating on Valid Dataset...\n",
            "2022-08-25 08:18:34,715 INFO     Evaluating the model... (0/82)\n",
            "2022-08-25 08:18:35,442 INFO     Valid MRR at step 850: 0.553309\n",
            "2022-08-25 08:18:35,442 INFO     Valid MR at step 850: 23.158179\n",
            "2022-08-25 08:18:35,443 INFO     Valid HITS@1 at step 850: 0.441358\n",
            "2022-08-25 08:18:35,443 INFO     Valid HITS@3 at step 850: 0.615741\n",
            "2022-08-25 08:18:35,443 INFO     Valid HITS@10 at step 850: 0.765432\n",
            "2022-08-25 08:18:36,190 INFO     Training average positive_sample_loss at step 900: 0.644181\n",
            "2022-08-25 08:18:36,191 INFO     Training average negative_sample_loss at step 900: 0.267093\n",
            "2022-08-25 08:18:36,191 INFO     Training average loss at step 900: 0.455637\n",
            "2022-08-25 08:18:36,191 INFO     Evaluating on Valid Dataset...\n",
            "2022-08-25 08:18:36,287 INFO     Evaluating the model... (0/82)\n",
            "2022-08-25 08:18:37,039 INFO     Valid MRR at step 900: 0.532324\n",
            "2022-08-25 08:18:37,040 INFO     Valid MR at step 900: 23.512346\n",
            "2022-08-25 08:18:37,040 INFO     Valid HITS@1 at step 900: 0.414352\n",
            "2022-08-25 08:18:37,040 INFO     Valid HITS@3 at step 900: 0.597994\n",
            "2022-08-25 08:18:37,040 INFO     Valid HITS@10 at step 900: 0.756944\n",
            "2022-08-25 08:18:37,812 INFO     Evaluating on Valid Dataset...\n",
            "2022-08-25 08:18:37,889 INFO     Evaluating the model... (0/82)\n",
            "2022-08-25 08:18:38,641 INFO     Valid MRR at step 950: 0.548495\n",
            "2022-08-25 08:18:38,641 INFO     Valid MR at step 950: 22.973765\n",
            "2022-08-25 08:18:38,641 INFO     Valid HITS@1 at step 950: 0.436728\n",
            "2022-08-25 08:18:38,641 INFO     Valid HITS@3 at step 950: 0.614198\n",
            "2022-08-25 08:18:38,642 INFO     Valid HITS@10 at step 950: 0.760802\n",
            "2022-08-25 08:18:39,585 INFO     Training average positive_sample_loss at step 1000: 0.667926\n",
            "2022-08-25 08:18:39,586 INFO     Training average negative_sample_loss at step 1000: 0.271978\n",
            "2022-08-25 08:18:39,586 INFO     Training average loss at step 1000: 0.469952\n",
            "2022-08-25 08:18:39,586 INFO     Evaluating on Valid Dataset...\n",
            "2022-08-25 08:18:39,665 INFO     Evaluating the model... (0/82)\n",
            "2022-08-25 08:18:40,389 INFO     Valid MRR at step 1000: 0.554409\n",
            "2022-08-25 08:18:40,389 INFO     Valid MR at step 1000: 23.404321\n",
            "2022-08-25 08:18:40,389 INFO     Valid HITS@1 at step 1000: 0.438272\n",
            "2022-08-25 08:18:40,389 INFO     Valid HITS@3 at step 1000: 0.620370\n",
            "2022-08-25 08:18:40,390 INFO     Valid HITS@10 at step 1000: 0.766204\n",
            "2022-08-25 08:18:41,144 INFO     Evaluating on Valid Dataset...\n",
            "2022-08-25 08:18:41,236 INFO     Evaluating the model... (0/82)\n",
            "2022-08-25 08:18:41,955 INFO     Valid MRR at step 1050: 0.534956\n",
            "2022-08-25 08:18:41,956 INFO     Valid MR at step 1050: 20.878858\n",
            "2022-08-25 08:18:41,956 INFO     Valid HITS@1 at step 1050: 0.412037\n",
            "2022-08-25 08:18:41,956 INFO     Valid HITS@3 at step 1050: 0.608025\n",
            "2022-08-25 08:18:41,956 INFO     Valid HITS@10 at step 1050: 0.762346\n",
            "2022-08-25 08:18:42,743 INFO     Training average positive_sample_loss at step 1100: 0.666237\n",
            "2022-08-25 08:18:42,743 INFO     Training average negative_sample_loss at step 1100: 0.273981\n",
            "2022-08-25 08:18:42,744 INFO     Training average loss at step 1100: 0.470109\n",
            "2022-08-25 08:18:42,744 INFO     Evaluating on Valid Dataset...\n",
            "2022-08-25 08:18:42,828 INFO     Evaluating the model... (0/82)\n",
            "2022-08-25 08:18:43,524 INFO     Valid MRR at step 1100: 0.600737\n",
            "2022-08-25 08:18:43,524 INFO     Valid MR at step 1100: 21.844136\n",
            "2022-08-25 08:18:43,524 INFO     Valid HITS@1 at step 1100: 0.506944\n",
            "2022-08-25 08:18:43,524 INFO     Valid HITS@3 at step 1100: 0.646605\n",
            "2022-08-25 08:18:43,525 INFO     Valid HITS@10 at step 1100: 0.784722\n",
            "2022-08-25 08:18:44,296 INFO     Evaluating on Valid Dataset...\n",
            "2022-08-25 08:18:44,379 INFO     Evaluating the model... (0/82)\n",
            "2022-08-25 08:18:45,344 INFO     Valid MRR at step 1150: 0.584976\n",
            "2022-08-25 08:18:45,345 INFO     Valid MR at step 1150: 19.378858\n",
            "2022-08-25 08:18:45,345 INFO     Valid HITS@1 at step 1150: 0.473765\n",
            "2022-08-25 08:18:45,345 INFO     Valid HITS@3 at step 1150: 0.644290\n",
            "2022-08-25 08:18:45,345 INFO     Valid HITS@10 at step 1150: 0.789352\n",
            "2022-08-25 08:18:46,420 INFO     Training average positive_sample_loss at step 1200: 0.621776\n",
            "2022-08-25 08:18:46,420 INFO     Training average negative_sample_loss at step 1200: 0.259206\n",
            "2022-08-25 08:18:46,420 INFO     Training average loss at step 1200: 0.440491\n",
            "2022-08-25 08:18:46,421 INFO     Evaluating on Valid Dataset...\n",
            "2022-08-25 08:18:46,529 INFO     Evaluating the model... (0/82)\n",
            "2022-08-25 08:18:47,481 INFO     Valid MRR at step 1200: 0.566355\n",
            "2022-08-25 08:18:47,481 INFO     Valid MR at step 1200: 21.260802\n",
            "2022-08-25 08:18:47,481 INFO     Valid HITS@1 at step 1200: 0.458333\n",
            "2022-08-25 08:18:47,481 INFO     Valid HITS@3 at step 1200: 0.619599\n",
            "2022-08-25 08:18:47,481 INFO     Valid HITS@10 at step 1200: 0.770062\n",
            "2022-08-25 08:18:48,214 INFO     Evaluating on Valid Dataset...\n",
            "2022-08-25 08:18:48,299 INFO     Evaluating the model... (0/82)\n",
            "2022-08-25 08:18:49,002 INFO     Valid MRR at step 1250: 0.562790\n",
            "2022-08-25 08:18:49,002 INFO     Valid MR at step 1250: 22.483796\n",
            "2022-08-25 08:18:49,002 INFO     Valid HITS@1 at step 1250: 0.450617\n",
            "2022-08-25 08:18:49,002 INFO     Valid HITS@3 at step 1250: 0.627315\n",
            "2022-08-25 08:18:49,003 INFO     Valid HITS@10 at step 1250: 0.768519\n",
            "2022-08-25 08:18:49,750 INFO     Training average positive_sample_loss at step 1300: 0.662622\n",
            "2022-08-25 08:18:49,750 INFO     Training average negative_sample_loss at step 1300: 0.274618\n",
            "2022-08-25 08:18:49,751 INFO     Training average loss at step 1300: 0.468620\n",
            "2022-08-25 08:18:49,751 INFO     Evaluating on Valid Dataset...\n",
            "2022-08-25 08:18:49,829 INFO     Evaluating the model... (0/82)\n",
            "2022-08-25 08:18:50,536 INFO     Valid MRR at step 1300: 0.579295\n",
            "2022-08-25 08:18:50,536 INFO     Valid MR at step 1300: 23.648148\n",
            "2022-08-25 08:18:50,536 INFO     Valid HITS@1 at step 1300: 0.478395\n",
            "2022-08-25 08:18:50,537 INFO     Valid HITS@3 at step 1300: 0.629630\n",
            "2022-08-25 08:18:50,537 INFO     Valid HITS@10 at step 1300: 0.775463\n",
            "2022-08-25 08:18:51,288 INFO     Evaluating on Valid Dataset...\n",
            "2022-08-25 08:18:51,368 INFO     Evaluating the model... (0/82)\n",
            "2022-08-25 08:18:52,080 INFO     Valid MRR at step 1350: 0.545504\n",
            "2022-08-25 08:18:52,080 INFO     Valid MR at step 1350: 22.140432\n",
            "2022-08-25 08:18:52,080 INFO     Valid HITS@1 at step 1350: 0.438272\n",
            "2022-08-25 08:18:52,080 INFO     Valid HITS@3 at step 1350: 0.603395\n",
            "2022-08-25 08:18:52,080 INFO     Valid HITS@10 at step 1350: 0.749228\n",
            "2022-08-25 08:18:52,948 INFO     Training average positive_sample_loss at step 1400: 0.678416\n",
            "2022-08-25 08:18:52,948 INFO     Training average negative_sample_loss at step 1400: 0.266116\n",
            "2022-08-25 08:18:52,949 INFO     Training average loss at step 1400: 0.472266\n",
            "2022-08-25 08:18:52,949 INFO     Evaluating on Valid Dataset...\n",
            "2022-08-25 08:18:53,027 INFO     Evaluating the model... (0/82)\n",
            "2022-08-25 08:18:53,734 INFO     Valid MRR at step 1400: 0.574024\n",
            "2022-08-25 08:18:53,735 INFO     Valid MR at step 1400: 22.036265\n",
            "2022-08-25 08:18:53,735 INFO     Valid HITS@1 at step 1400: 0.466821\n",
            "2022-08-25 08:18:53,735 INFO     Valid HITS@3 at step 1400: 0.640432\n",
            "2022-08-25 08:18:53,735 INFO     Valid HITS@10 at step 1400: 0.787037\n",
            "2022-08-25 08:18:54,495 INFO     Evaluating on Valid Dataset...\n",
            "2022-08-25 08:18:54,580 INFO     Evaluating the model... (0/82)\n",
            "2022-08-25 08:18:55,309 INFO     Valid MRR at step 1450: 0.541008\n",
            "2022-08-25 08:18:55,309 INFO     Valid MR at step 1450: 21.993827\n",
            "2022-08-25 08:18:55,310 INFO     Valid HITS@1 at step 1450: 0.412809\n",
            "2022-08-25 08:18:55,310 INFO     Valid HITS@3 at step 1450: 0.630401\n",
            "2022-08-25 08:18:55,310 INFO     Valid HITS@10 at step 1450: 0.777006\n",
            "2022-08-25 08:18:56,034 INFO     Training average positive_sample_loss at step 1500: 0.678396\n",
            "2022-08-25 08:18:56,034 INFO     Training average negative_sample_loss at step 1500: 0.254386\n",
            "2022-08-25 08:18:56,035 INFO     Training average loss at step 1500: 0.466391\n",
            "2022-08-25 08:18:56,035 INFO     Evaluating on Valid Dataset...\n",
            "2022-08-25 08:18:56,120 INFO     Evaluating the model... (0/82)\n",
            "2022-08-25 08:18:56,827 INFO     Valid MRR at step 1500: 0.560892\n",
            "2022-08-25 08:18:56,828 INFO     Valid MR at step 1500: 20.357253\n",
            "2022-08-25 08:18:56,828 INFO     Valid HITS@1 at step 1500: 0.447531\n",
            "2022-08-25 08:18:56,828 INFO     Valid HITS@3 at step 1500: 0.617284\n",
            "2022-08-25 08:18:56,828 INFO     Valid HITS@10 at step 1500: 0.788580\n",
            "2022-08-25 08:18:57,575 INFO     Evaluating on Valid Dataset...\n",
            "2022-08-25 08:18:57,660 INFO     Evaluating the model... (0/82)\n",
            "2022-08-25 08:18:58,363 INFO     Valid MRR at step 1550: 0.572463\n",
            "2022-08-25 08:18:58,363 INFO     Valid MR at step 1550: 20.493056\n",
            "2022-08-25 08:18:58,363 INFO     Valid HITS@1 at step 1550: 0.458333\n",
            "2022-08-25 08:18:58,363 INFO     Valid HITS@3 at step 1550: 0.635802\n",
            "2022-08-25 08:18:58,364 INFO     Valid HITS@10 at step 1550: 0.786265\n",
            "2022-08-25 08:18:59,269 INFO     Training average positive_sample_loss at step 1600: 0.677244\n",
            "2022-08-25 08:18:59,270 INFO     Training average negative_sample_loss at step 1600: 0.248158\n",
            "2022-08-25 08:18:59,270 INFO     Training average loss at step 1600: 0.462701\n",
            "2022-08-25 08:18:59,271 INFO     Evaluating on Valid Dataset...\n",
            "2022-08-25 08:18:59,347 INFO     Evaluating the model... (0/82)\n",
            "2022-08-25 08:19:00,058 INFO     Valid MRR at step 1600: 0.577000\n",
            "2022-08-25 08:19:00,059 INFO     Valid MR at step 1600: 21.458333\n",
            "2022-08-25 08:19:00,059 INFO     Valid HITS@1 at step 1600: 0.464506\n",
            "2022-08-25 08:19:00,059 INFO     Valid HITS@3 at step 1600: 0.643519\n",
            "2022-08-25 08:19:00,059 INFO     Valid HITS@10 at step 1600: 0.793981\n",
            "2022-08-25 08:19:00,800 INFO     Evaluating on Valid Dataset...\n",
            "2022-08-25 08:19:00,884 INFO     Evaluating the model... (0/82)\n",
            "2022-08-25 08:19:01,593 INFO     Valid MRR at step 1650: 0.599699\n",
            "2022-08-25 08:19:01,593 INFO     Valid MR at step 1650: 20.861883\n",
            "2022-08-25 08:19:01,594 INFO     Valid HITS@1 at step 1650: 0.500000\n",
            "2022-08-25 08:19:01,594 INFO     Valid HITS@3 at step 1650: 0.648920\n",
            "2022-08-25 08:19:01,594 INFO     Valid HITS@10 at step 1650: 0.804784\n",
            "2022-08-25 08:19:02,331 INFO     Training average positive_sample_loss at step 1700: 0.668122\n",
            "2022-08-25 08:19:02,332 INFO     Training average negative_sample_loss at step 1700: 0.251029\n",
            "2022-08-25 08:19:02,332 INFO     Training average loss at step 1700: 0.459575\n",
            "2022-08-25 08:19:02,332 INFO     Evaluating on Valid Dataset...\n",
            "2022-08-25 08:19:02,415 INFO     Evaluating the model... (0/82)\n",
            "2022-08-25 08:19:03,116 INFO     Valid MRR at step 1700: 0.601630\n",
            "2022-08-25 08:19:03,116 INFO     Valid MR at step 1700: 19.586420\n",
            "2022-08-25 08:19:03,116 INFO     Valid HITS@1 at step 1700: 0.495370\n",
            "2022-08-25 08:19:03,116 INFO     Valid HITS@3 at step 1700: 0.657407\n",
            "2022-08-25 08:19:03,117 INFO     Valid HITS@10 at step 1700: 0.802469\n",
            "2022-08-25 08:19:03,847 INFO     Evaluating on Valid Dataset...\n",
            "2022-08-25 08:19:03,923 INFO     Evaluating the model... (0/82)\n",
            "2022-08-25 08:19:04,651 INFO     Valid MRR at step 1750: 0.554892\n",
            "2022-08-25 08:19:04,651 INFO     Valid MR at step 1750: 21.959105\n",
            "2022-08-25 08:19:04,651 INFO     Valid HITS@1 at step 1750: 0.436728\n",
            "2022-08-25 08:19:04,651 INFO     Valid HITS@3 at step 1750: 0.625772\n",
            "2022-08-25 08:19:04,652 INFO     Valid HITS@10 at step 1750: 0.776235\n",
            "2022-08-25 08:19:05,516 INFO     Training average positive_sample_loss at step 1800: 0.638241\n",
            "2022-08-25 08:19:05,517 INFO     Training average negative_sample_loss at step 1800: 0.263262\n",
            "2022-08-25 08:19:05,517 INFO     Training average loss at step 1800: 0.450752\n",
            "2022-08-25 08:19:05,517 INFO     Evaluating on Valid Dataset...\n",
            "2022-08-25 08:19:05,612 INFO     Evaluating the model... (0/82)\n",
            "2022-08-25 08:19:06,317 INFO     Valid MRR at step 1800: 0.604061\n",
            "2022-08-25 08:19:06,318 INFO     Valid MR at step 1800: 19.996914\n",
            "2022-08-25 08:19:06,318 INFO     Valid HITS@1 at step 1800: 0.496142\n",
            "2022-08-25 08:19:06,318 INFO     Valid HITS@3 at step 1800: 0.668981\n",
            "2022-08-25 08:19:06,318 INFO     Valid HITS@10 at step 1800: 0.807099\n",
            "2022-08-25 08:19:07,056 INFO     Evaluating on Valid Dataset...\n",
            "2022-08-25 08:19:07,137 INFO     Evaluating the model... (0/82)\n",
            "2022-08-25 08:19:08,051 INFO     Valid MRR at step 1850: 0.563273\n",
            "2022-08-25 08:19:08,051 INFO     Valid MR at step 1850: 20.587191\n",
            "2022-08-25 08:19:08,051 INFO     Valid HITS@1 at step 1850: 0.445988\n",
            "2022-08-25 08:19:08,051 INFO     Valid HITS@3 at step 1850: 0.624228\n",
            "2022-08-25 08:19:08,052 INFO     Valid HITS@10 at step 1850: 0.787037\n",
            "2022-08-25 08:19:08,776 INFO     Training average positive_sample_loss at step 1900: 0.670094\n",
            "2022-08-25 08:19:08,776 INFO     Training average negative_sample_loss at step 1900: 0.246800\n",
            "2022-08-25 08:19:08,777 INFO     Training average loss at step 1900: 0.458447\n",
            "2022-08-25 08:19:08,777 INFO     Evaluating on Valid Dataset...\n",
            "2022-08-25 08:19:08,865 INFO     Evaluating the model... (0/82)\n",
            "2022-08-25 08:19:09,655 INFO     Valid MRR at step 1900: 0.567673\n",
            "2022-08-25 08:19:09,656 INFO     Valid MR at step 1900: 20.306327\n",
            "2022-08-25 08:19:09,656 INFO     Valid HITS@1 at step 1900: 0.456019\n",
            "2022-08-25 08:19:09,656 INFO     Valid HITS@3 at step 1900: 0.628086\n",
            "2022-08-25 08:19:09,656 INFO     Valid HITS@10 at step 1900: 0.783179\n",
            "2022-08-25 08:19:10,525 INFO     Evaluating on Valid Dataset...\n",
            "2022-08-25 08:19:10,706 INFO     Evaluating the model... (0/82)\n",
            "2022-08-25 08:19:11,877 INFO     Valid MRR at step 1950: 0.555833\n",
            "2022-08-25 08:19:11,877 INFO     Valid MR at step 1950: 20.456019\n",
            "2022-08-25 08:19:11,878 INFO     Valid HITS@1 at step 1950: 0.427469\n",
            "2022-08-25 08:19:11,878 INFO     Valid HITS@3 at step 1950: 0.631173\n",
            "2022-08-25 08:19:11,878 INFO     Valid HITS@10 at step 1950: 0.783951\n",
            "2022-08-25 08:19:13,089 INFO     Training average positive_sample_loss at step 2000: 0.694016\n",
            "2022-08-25 08:19:13,090 INFO     Training average negative_sample_loss at step 2000: 0.237621\n",
            "2022-08-25 08:19:13,090 INFO     Training average loss at step 2000: 0.465819\n",
            "2022-08-25 08:19:13,091 INFO     Evaluating on Valid Dataset...\n",
            "2022-08-25 08:19:13,178 INFO     Evaluating the model... (0/82)\n",
            "2022-08-25 08:19:13,879 INFO     Valid MRR at step 2000: 0.567170\n",
            "2022-08-25 08:19:13,879 INFO     Valid MR at step 2000: 19.565586\n",
            "2022-08-25 08:19:13,879 INFO     Valid HITS@1 at step 2000: 0.445216\n",
            "2022-08-25 08:19:13,879 INFO     Valid HITS@3 at step 2000: 0.636574\n",
            "2022-08-25 08:19:13,880 INFO     Valid HITS@10 at step 2000: 0.807099\n",
            "2022-08-25 08:19:14,630 INFO     Evaluating on Valid Dataset...\n",
            "2022-08-25 08:19:14,715 INFO     Evaluating the model... (0/82)\n",
            "2022-08-25 08:19:15,416 INFO     Valid MRR at step 2050: 0.559797\n",
            "2022-08-25 08:19:15,416 INFO     Valid MR at step 2050: 20.002315\n",
            "2022-08-25 08:19:15,416 INFO     Valid HITS@1 at step 2050: 0.452160\n",
            "2022-08-25 08:19:15,417 INFO     Valid HITS@3 at step 2050: 0.609568\n",
            "2022-08-25 08:19:15,417 INFO     Valid HITS@10 at step 2050: 0.775463\n",
            "2022-08-25 08:19:16,141 INFO     Training average positive_sample_loss at step 2100: 0.650822\n",
            "2022-08-25 08:19:16,141 INFO     Training average negative_sample_loss at step 2100: 0.263050\n",
            "2022-08-25 08:19:16,142 INFO     Training average loss at step 2100: 0.456936\n",
            "2022-08-25 08:19:16,142 INFO     Evaluating on Valid Dataset...\n",
            "2022-08-25 08:19:16,240 INFO     Evaluating the model... (0/82)\n",
            "2022-08-25 08:19:16,921 INFO     Valid MRR at step 2100: 0.570005\n",
            "2022-08-25 08:19:16,921 INFO     Valid MR at step 2100: 19.146605\n",
            "2022-08-25 08:19:16,921 INFO     Valid HITS@1 at step 2100: 0.452160\n",
            "2022-08-25 08:19:16,922 INFO     Valid HITS@3 at step 2100: 0.641975\n",
            "2022-08-25 08:19:16,922 INFO     Valid HITS@10 at step 2100: 0.787809\n",
            "2022-08-25 08:19:17,614 INFO     Evaluating on Valid Dataset...\n",
            "2022-08-25 08:19:17,693 INFO     Evaluating the model... (0/82)\n",
            "2022-08-25 08:19:18,422 INFO     Valid MRR at step 2150: 0.553269\n",
            "2022-08-25 08:19:18,422 INFO     Valid MR at step 2150: 19.626543\n",
            "2022-08-25 08:19:18,423 INFO     Valid HITS@1 at step 2150: 0.430556\n",
            "2022-08-25 08:19:18,423 INFO     Valid HITS@3 at step 2150: 0.622685\n",
            "2022-08-25 08:19:18,423 INFO     Valid HITS@10 at step 2150: 0.792438\n",
            "2022-08-25 08:19:19,419 INFO     Training average positive_sample_loss at step 2200: 0.652856\n",
            "2022-08-25 08:19:19,420 INFO     Training average negative_sample_loss at step 2200: 0.247798\n",
            "2022-08-25 08:19:19,420 INFO     Training average loss at step 2200: 0.450327\n",
            "2022-08-25 08:19:19,421 INFO     Evaluating on Valid Dataset...\n",
            "2022-08-25 08:19:19,510 INFO     Evaluating the model... (0/82)\n",
            "2022-08-25 08:19:20,201 INFO     Valid MRR at step 2200: 0.569096\n",
            "2022-08-25 08:19:20,202 INFO     Valid MR at step 2200: 18.904321\n",
            "2022-08-25 08:19:20,202 INFO     Valid HITS@1 at step 2200: 0.443673\n",
            "2022-08-25 08:19:20,202 INFO     Valid HITS@3 at step 2200: 0.638117\n",
            "2022-08-25 08:19:20,202 INFO     Valid HITS@10 at step 2200: 0.810957\n",
            "2022-08-25 08:19:20,918 INFO     Evaluating on Valid Dataset...\n",
            "2022-08-25 08:19:20,996 INFO     Evaluating the model... (0/82)\n",
            "2022-08-25 08:19:21,740 INFO     Valid MRR at step 2250: 0.556860\n",
            "2022-08-25 08:19:21,741 INFO     Valid MR at step 2250: 20.591049\n",
            "2022-08-25 08:19:21,741 INFO     Valid HITS@1 at step 2250: 0.440586\n",
            "2022-08-25 08:19:21,741 INFO     Valid HITS@3 at step 2250: 0.614198\n",
            "2022-08-25 08:19:21,741 INFO     Valid HITS@10 at step 2250: 0.787809\n",
            "2022-08-25 08:19:22,472 INFO     Training average positive_sample_loss at step 2300: 0.662118\n",
            "2022-08-25 08:19:22,473 INFO     Training average negative_sample_loss at step 2300: 0.251571\n",
            "2022-08-25 08:19:22,473 INFO     Training average loss at step 2300: 0.456844\n",
            "2022-08-25 08:19:22,473 INFO     Evaluating on Valid Dataset...\n",
            "2022-08-25 08:19:22,556 INFO     Evaluating the model... (0/82)\n",
            "2022-08-25 08:19:23,260 INFO     Valid MRR at step 2300: 0.590487\n",
            "2022-08-25 08:19:23,260 INFO     Valid MR at step 2300: 21.159722\n",
            "2022-08-25 08:19:23,260 INFO     Valid HITS@1 at step 2300: 0.489969\n",
            "2022-08-25 08:19:23,261 INFO     Valid HITS@3 at step 2300: 0.637346\n",
            "2022-08-25 08:19:23,261 INFO     Valid HITS@10 at step 2300: 0.804012\n",
            "2022-08-25 08:19:23,958 INFO     Evaluating on Valid Dataset...\n",
            "2022-08-25 08:19:24,040 INFO     Evaluating the model... (0/82)\n",
            "2022-08-25 08:19:24,764 INFO     Valid MRR at step 2350: 0.537381\n",
            "2022-08-25 08:19:24,764 INFO     Valid MR at step 2350: 20.236883\n",
            "2022-08-25 08:19:24,764 INFO     Valid HITS@1 at step 2350: 0.405093\n",
            "2022-08-25 08:19:24,764 INFO     Valid HITS@3 at step 2350: 0.614198\n",
            "2022-08-25 08:19:24,764 INFO     Valid HITS@10 at step 2350: 0.785494\n",
            "2022-08-25 08:19:25,709 INFO     Training average positive_sample_loss at step 2400: 0.664354\n",
            "2022-08-25 08:19:25,710 INFO     Training average negative_sample_loss at step 2400: 0.248222\n",
            "2022-08-25 08:19:25,710 INFO     Training average loss at step 2400: 0.456288\n",
            "2022-08-25 08:19:25,710 INFO     Evaluating on Valid Dataset...\n",
            "2022-08-25 08:19:25,791 INFO     Evaluating the model... (0/82)\n",
            "2022-08-25 08:19:26,509 INFO     Valid MRR at step 2400: 0.552834\n",
            "2022-08-25 08:19:26,510 INFO     Valid MR at step 2400: 20.661265\n",
            "2022-08-25 08:19:26,510 INFO     Valid HITS@1 at step 2400: 0.416667\n",
            "2022-08-25 08:19:26,510 INFO     Valid HITS@3 at step 2400: 0.651235\n",
            "2022-08-25 08:19:26,510 INFO     Valid HITS@10 at step 2400: 0.794753\n",
            "2022-08-25 08:19:27,216 INFO     Evaluating on Valid Dataset...\n",
            "2022-08-25 08:19:27,307 INFO     Evaluating the model... (0/82)\n",
            "2022-08-25 08:19:27,996 INFO     Valid MRR at step 2450: 0.556302\n",
            "2022-08-25 08:19:27,996 INFO     Valid MR at step 2450: 21.036265\n",
            "2022-08-25 08:19:27,996 INFO     Valid HITS@1 at step 2450: 0.437500\n",
            "2022-08-25 08:19:27,996 INFO     Valid HITS@3 at step 2450: 0.620370\n",
            "2022-08-25 08:19:27,997 INFO     Valid HITS@10 at step 2450: 0.780093\n",
            "2022-08-25 08:19:28,715 INFO     Change learning_rate to 0.010000 at step 2500\n",
            "2022-08-25 08:19:28,747 INFO     Training average positive_sample_loss at step 2500: 0.655288\n",
            "2022-08-25 08:19:28,747 INFO     Training average negative_sample_loss at step 2500: 0.242056\n",
            "2022-08-25 08:19:28,748 INFO     Training average loss at step 2500: 0.448672\n",
            "2022-08-25 08:19:28,748 INFO     Evaluating on Valid Dataset...\n",
            "2022-08-25 08:19:28,828 INFO     Evaluating the model... (0/82)\n",
            "2022-08-25 08:19:29,531 INFO     Valid MRR at step 2500: 0.581402\n",
            "2022-08-25 08:19:29,531 INFO     Valid MR at step 2500: 19.942130\n",
            "2022-08-25 08:19:29,531 INFO     Valid HITS@1 at step 2500: 0.479167\n",
            "2022-08-25 08:19:29,531 INFO     Valid HITS@3 at step 2500: 0.626543\n",
            "2022-08-25 08:19:29,531 INFO     Valid HITS@10 at step 2500: 0.782407\n",
            "2022-08-25 08:19:30,390 INFO     Evaluating on Valid Dataset...\n",
            "2022-08-25 08:19:30,490 INFO     Evaluating the model... (0/82)\n",
            "2022-08-25 08:19:31,178 INFO     Valid MRR at step 2550: 0.609560\n",
            "2022-08-25 08:19:31,178 INFO     Valid MR at step 2550: 18.900463\n",
            "2022-08-25 08:19:31,178 INFO     Valid HITS@1 at step 2550: 0.510031\n",
            "2022-08-25 08:19:31,178 INFO     Valid HITS@3 at step 2550: 0.658951\n",
            "2022-08-25 08:19:31,179 INFO     Valid HITS@10 at step 2550: 0.807099\n",
            "2022-08-25 08:19:31,944 INFO     Training average positive_sample_loss at step 2600: 0.589483\n",
            "2022-08-25 08:19:31,944 INFO     Training average negative_sample_loss at step 2600: 0.258461\n",
            "2022-08-25 08:19:31,945 INFO     Training average loss at step 2600: 0.423972\n",
            "2022-08-25 08:19:31,945 INFO     Evaluating on Valid Dataset...\n",
            "2022-08-25 08:19:32,027 INFO     Evaluating the model... (0/82)\n",
            "2022-08-25 08:19:32,709 INFO     Valid MRR at step 2600: 0.638707\n",
            "2022-08-25 08:19:32,710 INFO     Valid MR at step 2600: 18.338735\n",
            "2022-08-25 08:19:32,710 INFO     Valid HITS@1 at step 2600: 0.547068\n",
            "2022-08-25 08:19:32,710 INFO     Valid HITS@3 at step 2600: 0.685957\n",
            "2022-08-25 08:19:32,710 INFO     Valid HITS@10 at step 2600: 0.825617\n",
            "2022-08-25 08:19:33,473 INFO     Evaluating on Valid Dataset...\n",
            "2022-08-25 08:19:33,566 INFO     Evaluating the model... (0/82)\n",
            "2022-08-25 08:19:34,262 INFO     Valid MRR at step 2650: 0.655888\n",
            "2022-08-25 08:19:34,262 INFO     Valid MR at step 2650: 18.022377\n",
            "2022-08-25 08:19:34,262 INFO     Valid HITS@1 at step 2650: 0.569444\n",
            "2022-08-25 08:19:34,263 INFO     Valid HITS@3 at step 2650: 0.695988\n",
            "2022-08-25 08:19:34,263 INFO     Valid HITS@10 at step 2650: 0.835648\n",
            "2022-08-25 08:19:35,014 INFO     Training average positive_sample_loss at step 2700: 0.474422\n",
            "2022-08-25 08:19:35,014 INFO     Training average negative_sample_loss at step 2700: 0.269150\n",
            "2022-08-25 08:19:35,014 INFO     Training average loss at step 2700: 0.371786\n",
            "2022-08-25 08:19:35,015 INFO     Evaluating on Valid Dataset...\n",
            "2022-08-25 08:19:35,099 INFO     Evaluating the model... (0/82)\n",
            "2022-08-25 08:19:35,809 INFO     Valid MRR at step 2700: 0.669158\n",
            "2022-08-25 08:19:35,809 INFO     Valid MR at step 2700: 17.695216\n",
            "2022-08-25 08:19:35,809 INFO     Valid HITS@1 at step 2700: 0.579475\n",
            "2022-08-25 08:19:35,810 INFO     Valid HITS@3 at step 2700: 0.718364\n",
            "2022-08-25 08:19:35,810 INFO     Valid HITS@10 at step 2700: 0.835648\n",
            "2022-08-25 08:19:36,681 INFO     Evaluating on Valid Dataset...\n",
            "2022-08-25 08:19:36,765 INFO     Evaluating the model... (0/82)\n",
            "2022-08-25 08:19:37,476 INFO     Valid MRR at step 2750: 0.671434\n",
            "2022-08-25 08:19:37,476 INFO     Valid MR at step 2750: 17.429012\n",
            "2022-08-25 08:19:37,476 INFO     Valid HITS@1 at step 2750: 0.578704\n",
            "2022-08-25 08:19:37,476 INFO     Valid HITS@3 at step 2750: 0.722222\n",
            "2022-08-25 08:19:37,477 INFO     Valid HITS@10 at step 2750: 0.841049\n",
            "2022-08-25 08:19:38,220 INFO     Training average positive_sample_loss at step 2800: 0.441638\n",
            "2022-08-25 08:19:38,220 INFO     Training average negative_sample_loss at step 2800: 0.265899\n",
            "2022-08-25 08:19:38,221 INFO     Training average loss at step 2800: 0.353769\n",
            "2022-08-25 08:19:38,221 INFO     Evaluating on Valid Dataset...\n",
            "2022-08-25 08:19:38,316 INFO     Evaluating the model... (0/82)\n",
            "2022-08-25 08:19:39,034 INFO     Valid MRR at step 2800: 0.681821\n",
            "2022-08-25 08:19:39,034 INFO     Valid MR at step 2800: 17.398148\n",
            "2022-08-25 08:19:39,034 INFO     Valid HITS@1 at step 2800: 0.594907\n",
            "2022-08-25 08:19:39,034 INFO     Valid HITS@3 at step 2800: 0.732253\n",
            "2022-08-25 08:19:39,034 INFO     Valid HITS@10 at step 2800: 0.846451\n",
            "2022-08-25 08:19:39,797 INFO     Evaluating on Valid Dataset...\n",
            "2022-08-25 08:19:39,876 INFO     Evaluating the model... (0/82)\n",
            "2022-08-25 08:19:40,584 INFO     Valid MRR at step 2850: 0.694831\n",
            "2022-08-25 08:19:40,585 INFO     Valid MR at step 2850: 17.202932\n",
            "2022-08-25 08:19:40,586 INFO     Valid HITS@1 at step 2850: 0.618827\n",
            "2022-08-25 08:19:40,586 INFO     Valid HITS@3 at step 2850: 0.730710\n",
            "2022-08-25 08:19:40,586 INFO     Valid HITS@10 at step 2850: 0.851852\n",
            "2022-08-25 08:19:41,315 INFO     Training average positive_sample_loss at step 2900: 0.415840\n",
            "2022-08-25 08:19:41,316 INFO     Training average negative_sample_loss at step 2900: 0.253825\n",
            "2022-08-25 08:19:41,316 INFO     Training average loss at step 2900: 0.334832\n",
            "2022-08-25 08:19:41,316 INFO     Evaluating on Valid Dataset...\n",
            "2022-08-25 08:19:41,402 INFO     Evaluating the model... (0/82)\n",
            "2022-08-25 08:19:42,114 INFO     Valid MRR at step 2900: 0.701179\n",
            "2022-08-25 08:19:42,114 INFO     Valid MR at step 2900: 16.965278\n",
            "2022-08-25 08:19:42,114 INFO     Valid HITS@1 at step 2900: 0.624228\n",
            "2022-08-25 08:19:42,114 INFO     Valid HITS@3 at step 2900: 0.733025\n",
            "2022-08-25 08:19:42,114 INFO     Valid HITS@10 at step 2900: 0.849537\n",
            "2022-08-25 08:19:43,055 INFO     Evaluating on Valid Dataset...\n",
            "2022-08-25 08:19:43,134 INFO     Evaluating the model... (0/82)\n",
            "2022-08-25 08:19:43,864 INFO     Valid MRR at step 2950: 0.700417\n",
            "2022-08-25 08:19:43,865 INFO     Valid MR at step 2950: 16.631173\n",
            "2022-08-25 08:19:43,865 INFO     Valid HITS@1 at step 2950: 0.619599\n",
            "2022-08-25 08:19:43,865 INFO     Valid HITS@3 at step 2950: 0.743056\n",
            "2022-08-25 08:19:43,865 INFO     Valid HITS@10 at step 2950: 0.859568\n",
            "2022-08-25 08:19:44,581 INFO     Training average positive_sample_loss at step 3000: 0.413705\n",
            "2022-08-25 08:19:44,582 INFO     Training average negative_sample_loss at step 3000: 0.269825\n",
            "2022-08-25 08:19:44,582 INFO     Training average loss at step 3000: 0.341765\n",
            "2022-08-25 08:19:44,582 INFO     Evaluating on Valid Dataset...\n",
            "2022-08-25 08:19:44,659 INFO     Evaluating the model... (0/82)\n",
            "2022-08-25 08:19:45,385 INFO     Valid MRR at step 3000: 0.699764\n",
            "2022-08-25 08:19:45,385 INFO     Valid MR at step 3000: 16.580247\n",
            "2022-08-25 08:19:45,385 INFO     Valid HITS@1 at step 3000: 0.619599\n",
            "2022-08-25 08:19:45,386 INFO     Valid HITS@3 at step 3000: 0.749228\n",
            "2022-08-25 08:19:45,386 INFO     Valid HITS@10 at step 3000: 0.861111\n",
            "2022-08-25 08:19:46,111 INFO     Evaluating on Valid Dataset...\n",
            "2022-08-25 08:19:46,196 INFO     Evaluating the model... (0/82)\n",
            "2022-08-25 08:19:46,894 INFO     Valid MRR at step 3050: 0.701225\n",
            "2022-08-25 08:19:46,895 INFO     Valid MR at step 3050: 16.421296\n",
            "2022-08-25 08:19:46,895 INFO     Valid HITS@1 at step 3050: 0.617284\n",
            "2022-08-25 08:19:46,895 INFO     Valid HITS@3 at step 3050: 0.753858\n",
            "2022-08-25 08:19:46,895 INFO     Valid HITS@10 at step 3050: 0.864969\n",
            "2022-08-25 08:19:47,637 INFO     Training average positive_sample_loss at step 3100: 0.403825\n",
            "2022-08-25 08:19:47,638 INFO     Training average negative_sample_loss at step 3100: 0.272896\n",
            "2022-08-25 08:19:47,638 INFO     Training average loss at step 3100: 0.338361\n",
            "2022-08-25 08:19:47,638 INFO     Evaluating on Valid Dataset...\n",
            "2022-08-25 08:19:47,722 INFO     Evaluating the model... (0/82)\n",
            "2022-08-25 08:19:48,427 INFO     Valid MRR at step 3100: 0.700265\n",
            "2022-08-25 08:19:48,428 INFO     Valid MR at step 3100: 16.361111\n",
            "2022-08-25 08:19:48,428 INFO     Valid HITS@1 at step 3100: 0.618827\n",
            "2022-08-25 08:19:48,428 INFO     Valid HITS@3 at step 3100: 0.753858\n",
            "2022-08-25 08:19:48,428 INFO     Valid HITS@10 at step 3100: 0.864198\n",
            "2022-08-25 08:19:49,300 INFO     Evaluating on Valid Dataset...\n",
            "2022-08-25 08:19:49,392 INFO     Evaluating the model... (0/82)\n",
            "2022-08-25 08:19:50,083 INFO     Valid MRR at step 3150: 0.703651\n",
            "2022-08-25 08:19:50,083 INFO     Valid MR at step 3150: 16.491512\n",
            "2022-08-25 08:19:50,084 INFO     Valid HITS@1 at step 3150: 0.618056\n",
            "2022-08-25 08:19:50,084 INFO     Valid HITS@3 at step 3150: 0.758488\n",
            "2022-08-25 08:19:50,084 INFO     Valid HITS@10 at step 3150: 0.868827\n",
            "2022-08-25 08:19:50,833 INFO     Training average positive_sample_loss at step 3200: 0.394902\n",
            "2022-08-25 08:19:50,833 INFO     Training average negative_sample_loss at step 3200: 0.269134\n",
            "2022-08-25 08:19:50,833 INFO     Training average loss at step 3200: 0.332018\n",
            "2022-08-25 08:19:50,834 INFO     Evaluating on Valid Dataset...\n",
            "2022-08-25 08:19:50,930 INFO     Evaluating the model... (0/82)\n",
            "2022-08-25 08:19:51,646 INFO     Valid MRR at step 3200: 0.704358\n",
            "2022-08-25 08:19:51,646 INFO     Valid MR at step 3200: 16.489969\n",
            "2022-08-25 08:19:51,646 INFO     Valid HITS@1 at step 3200: 0.615741\n",
            "2022-08-25 08:19:51,646 INFO     Valid HITS@3 at step 3200: 0.762346\n",
            "2022-08-25 08:19:51,646 INFO     Valid HITS@10 at step 3200: 0.870370\n",
            "2022-08-25 08:19:52,382 INFO     Evaluating on Valid Dataset...\n",
            "2022-08-25 08:19:52,467 INFO     Evaluating the model... (0/82)\n",
            "2022-08-25 08:19:53,159 INFO     Valid MRR at step 3250: 0.695694\n",
            "2022-08-25 08:19:53,159 INFO     Valid MR at step 3250: 16.351852\n",
            "2022-08-25 08:19:53,159 INFO     Valid HITS@1 at step 3250: 0.603395\n",
            "2022-08-25 08:19:53,159 INFO     Valid HITS@3 at step 3250: 0.760802\n",
            "2022-08-25 08:19:53,160 INFO     Valid HITS@10 at step 3250: 0.872685\n",
            "2022-08-25 08:19:53,924 INFO     Training average positive_sample_loss at step 3300: 0.404606\n",
            "2022-08-25 08:19:53,925 INFO     Training average negative_sample_loss at step 3300: 0.272234\n",
            "2022-08-25 08:19:53,925 INFO     Training average loss at step 3300: 0.338420\n",
            "2022-08-25 08:19:53,925 INFO     Evaluating on Valid Dataset...\n",
            "2022-08-25 08:19:54,021 INFO     Evaluating the model... (0/82)\n",
            "2022-08-25 08:19:54,730 INFO     Valid MRR at step 3300: 0.699976\n",
            "2022-08-25 08:19:54,730 INFO     Valid MR at step 3300: 16.337963\n",
            "2022-08-25 08:19:54,730 INFO     Valid HITS@1 at step 3300: 0.609568\n",
            "2022-08-25 08:19:54,730 INFO     Valid HITS@3 at step 3300: 0.763117\n",
            "2022-08-25 08:19:54,731 INFO     Valid HITS@10 at step 3300: 0.871914\n",
            "2022-08-25 08:19:55,610 INFO     Evaluating on Valid Dataset...\n",
            "2022-08-25 08:19:55,699 INFO     Evaluating the model... (0/82)\n",
            "2022-08-25 08:19:56,395 INFO     Valid MRR at step 3350: 0.709652\n",
            "2022-08-25 08:19:56,395 INFO     Valid MR at step 3350: 16.024691\n",
            "2022-08-25 08:19:56,395 INFO     Valid HITS@1 at step 3350: 0.621914\n",
            "2022-08-25 08:19:56,396 INFO     Valid HITS@3 at step 3350: 0.768519\n",
            "2022-08-25 08:19:56,396 INFO     Valid HITS@10 at step 3350: 0.868827\n",
            "2022-08-25 08:19:57,142 INFO     Training average positive_sample_loss at step 3400: 0.381331\n",
            "2022-08-25 08:19:57,143 INFO     Training average negative_sample_loss at step 3400: 0.260988\n",
            "2022-08-25 08:19:57,143 INFO     Training average loss at step 3400: 0.321159\n",
            "2022-08-25 08:19:57,143 INFO     Evaluating on Valid Dataset...\n",
            "2022-08-25 08:19:57,226 INFO     Evaluating the model... (0/82)\n",
            "2022-08-25 08:19:57,928 INFO     Valid MRR at step 3400: 0.712948\n",
            "2022-08-25 08:19:57,929 INFO     Valid MR at step 3400: 15.914352\n",
            "2022-08-25 08:19:57,929 INFO     Valid HITS@1 at step 3400: 0.623457\n",
            "2022-08-25 08:19:57,929 INFO     Valid HITS@3 at step 3400: 0.777778\n",
            "2022-08-25 08:19:57,929 INFO     Valid HITS@10 at step 3400: 0.874228\n",
            "2022-08-25 08:19:58,668 INFO     Evaluating on Valid Dataset...\n",
            "2022-08-25 08:19:58,754 INFO     Evaluating the model... (0/82)\n",
            "2022-08-25 08:19:59,466 INFO     Valid MRR at step 3450: 0.716374\n",
            "2022-08-25 08:19:59,466 INFO     Valid MR at step 3450: 15.944444\n",
            "2022-08-25 08:19:59,466 INFO     Valid HITS@1 at step 3450: 0.628086\n",
            "2022-08-25 08:19:59,467 INFO     Valid HITS@3 at step 3450: 0.776235\n",
            "2022-08-25 08:19:59,467 INFO     Valid HITS@10 at step 3450: 0.878858\n",
            "2022-08-25 08:20:00,198 INFO     Training average positive_sample_loss at step 3500: 0.400201\n",
            "2022-08-25 08:20:00,199 INFO     Training average negative_sample_loss at step 3500: 0.266946\n",
            "2022-08-25 08:20:00,200 INFO     Training average loss at step 3500: 0.333574\n",
            "2022-08-25 08:20:00,200 INFO     Evaluating on Valid Dataset...\n",
            "2022-08-25 08:20:00,281 INFO     Evaluating the model... (0/82)\n",
            "2022-08-25 08:20:00,974 INFO     Valid MRR at step 3500: 0.718804\n",
            "2022-08-25 08:20:00,975 INFO     Valid MR at step 3500: 15.949074\n",
            "2022-08-25 08:20:00,975 INFO     Valid HITS@1 at step 3500: 0.629630\n",
            "2022-08-25 08:20:00,975 INFO     Valid HITS@3 at step 3500: 0.777778\n",
            "2022-08-25 08:20:00,975 INFO     Valid HITS@10 at step 3500: 0.878086\n",
            "2022-08-25 08:20:01,886 INFO     Evaluating on Valid Dataset...\n",
            "2022-08-25 08:20:01,970 INFO     Evaluating the model... (0/82)\n",
            "2022-08-25 08:20:02,682 INFO     Valid MRR at step 3550: 0.718663\n",
            "2022-08-25 08:20:02,682 INFO     Valid MR at step 3550: 15.804012\n",
            "2022-08-25 08:20:02,683 INFO     Valid HITS@1 at step 3550: 0.628858\n",
            "2022-08-25 08:20:02,683 INFO     Valid HITS@3 at step 3550: 0.780864\n",
            "2022-08-25 08:20:02,683 INFO     Valid HITS@10 at step 3550: 0.878086\n",
            "2022-08-25 08:20:03,450 INFO     Training average positive_sample_loss at step 3600: 0.395748\n",
            "2022-08-25 08:20:03,451 INFO     Training average negative_sample_loss at step 3600: 0.253868\n",
            "2022-08-25 08:20:03,451 INFO     Training average loss at step 3600: 0.324808\n",
            "2022-08-25 08:20:03,451 INFO     Evaluating on Valid Dataset...\n",
            "2022-08-25 08:20:03,540 INFO     Evaluating the model... (0/82)\n",
            "2022-08-25 08:20:04,250 INFO     Valid MRR at step 3600: 0.711801\n",
            "2022-08-25 08:20:04,250 INFO     Valid MR at step 3600: 15.773148\n",
            "2022-08-25 08:20:04,250 INFO     Valid HITS@1 at step 3600: 0.620370\n",
            "2022-08-25 08:20:04,251 INFO     Valid HITS@3 at step 3600: 0.770062\n",
            "2022-08-25 08:20:04,251 INFO     Valid HITS@10 at step 3600: 0.878858\n",
            "2022-08-25 08:20:05,017 INFO     Evaluating on Valid Dataset...\n",
            "2022-08-25 08:20:05,093 INFO     Evaluating the model... (0/82)\n",
            "2022-08-25 08:20:05,829 INFO     Valid MRR at step 3650: 0.717240\n",
            "2022-08-25 08:20:05,829 INFO     Valid MR at step 3650: 15.781636\n",
            "2022-08-25 08:20:05,830 INFO     Valid HITS@1 at step 3650: 0.626543\n",
            "2022-08-25 08:20:05,830 INFO     Valid HITS@3 at step 3650: 0.778549\n",
            "2022-08-25 08:20:05,830 INFO     Valid HITS@10 at step 3650: 0.879630\n",
            "2022-08-25 08:20:06,553 INFO     Training average positive_sample_loss at step 3700: 0.387504\n",
            "2022-08-25 08:20:06,553 INFO     Training average negative_sample_loss at step 3700: 0.248193\n",
            "2022-08-25 08:20:06,553 INFO     Training average loss at step 3700: 0.317848\n",
            "2022-08-25 08:20:06,554 INFO     Evaluating on Valid Dataset...\n",
            "2022-08-25 08:20:06,638 INFO     Evaluating the model... (0/82)\n",
            "2022-08-25 08:20:07,359 INFO     Valid MRR at step 3700: 0.720120\n",
            "2022-08-25 08:20:07,359 INFO     Valid MR at step 3700: 15.625772\n",
            "2022-08-25 08:20:07,359 INFO     Valid HITS@1 at step 3700: 0.628858\n",
            "2022-08-25 08:20:07,360 INFO     Valid HITS@3 at step 3700: 0.781636\n",
            "2022-08-25 08:20:07,360 INFO     Valid HITS@10 at step 3700: 0.887346\n",
            "2022-08-25 08:20:08,245 INFO     Evaluating on Valid Dataset...\n",
            "2022-08-25 08:20:08,347 INFO     Evaluating the model... (0/82)\n",
            "2022-08-25 08:20:09,051 INFO     Valid MRR at step 3750: 0.714707\n",
            "2022-08-25 08:20:09,052 INFO     Valid MR at step 3750: 15.556327\n",
            "2022-08-25 08:20:09,052 INFO     Valid HITS@1 at step 3750: 0.619599\n",
            "2022-08-25 08:20:09,052 INFO     Valid HITS@3 at step 3750: 0.788580\n",
            "2022-08-25 08:20:09,052 INFO     Valid HITS@10 at step 3750: 0.884259\n",
            "2022-08-25 08:20:09,828 INFO     Training average positive_sample_loss at step 3800: 0.376999\n",
            "2022-08-25 08:20:09,829 INFO     Training average negative_sample_loss at step 3800: 0.247951\n",
            "2022-08-25 08:20:09,829 INFO     Training average loss at step 3800: 0.312475\n",
            "2022-08-25 08:20:09,829 INFO     Evaluating on Valid Dataset...\n",
            "2022-08-25 08:20:09,911 INFO     Evaluating the model... (0/82)\n",
            "2022-08-25 08:20:10,604 INFO     Valid MRR at step 3800: 0.720776\n",
            "2022-08-25 08:20:10,605 INFO     Valid MR at step 3800: 15.347994\n",
            "2022-08-25 08:20:10,605 INFO     Valid HITS@1 at step 3800: 0.633488\n",
            "2022-08-25 08:20:10,605 INFO     Valid HITS@3 at step 3800: 0.775463\n",
            "2022-08-25 08:20:10,605 INFO     Valid HITS@10 at step 3800: 0.885031\n",
            "2022-08-25 08:20:11,377 INFO     Evaluating on Valid Dataset...\n",
            "2022-08-25 08:20:11,475 INFO     Evaluating the model... (0/82)\n",
            "2022-08-25 08:20:12,165 INFO     Valid MRR at step 3850: 0.719516\n",
            "2022-08-25 08:20:12,166 INFO     Valid MR at step 3850: 15.425154\n",
            "2022-08-25 08:20:12,166 INFO     Valid HITS@1 at step 3850: 0.632716\n",
            "2022-08-25 08:20:12,166 INFO     Valid HITS@3 at step 3850: 0.779321\n",
            "2022-08-25 08:20:12,166 INFO     Valid HITS@10 at step 3850: 0.884259\n",
            "2022-08-25 08:20:12,905 INFO     Training average positive_sample_loss at step 3900: 0.402660\n",
            "2022-08-25 08:20:12,906 INFO     Training average negative_sample_loss at step 3900: 0.260943\n",
            "2022-08-25 08:20:12,906 INFO     Training average loss at step 3900: 0.331801\n",
            "2022-08-25 08:20:12,906 INFO     Evaluating on Valid Dataset...\n",
            "2022-08-25 08:20:12,991 INFO     Evaluating the model... (0/82)\n",
            "2022-08-25 08:20:13,701 INFO     Valid MRR at step 3900: 0.727008\n",
            "2022-08-25 08:20:13,701 INFO     Valid MR at step 3900: 15.391975\n",
            "2022-08-25 08:20:13,701 INFO     Valid HITS@1 at step 3900: 0.641204\n",
            "2022-08-25 08:20:13,701 INFO     Valid HITS@3 at step 3900: 0.787037\n",
            "2022-08-25 08:20:13,701 INFO     Valid HITS@10 at step 3900: 0.885802\n",
            "2022-08-25 08:20:14,595 INFO     Evaluating on Valid Dataset...\n",
            "2022-08-25 08:20:14,671 INFO     Evaluating the model... (0/82)\n",
            "2022-08-25 08:20:15,376 INFO     Valid MRR at step 3950: 0.726588\n",
            "2022-08-25 08:20:15,376 INFO     Valid MR at step 3950: 15.415895\n",
            "2022-08-25 08:20:15,376 INFO     Valid HITS@1 at step 3950: 0.640432\n",
            "2022-08-25 08:20:15,377 INFO     Valid HITS@3 at step 3950: 0.790895\n",
            "2022-08-25 08:20:15,377 INFO     Valid HITS@10 at step 3950: 0.885802\n",
            "2022-08-25 08:20:16,165 INFO     Training average positive_sample_loss at step 4000: 0.377575\n",
            "2022-08-25 08:20:16,165 INFO     Training average negative_sample_loss at step 4000: 0.255660\n",
            "2022-08-25 08:20:16,165 INFO     Training average loss at step 4000: 0.316617\n",
            "2022-08-25 08:20:16,166 INFO     Evaluating on Valid Dataset...\n",
            "2022-08-25 08:20:16,248 INFO     Evaluating the model... (0/82)\n",
            "2022-08-25 08:20:16,949 INFO     Valid MRR at step 4000: 0.727074\n",
            "2022-08-25 08:20:16,950 INFO     Valid MR at step 4000: 15.352623\n",
            "2022-08-25 08:20:16,950 INFO     Valid HITS@1 at step 4000: 0.638117\n",
            "2022-08-25 08:20:16,950 INFO     Valid HITS@3 at step 4000: 0.791667\n",
            "2022-08-25 08:20:16,950 INFO     Valid HITS@10 at step 4000: 0.883488\n",
            "2022-08-25 08:20:17,676 INFO     Evaluating on Valid Dataset...\n",
            "2022-08-25 08:20:17,762 INFO     Evaluating the model... (0/82)\n",
            "2022-08-25 08:20:18,470 INFO     Valid MRR at step 4050: 0.731793\n",
            "2022-08-25 08:20:18,471 INFO     Valid MR at step 4050: 15.253086\n",
            "2022-08-25 08:20:18,471 INFO     Valid HITS@1 at step 4050: 0.648920\n",
            "2022-08-25 08:20:18,471 INFO     Valid HITS@3 at step 4050: 0.789352\n",
            "2022-08-25 08:20:18,471 INFO     Valid HITS@10 at step 4050: 0.881944\n",
            "2022-08-25 08:20:19,242 INFO     Training average positive_sample_loss at step 4100: 0.404574\n",
            "2022-08-25 08:20:19,242 INFO     Training average negative_sample_loss at step 4100: 0.243921\n",
            "2022-08-25 08:20:19,243 INFO     Training average loss at step 4100: 0.324247\n",
            "2022-08-25 08:20:19,243 INFO     Evaluating on Valid Dataset...\n",
            "2022-08-25 08:20:19,310 INFO     Evaluating the model... (0/82)\n",
            "2022-08-25 08:20:20,038 INFO     Valid MRR at step 4100: 0.735801\n",
            "2022-08-25 08:20:20,038 INFO     Valid MR at step 4100: 15.157407\n",
            "2022-08-25 08:20:20,039 INFO     Valid HITS@1 at step 4100: 0.650463\n",
            "2022-08-25 08:20:20,039 INFO     Valid HITS@3 at step 4100: 0.806327\n",
            "2022-08-25 08:20:20,039 INFO     Valid HITS@10 at step 4100: 0.888117\n",
            "2022-08-25 08:20:20,918 INFO     Evaluating on Valid Dataset...\n",
            "2022-08-25 08:20:21,008 INFO     Evaluating the model... (0/82)\n",
            "2022-08-25 08:20:21,718 INFO     Valid MRR at step 4150: 0.736220\n",
            "2022-08-25 08:20:21,718 INFO     Valid MR at step 4150: 15.159722\n",
            "2022-08-25 08:20:21,718 INFO     Valid HITS@1 at step 4150: 0.649691\n",
            "2022-08-25 08:20:21,719 INFO     Valid HITS@3 at step 4150: 0.799383\n",
            "2022-08-25 08:20:21,719 INFO     Valid HITS@10 at step 4150: 0.885802\n",
            "2022-08-25 08:20:22,479 INFO     Training average positive_sample_loss at step 4200: 0.386527\n",
            "2022-08-25 08:20:22,480 INFO     Training average negative_sample_loss at step 4200: 0.260631\n",
            "2022-08-25 08:20:22,480 INFO     Training average loss at step 4200: 0.323579\n",
            "2022-08-25 08:20:22,480 INFO     Evaluating on Valid Dataset...\n",
            "2022-08-25 08:20:22,555 INFO     Evaluating the model... (0/82)\n",
            "2022-08-25 08:20:23,269 INFO     Valid MRR at step 4200: 0.724285\n",
            "2022-08-25 08:20:23,269 INFO     Valid MR at step 4200: 15.349537\n",
            "2022-08-25 08:20:23,269 INFO     Valid HITS@1 at step 4200: 0.632716\n",
            "2022-08-25 08:20:23,270 INFO     Valid HITS@3 at step 4200: 0.793210\n",
            "2022-08-25 08:20:23,270 INFO     Valid HITS@10 at step 4200: 0.879630\n",
            "2022-08-25 08:20:23,989 INFO     Evaluating on Valid Dataset...\n",
            "2022-08-25 08:20:24,068 INFO     Evaluating the model... (0/82)\n",
            "2022-08-25 08:20:24,779 INFO     Valid MRR at step 4250: 0.728031\n",
            "2022-08-25 08:20:24,779 INFO     Valid MR at step 4250: 15.236111\n",
            "2022-08-25 08:20:24,779 INFO     Valid HITS@1 at step 4250: 0.638117\n",
            "2022-08-25 08:20:24,779 INFO     Valid HITS@3 at step 4250: 0.796296\n",
            "2022-08-25 08:20:24,779 INFO     Valid HITS@10 at step 4250: 0.882716\n",
            "2022-08-25 08:20:25,530 INFO     Training average positive_sample_loss at step 4300: 0.395065\n",
            "2022-08-25 08:20:25,531 INFO     Training average negative_sample_loss at step 4300: 0.246594\n",
            "2022-08-25 08:20:25,531 INFO     Training average loss at step 4300: 0.320829\n",
            "2022-08-25 08:20:25,531 INFO     Evaluating on Valid Dataset...\n",
            "2022-08-25 08:20:25,614 INFO     Evaluating the model... (0/82)\n",
            "2022-08-25 08:20:26,368 INFO     Valid MRR at step 4300: 0.730993\n",
            "2022-08-25 08:20:26,368 INFO     Valid MR at step 4300: 15.069444\n",
            "2022-08-25 08:20:26,368 INFO     Valid HITS@1 at step 4300: 0.641204\n",
            "2022-08-25 08:20:26,369 INFO     Valid HITS@3 at step 4300: 0.801698\n",
            "2022-08-25 08:20:26,369 INFO     Valid HITS@10 at step 4300: 0.884259\n",
            "2022-08-25 08:20:27,266 INFO     Evaluating on Valid Dataset...\n",
            "2022-08-25 08:20:27,345 INFO     Evaluating the model... (0/82)\n",
            "2022-08-25 08:20:28,059 INFO     Valid MRR at step 4350: 0.731647\n",
            "2022-08-25 08:20:28,059 INFO     Valid MR at step 4350: 14.938272\n",
            "2022-08-25 08:20:28,059 INFO     Valid HITS@1 at step 4350: 0.642747\n",
            "2022-08-25 08:20:28,059 INFO     Valid HITS@3 at step 4350: 0.797840\n",
            "2022-08-25 08:20:28,060 INFO     Valid HITS@10 at step 4350: 0.885031\n",
            "2022-08-25 08:20:28,823 INFO     Training average positive_sample_loss at step 4400: 0.381051\n",
            "2022-08-25 08:20:28,823 INFO     Training average negative_sample_loss at step 4400: 0.247152\n",
            "2022-08-25 08:20:28,823 INFO     Training average loss at step 4400: 0.314102\n",
            "2022-08-25 08:20:28,823 INFO     Evaluating on Valid Dataset...\n",
            "2022-08-25 08:20:28,907 INFO     Evaluating the model... (0/82)\n",
            "2022-08-25 08:20:29,615 INFO     Valid MRR at step 4400: 0.745491\n",
            "2022-08-25 08:20:29,616 INFO     Valid MR at step 4400: 15.108025\n",
            "2022-08-25 08:20:29,616 INFO     Valid HITS@1 at step 4400: 0.664352\n",
            "2022-08-25 08:20:29,616 INFO     Valid HITS@3 at step 4400: 0.805556\n",
            "2022-08-25 08:20:29,616 INFO     Valid HITS@10 at step 4400: 0.881173\n",
            "2022-08-25 08:20:30,337 INFO     Evaluating on Valid Dataset...\n",
            "2022-08-25 08:20:30,442 INFO     Evaluating the model... (0/82)\n",
            "2022-08-25 08:20:31,154 INFO     Valid MRR at step 4450: 0.749114\n",
            "2022-08-25 08:20:31,154 INFO     Valid MR at step 4450: 15.068673\n",
            "2022-08-25 08:20:31,154 INFO     Valid HITS@1 at step 4450: 0.668981\n",
            "2022-08-25 08:20:31,154 INFO     Valid HITS@3 at step 4450: 0.810185\n",
            "2022-08-25 08:20:31,155 INFO     Valid HITS@10 at step 4450: 0.880401\n",
            "2022-08-25 08:20:31,905 INFO     Training average positive_sample_loss at step 4500: 0.404377\n",
            "2022-08-25 08:20:31,905 INFO     Training average negative_sample_loss at step 4500: 0.269826\n",
            "2022-08-25 08:20:31,906 INFO     Training average loss at step 4500: 0.337101\n",
            "2022-08-25 08:20:31,906 INFO     Evaluating on Valid Dataset...\n",
            "2022-08-25 08:20:31,990 INFO     Evaluating the model... (0/82)\n",
            "2022-08-25 08:20:32,727 INFO     Valid MRR at step 4500: 0.740325\n",
            "2022-08-25 08:20:32,728 INFO     Valid MR at step 4500: 15.022377\n",
            "2022-08-25 08:20:32,728 INFO     Valid HITS@1 at step 4500: 0.655864\n",
            "2022-08-25 08:20:32,728 INFO     Valid HITS@3 at step 4500: 0.801698\n",
            "2022-08-25 08:20:32,728 INFO     Valid HITS@10 at step 4500: 0.885802\n",
            "2022-08-25 08:20:33,660 INFO     Evaluating on Valid Dataset...\n",
            "2022-08-25 08:20:33,775 INFO     Evaluating the model... (0/82)\n",
            "2022-08-25 08:20:34,501 INFO     Valid MRR at step 4550: 0.741528\n",
            "2022-08-25 08:20:34,502 INFO     Valid MR at step 4550: 14.816358\n",
            "2022-08-25 08:20:34,502 INFO     Valid HITS@1 at step 4550: 0.660494\n",
            "2022-08-25 08:20:34,502 INFO     Valid HITS@3 at step 4550: 0.804012\n",
            "2022-08-25 08:20:34,502 INFO     Valid HITS@10 at step 4550: 0.885802\n",
            "2022-08-25 08:20:35,276 INFO     Training average positive_sample_loss at step 4600: 0.393270\n",
            "2022-08-25 08:20:35,277 INFO     Training average negative_sample_loss at step 4600: 0.261341\n",
            "2022-08-25 08:20:35,277 INFO     Training average loss at step 4600: 0.327306\n",
            "2022-08-25 08:20:35,277 INFO     Evaluating on Valid Dataset...\n",
            "2022-08-25 08:20:35,361 INFO     Evaluating the model... (0/82)\n",
            "2022-08-25 08:20:36,060 INFO     Valid MRR at step 4600: 0.738063\n",
            "2022-08-25 08:20:36,060 INFO     Valid MR at step 4600: 14.798611\n",
            "2022-08-25 08:20:36,060 INFO     Valid HITS@1 at step 4600: 0.652778\n",
            "2022-08-25 08:20:36,060 INFO     Valid HITS@3 at step 4600: 0.802469\n",
            "2022-08-25 08:20:36,060 INFO     Valid HITS@10 at step 4600: 0.886574\n",
            "2022-08-25 08:20:36,806 INFO     Evaluating on Valid Dataset...\n",
            "2022-08-25 08:20:36,896 INFO     Evaluating the model... (0/82)\n",
            "2022-08-25 08:20:37,618 INFO     Valid MRR at step 4650: 0.740296\n",
            "2022-08-25 08:20:37,618 INFO     Valid MR at step 4650: 14.910494\n",
            "2022-08-25 08:20:37,619 INFO     Valid HITS@1 at step 4650: 0.655093\n",
            "2022-08-25 08:20:37,619 INFO     Valid HITS@3 at step 4650: 0.804012\n",
            "2022-08-25 08:20:37,619 INFO     Valid HITS@10 at step 4650: 0.889660\n",
            "2022-08-25 08:20:38,324 INFO     Training average positive_sample_loss at step 4700: 0.392470\n",
            "2022-08-25 08:20:38,325 INFO     Training average negative_sample_loss at step 4700: 0.241486\n",
            "2022-08-25 08:20:38,325 INFO     Training average loss at step 4700: 0.316978\n",
            "2022-08-25 08:20:38,325 INFO     Evaluating on Valid Dataset...\n",
            "2022-08-25 08:20:38,433 INFO     Evaluating the model... (0/82)\n",
            "2022-08-25 08:20:39,161 INFO     Valid MRR at step 4700: 0.742372\n",
            "2022-08-25 08:20:39,161 INFO     Valid MR at step 4700: 14.910494\n",
            "2022-08-25 08:20:39,161 INFO     Valid HITS@1 at step 4700: 0.655093\n",
            "2022-08-25 08:20:39,162 INFO     Valid HITS@3 at step 4700: 0.810185\n",
            "2022-08-25 08:20:39,162 INFO     Valid HITS@10 at step 4700: 0.891975\n",
            "2022-08-25 08:20:40,091 INFO     Evaluating on Valid Dataset...\n",
            "2022-08-25 08:20:40,177 INFO     Evaluating the model... (0/82)\n",
            "2022-08-25 08:20:40,891 INFO     Valid MRR at step 4750: 0.744054\n",
            "2022-08-25 08:20:40,892 INFO     Valid MR at step 4750: 14.959877\n",
            "2022-08-25 08:20:40,892 INFO     Valid HITS@1 at step 4750: 0.659722\n",
            "2022-08-25 08:20:40,892 INFO     Valid HITS@3 at step 4750: 0.807870\n",
            "2022-08-25 08:20:40,892 INFO     Valid HITS@10 at step 4750: 0.896605\n",
            "2022-08-25 08:20:41,653 INFO     Training average positive_sample_loss at step 4800: 0.372869\n",
            "2022-08-25 08:20:41,654 INFO     Training average negative_sample_loss at step 4800: 0.256622\n",
            "2022-08-25 08:20:41,654 INFO     Training average loss at step 4800: 0.314745\n",
            "2022-08-25 08:20:41,654 INFO     Evaluating on Valid Dataset...\n",
            "2022-08-25 08:20:41,738 INFO     Evaluating the model... (0/82)\n",
            "2022-08-25 08:20:42,451 INFO     Valid MRR at step 4800: 0.739133\n",
            "2022-08-25 08:20:42,451 INFO     Valid MR at step 4800: 15.134259\n",
            "2022-08-25 08:20:42,452 INFO     Valid HITS@1 at step 4800: 0.648920\n",
            "2022-08-25 08:20:42,452 INFO     Valid HITS@3 at step 4800: 0.810185\n",
            "2022-08-25 08:20:42,452 INFO     Valid HITS@10 at step 4800: 0.888117\n",
            "2022-08-25 08:20:43,202 INFO     Evaluating on Valid Dataset...\n",
            "2022-08-25 08:20:43,294 INFO     Evaluating the model... (0/82)\n",
            "2022-08-25 08:20:44,020 INFO     Valid MRR at step 4850: 0.744651\n",
            "2022-08-25 08:20:44,021 INFO     Valid MR at step 4850: 15.097994\n",
            "2022-08-25 08:20:44,021 INFO     Valid HITS@1 at step 4850: 0.659722\n",
            "2022-08-25 08:20:44,021 INFO     Valid HITS@3 at step 4850: 0.805556\n",
            "2022-08-25 08:20:44,021 INFO     Valid HITS@10 at step 4850: 0.893519\n",
            "2022-08-25 08:20:44,825 INFO     Training average positive_sample_loss at step 4900: 0.406921\n",
            "2022-08-25 08:20:44,826 INFO     Training average negative_sample_loss at step 4900: 0.256299\n",
            "2022-08-25 08:20:44,826 INFO     Training average loss at step 4900: 0.331610\n",
            "2022-08-25 08:20:44,827 INFO     Evaluating on Valid Dataset...\n",
            "2022-08-25 08:20:44,917 INFO     Evaluating the model... (0/82)\n",
            "2022-08-25 08:20:45,646 INFO     Valid MRR at step 4900: 0.735975\n",
            "2022-08-25 08:20:45,646 INFO     Valid MR at step 4900: 14.864198\n",
            "2022-08-25 08:20:45,646 INFO     Valid HITS@1 at step 4900: 0.648920\n",
            "2022-08-25 08:20:45,646 INFO     Valid HITS@3 at step 4900: 0.800154\n",
            "2022-08-25 08:20:45,646 INFO     Valid HITS@10 at step 4900: 0.888889\n",
            "2022-08-25 08:20:46,470 INFO     Evaluating on Valid Dataset...\n",
            "2022-08-25 08:20:46,557 INFO     Evaluating the model... (0/82)\n",
            "2022-08-25 08:20:47,282 INFO     Valid MRR at step 4950: 0.730076\n",
            "2022-08-25 08:20:47,282 INFO     Valid MR at step 4950: 14.895062\n",
            "2022-08-25 08:20:47,282 INFO     Valid HITS@1 at step 4950: 0.636574\n",
            "2022-08-25 08:20:47,282 INFO     Valid HITS@3 at step 4950: 0.797840\n",
            "2022-08-25 08:20:47,283 INFO     Valid HITS@10 at step 4950: 0.891204\n",
            "2022-08-25 08:20:48,010 INFO     Evaluating on Valid Dataset...\n",
            "2022-08-25 08:20:48,105 INFO     Evaluating the model... (0/82)\n",
            "2022-08-25 08:20:48,833 INFO     Valid MRR at step 4999: 0.736869\n",
            "2022-08-25 08:20:48,833 INFO     Valid MR at step 4999: 14.665123\n",
            "2022-08-25 08:20:48,833 INFO     Valid HITS@1 at step 4999: 0.648920\n",
            "2022-08-25 08:20:48,833 INFO     Valid HITS@3 at step 4999: 0.806327\n",
            "2022-08-25 08:20:48,834 INFO     Valid HITS@10 at step 4999: 0.885031\n",
            "2022-08-25 08:20:48,834 INFO     Evaluating on Test Dataset...\n",
            "2022-08-25 08:20:48,914 INFO     Evaluating the model... (0/80)\n",
            "2022-08-25 08:20:49,664 INFO     Test MRR at step 4999: 0.723492\n",
            "2022-08-25 08:20:49,664 INFO     Test MR at step 4999: 13.818110\n",
            "2022-08-25 08:20:49,665 INFO     Test HITS@1 at step 4999: 0.640157\n",
            "2022-08-25 08:20:49,665 INFO     Test HITS@3 at step 4999: 0.777165\n",
            "2022-08-25 08:20:49,665 INFO     Test HITS@10 at step 4999: 0.872441\n"
          ]
        }
      ],
      "source": [
        "# !CUDA_VISIBLE_DEVICES=0 python -u codes/run.py --do_train \\\n",
        "#  --do_valid \\\n",
        "#  --do_test \\\n",
        "#  --data_path data/yamanishi \\\n",
        "#  --model TransE \\\n",
        "#  --valid_steps 50 \\\n",
        "#  --save_checkpoint_steps 2 \\\n",
        "#  -n 10 -b 20 -d 2 \\\n",
        "#  -g 2.0 -a 1.0 -adv \\\n",
        "# -lr 0.1 --max_steps 250 \\\n",
        "# -save models/Task3_yamanishi_2Dim --test_batch_size 16 "
      ]
    },
    {
      "cell_type": "code",
      "execution_count": null,
      "metadata": {
        "colab": {
          "base_uri": "https://localhost:8080/"
        },
        "id": "dGv9D1XiJR89",
        "outputId": "7be35375-014a-4969-959b-a23d6e2be498"
      },
      "outputs": [
        {
          "name": "stdout",
          "output_type": "stream",
          "text": [
            "2022-08-25 08:37:36,916 INFO     Model: DistMult\n",
            "2022-08-25 08:37:36,916 INFO     Data Path: data/yamanishi\n",
            "2022-08-25 08:37:36,916 INFO     #entity: 510\n",
            "2022-08-25 08:37:36,917 INFO     #relation: 1\n",
            "2022-08-25 08:37:36,919 INFO     #train: 1952\n",
            "2022-08-25 08:37:36,922 INFO     #valid: 648\n",
            "2022-08-25 08:37:36,924 INFO     #test: 635\n",
            "2022-08-25 08:37:36,925 INFO     Model Parameter Configuration:\n",
            "2022-08-25 08:37:36,925 INFO     Parameter gamma: torch.Size([1]), require_grad = False\n",
            "2022-08-25 08:37:36,925 INFO     Parameter embedding_range: torch.Size([1]), require_grad = False\n",
            "2022-08-25 08:37:36,925 INFO     Parameter entity_embedding: torch.Size([510, 2]), require_grad = True\n",
            "2022-08-25 08:37:36,926 INFO     Parameter relation_embedding: torch.Size([1, 2]), require_grad = True\n",
            "/usr/local/lib/python3.7/dist-packages/torch/utils/data/dataloader.py:566: UserWarning: This DataLoader will create 5 worker processes in total. Our suggested max number of worker in current system is 2, which is smaller than what this DataLoader is going to create. Please be aware that excessive worker creation might get DataLoader running slow or even freeze, lower the worker number to avoid potential slowness/freeze if necessary.\n",
            "  cpuset_checked))\n",
            "2022-08-25 08:37:36,933 INFO     Ramdomly Initializing DistMult Model...\n",
            "2022-08-25 08:37:36,933 INFO     Start Training...\n",
            "2022-08-25 08:37:36,933 INFO     init_step = 0\n",
            "2022-08-25 08:37:36,933 INFO     batch_size = 20\n",
            "2022-08-25 08:37:36,933 INFO     negative_adversarial_sampling = 1\n",
            "2022-08-25 08:37:36,934 INFO     hidden_dim = 2\n",
            "2022-08-25 08:37:36,934 INFO     gamma = 2.000000\n",
            "2022-08-25 08:37:36,934 INFO     negative_adversarial_sampling = True\n",
            "2022-08-25 08:37:36,934 INFO     adversarial_temperature = 1.000000\n",
            "2022-08-25 08:37:36,934 INFO     learning_rate = 0\n",
            "2022-08-25 08:37:37,064 INFO     Training average positive_sample_loss at step 0: 1.590139\n",
            "2022-08-25 08:37:37,065 INFO     Training average negative_sample_loss at step 0: 2.695149\n",
            "2022-08-25 08:37:37,065 INFO     Training average loss at step 0: 2.142644\n",
            "2022-08-25 08:37:37,065 INFO     Evaluating on Valid Dataset...\n",
            "2022-08-25 08:37:37,159 INFO     Evaluating the model... (0/82)\n",
            "2022-08-25 08:37:37,585 INFO     Valid MRR at step 0: 0.011667\n",
            "2022-08-25 08:37:37,588 INFO     Valid MR at step 0: 248.461420\n",
            "2022-08-25 08:37:37,588 INFO     Valid HITS@1 at step 0: 0.000772\n",
            "2022-08-25 08:37:37,588 INFO     Valid HITS@3 at step 0: 0.004630\n",
            "2022-08-25 08:37:37,588 INFO     Valid HITS@10 at step 0: 0.013117\n",
            "2022-08-25 08:37:38,401 INFO     Evaluating on Valid Dataset...\n",
            "2022-08-25 08:37:38,479 INFO     Evaluating the model... (0/82)\n",
            "2022-08-25 08:37:38,951 INFO     Valid MRR at step 50: 0.012101\n",
            "2022-08-25 08:37:38,952 INFO     Valid MR at step 50: 238.850309\n",
            "2022-08-25 08:37:38,952 INFO     Valid HITS@1 at step 50: 0.000000\n",
            "2022-08-25 08:37:38,952 INFO     Valid HITS@3 at step 50: 0.004630\n",
            "2022-08-25 08:37:38,952 INFO     Valid HITS@10 at step 50: 0.020062\n",
            "2022-08-25 08:37:39,689 INFO     Training average positive_sample_loss at step 100: 0.718633\n",
            "2022-08-25 08:37:39,690 INFO     Training average negative_sample_loss at step 100: 0.784158\n",
            "2022-08-25 08:37:39,690 INFO     Training average loss at step 100: 0.751395\n",
            "2022-08-25 08:37:39,690 INFO     Evaluating on Valid Dataset...\n",
            "2022-08-25 08:37:39,761 INFO     Evaluating the model... (0/82)\n",
            "2022-08-25 08:37:40,220 INFO     Valid MRR at step 100: 0.012170\n",
            "2022-08-25 08:37:40,221 INFO     Valid MR at step 100: 239.528549\n",
            "2022-08-25 08:37:40,221 INFO     Valid HITS@1 at step 100: 0.001543\n",
            "2022-08-25 08:37:40,221 INFO     Valid HITS@3 at step 100: 0.004630\n",
            "2022-08-25 08:37:40,221 INFO     Valid HITS@10 at step 100: 0.016204\n",
            "2022-08-25 08:37:40,576 INFO     Change learning_rate to 0.010000 at step 125\n",
            "2022-08-25 08:37:40,935 INFO     Evaluating on Valid Dataset...\n",
            "2022-08-25 08:37:40,996 INFO     Evaluating the model... (0/82)\n",
            "2022-08-25 08:37:41,453 INFO     Valid MRR at step 150: 0.011143\n",
            "2022-08-25 08:37:41,453 INFO     Valid MR at step 150: 243.222222\n",
            "2022-08-25 08:37:41,453 INFO     Valid HITS@1 at step 150: 0.000772\n",
            "2022-08-25 08:37:41,453 INFO     Valid HITS@3 at step 150: 0.002315\n",
            "2022-08-25 08:37:41,455 INFO     Valid HITS@10 at step 150: 0.013889\n",
            "2022-08-25 08:37:42,370 INFO     Training average positive_sample_loss at step 200: 0.692922\n",
            "2022-08-25 08:37:42,370 INFO     Training average negative_sample_loss at step 200: 0.694452\n",
            "2022-08-25 08:37:42,371 INFO     Training average loss at step 200: 0.693687\n",
            "2022-08-25 08:37:42,371 INFO     Evaluating on Valid Dataset...\n",
            "2022-08-25 08:37:42,443 INFO     Evaluating the model... (0/82)\n",
            "2022-08-25 08:37:42,883 INFO     Valid MRR at step 200: 0.011309\n",
            "2022-08-25 08:37:42,883 INFO     Valid MR at step 200: 243.584877\n",
            "2022-08-25 08:37:42,883 INFO     Valid HITS@1 at step 200: 0.000772\n",
            "2022-08-25 08:37:42,883 INFO     Valid HITS@3 at step 200: 0.002315\n",
            "2022-08-25 08:37:42,884 INFO     Valid HITS@10 at step 200: 0.014660\n",
            "2022-08-25 08:37:43,592 INFO     Evaluating on Valid Dataset...\n",
            "2022-08-25 08:37:43,661 INFO     Evaluating the model... (0/82)\n",
            "2022-08-25 08:37:44,147 INFO     Valid MRR at step 249: 0.010794\n",
            "2022-08-25 08:37:44,147 INFO     Valid MR at step 249: 241.266204\n",
            "2022-08-25 08:37:44,147 INFO     Valid HITS@1 at step 249: 0.000000\n",
            "2022-08-25 08:37:44,148 INFO     Valid HITS@3 at step 249: 0.001543\n",
            "2022-08-25 08:37:44,148 INFO     Valid HITS@10 at step 249: 0.016975\n",
            "2022-08-25 08:37:44,148 INFO     Evaluating on Test Dataset...\n",
            "2022-08-25 08:37:44,228 INFO     Evaluating the model... (0/80)\n",
            "2022-08-25 08:37:44,695 INFO     Test MRR at step 249: 0.011544\n",
            "2022-08-25 08:37:44,696 INFO     Test MR at step 249: 250.874016\n",
            "2022-08-25 08:37:44,696 INFO     Test HITS@1 at step 249: 0.000000\n",
            "2022-08-25 08:37:44,696 INFO     Test HITS@3 at step 249: 0.005512\n",
            "2022-08-25 08:37:44,696 INFO     Test HITS@10 at step 249: 0.019685\n"
          ]
        }
      ],
      "source": [
        "!CUDA_VISIBLE_DEVICES=0 python -u codes/run.py --do_train \\\n",
        " --do_valid \\\n",
        " --do_test \\\n",
        " --data_path data/yamanishi \\\n",
        " --model DistMult \\\n",
        " --valid_steps 50 \\\n",
        " --save_checkpoint_steps 2 \\\n",
        " -n 10 -b 20 -d 2 \\\n",
        " -g 2.0 -a 1.0 -adv \\\n",
        "-lr 0.1 --max_steps 250 \\\n",
        "-save models/Task3_yamanishi_2Dim --test_batch_size 16"
      ]
    },
    {
      "cell_type": "markdown",
      "metadata": {
        "id": "Zo24cymMixdG"
      },
      "source": [
        "Read out the snapshotted embeddings"
      ]
    },
    {
      "cell_type": "code",
      "execution_count": null,
      "metadata": {
        "id": "zMzUNjfaFZSK"
      },
      "outputs": [],
      "source": [
        "embedding_history_paths = sorted(list(pathlib.Path('/content/drive/MyDrive/AI_Labor/KnowledgeGraphEmbedding/models/Task3_yamanishi_2Dim').glob('*.npy')))\n",
        "history = []\n",
        "\n",
        "for i in range (len(embedding_history_paths)):\n",
        "  if \"entity\" in str(embedding_history_paths[i]):\n",
        "    emb = np.load(embedding_history_paths[i])\n",
        "\n",
        "    headers = []\n",
        "    dim_size = emb.shape[1]\n",
        "    for x in range(dim_size):\n",
        "      headers.append(\"d\"+str(x))\n",
        "\n",
        "    #fetching indices of used entities: \n",
        "    tmp = pd.read_csv(\"/content/drive/MyDrive/AI_Labor/KnowledgeGraphEmbedding/data/yamanishi/entities.dict\", sep=\"\\t\", header=None)\n",
        "    tmp.columns = [\"key\", \"value\"]\n",
        "    tmp_filtered = tmp[\"value\"].isin(set(np.concatenate((df[0].values, df[2].values))))\n",
        "    filtered_entities = tmp[tmp_filtered]\n",
        "    indices_of_used_entities = filtered_entities['key'].values\n",
        "    names_of_used_entities = filtered_entities['value'].values\n",
        "    transe_historical_embeddings = np.take(emb, indices_of_used_entities, axis=0)\n",
        "    df_transe_historical_embeddings = pd.DataFrame(data=transe_historical_embeddings, index=names_of_used_entities, columns=headers)\n",
        "    history.append(df_transe_historical_embeddings)\n"
      ]
    },
    {
      "cell_type": "markdown",
      "metadata": {
        "id": "VhwWH6XojFB0"
      },
      "source": [
        "Create necessary directories for experiment outputs"
      ]
    },
    {
      "cell_type": "code",
      "execution_count": null,
      "metadata": {
        "colab": {
          "base_uri": "https://localhost:8080/"
        },
        "id": "jmYwJ3K5YeoI",
        "outputId": "bfa63a00-3bb9-4271-ef29-0ee4014241d6"
      },
      "outputs": [
        {
          "name": "stdout",
          "output_type": "stream",
          "text": [
            "mkdir: cannot create directory ‘/content/drive/MyDrive/AI_Labor/KnowledgeGraphEmbedding/models/Task3_yamanishi_2Dim/plots/’: File exists\n",
            "mkdir: cannot create directory ‘/content/drive/MyDrive/AI_Labor/KnowledgeGraphEmbedding/models/Task3_yamanishi_2Dim/gif/’: File exists\n",
            "mkdir: cannot create directory ‘/content/drive/MyDrive/AI_Labor/KnowledgeGraphEmbedding/models/Task3_yamanishi_2Dim/video/’: File exists\n"
          ]
        }
      ],
      "source": [
        "%mkdir /content/drive/MyDrive/AI_Labor/KnowledgeGraphEmbedding/models/Task3_yamanishi_2Dim/plots/\n",
        "%mkdir /content/drive/MyDrive/AI_Labor/KnowledgeGraphEmbedding/models/Task3_yamanishi_2Dim/gif/\n",
        "%mkdir /content/drive/MyDrive/AI_Labor/KnowledgeGraphEmbedding/models/Task3_yamanishi_2Dim/video/"
      ]
    },
    {
      "cell_type": "markdown",
      "metadata": {
        "id": "73Ha_ZTPjHVY"
      },
      "source": [
        "Create plots (each plot represents the geometric location of entities in the geometric space. Since the dimensions were 2, we see the embeddings as they are! (rather an extra postprocessing layer of dimensionality reduction technique!)"
      ]
    },
    {
      "cell_type": "code",
      "execution_count": null,
      "metadata": {
        "colab": {
          "base_uri": "https://localhost:8080/",
          "height": 1000
        },
        "id": "IqF2qM51LtV9",
        "outputId": "b5d9b953-ff04-48a4-8885-db208c97a5f2"
      },
      "outputs": [
        {
          "name": "stdout",
          "output_type": "stream",
          "text": [
            "Figure 0 is ready!...\n",
            "Figure 5 is ready!...\n",
            "Figure 10 is ready!...\n",
            "Figure 15 is ready!...\n"
          ]
        },
        {
          "name": "stderr",
          "output_type": "stream",
          "text": [
            "/usr/local/lib/python3.7/dist-packages/ipykernel_launcher.py:12: RuntimeWarning: More than 20 figures have been opened. Figures created through the pyplot interface (`matplotlib.pyplot.figure`) are retained until explicitly closed and may consume too much memory. (To control this warning, see the rcParam `figure.max_open_warning`).\n",
            "  if sys.path[0] == '':\n"
          ]
        },
        {
          "name": "stdout",
          "output_type": "stream",
          "text": [
            "Figure 20 is ready!...\n",
            "Figure 25 is ready!...\n",
            "Figure 30 is ready!...\n",
            "Figure 35 is ready!...\n",
            "Figure 40 is ready!...\n",
            "Figure 45 is ready!...\n",
            "Figure 50 is ready!...\n",
            "Figure 55 is ready!...\n",
            "Figure 60 is ready!...\n",
            "Figure 65 is ready!...\n",
            "Figure 70 is ready!...\n",
            "Figure 75 is ready!...\n",
            "Figure 80 is ready!...\n",
            "Figure 85 is ready!...\n",
            "Figure 90 is ready!...\n",
            "Figure 95 is ready!...\n",
            "Figure 100 is ready!...\n",
            "Figure 105 is ready!...\n",
            "Figure 110 is ready!...\n",
            "Figure 115 is ready!...\n",
            "Figure 120 is ready!...\n"
          ]
        },
        {
          "data": {
            "text/plain": [
              "<Figure size 720x720 with 0 Axes>"
            ]
          },
          "metadata": {},
          "output_type": "display_data"
        },
        {
          "data": {
            "text/plain": [
              "<Figure size 720x720 with 0 Axes>"
            ]
          },
          "metadata": {},
          "output_type": "display_data"
        },
        {
          "data": {
            "text/plain": [
              "<Figure size 720x720 with 0 Axes>"
            ]
          },
          "metadata": {},
          "output_type": "display_data"
        },
        {
          "data": {
            "text/plain": [
              "<Figure size 720x720 with 0 Axes>"
            ]
          },
          "metadata": {},
          "output_type": "display_data"
        },
        {
          "data": {
            "text/plain": [
              "<Figure size 720x720 with 0 Axes>"
            ]
          },
          "metadata": {},
          "output_type": "display_data"
        },
        {
          "data": {
            "text/plain": [
              "<Figure size 720x720 with 0 Axes>"
            ]
          },
          "metadata": {},
          "output_type": "display_data"
        },
        {
          "data": {
            "text/plain": [
              "<Figure size 720x720 with 0 Axes>"
            ]
          },
          "metadata": {},
          "output_type": "display_data"
        },
        {
          "data": {
            "text/plain": [
              "<Figure size 720x720 with 0 Axes>"
            ]
          },
          "metadata": {},
          "output_type": "display_data"
        },
        {
          "data": {
            "text/plain": [
              "<Figure size 720x720 with 0 Axes>"
            ]
          },
          "metadata": {},
          "output_type": "display_data"
        },
        {
          "data": {
            "text/plain": [
              "<Figure size 720x720 with 0 Axes>"
            ]
          },
          "metadata": {},
          "output_type": "display_data"
        },
        {
          "data": {
            "text/plain": [
              "<Figure size 720x720 with 0 Axes>"
            ]
          },
          "metadata": {},
          "output_type": "display_data"
        },
        {
          "data": {
            "text/plain": [
              "<Figure size 720x720 with 0 Axes>"
            ]
          },
          "metadata": {},
          "output_type": "display_data"
        },
        {
          "data": {
            "text/plain": [
              "<Figure size 720x720 with 0 Axes>"
            ]
          },
          "metadata": {},
          "output_type": "display_data"
        },
        {
          "data": {
            "text/plain": [
              "<Figure size 720x720 with 0 Axes>"
            ]
          },
          "metadata": {},
          "output_type": "display_data"
        },
        {
          "data": {
            "text/plain": [
              "<Figure size 720x720 with 0 Axes>"
            ]
          },
          "metadata": {},
          "output_type": "display_data"
        },
        {
          "data": {
            "text/plain": [
              "<Figure size 720x720 with 0 Axes>"
            ]
          },
          "metadata": {},
          "output_type": "display_data"
        },
        {
          "data": {
            "text/plain": [
              "<Figure size 720x720 with 0 Axes>"
            ]
          },
          "metadata": {},
          "output_type": "display_data"
        },
        {
          "data": {
            "text/plain": [
              "<Figure size 720x720 with 0 Axes>"
            ]
          },
          "metadata": {},
          "output_type": "display_data"
        },
        {
          "data": {
            "text/plain": [
              "<Figure size 720x720 with 0 Axes>"
            ]
          },
          "metadata": {},
          "output_type": "display_data"
        },
        {
          "data": {
            "text/plain": [
              "<Figure size 720x720 with 0 Axes>"
            ]
          },
          "metadata": {},
          "output_type": "display_data"
        },
        {
          "data": {
            "text/plain": [
              "<Figure size 720x720 with 0 Axes>"
            ]
          },
          "metadata": {},
          "output_type": "display_data"
        },
        {
          "data": {
            "text/plain": [
              "<Figure size 720x720 with 0 Axes>"
            ]
          },
          "metadata": {},
          "output_type": "display_data"
        },
        {
          "data": {
            "text/plain": [
              "<Figure size 720x720 with 0 Axes>"
            ]
          },
          "metadata": {},
          "output_type": "display_data"
        },
        {
          "data": {
            "text/plain": [
              "<Figure size 720x720 with 0 Axes>"
            ]
          },
          "metadata": {},
          "output_type": "display_data"
        },
        {
          "data": {
            "text/plain": [
              "<Figure size 720x720 with 0 Axes>"
            ]
          },
          "metadata": {},
          "output_type": "display_data"
        },
        {
          "data": {
            "text/plain": [
              "<Figure size 720x720 with 0 Axes>"
            ]
          },
          "metadata": {},
          "output_type": "display_data"
        },
        {
          "data": {
            "text/plain": [
              "<Figure size 720x720 with 0 Axes>"
            ]
          },
          "metadata": {},
          "output_type": "display_data"
        },
        {
          "data": {
            "text/plain": [
              "<Figure size 720x720 with 0 Axes>"
            ]
          },
          "metadata": {},
          "output_type": "display_data"
        },
        {
          "data": {
            "text/plain": [
              "<Figure size 720x720 with 0 Axes>"
            ]
          },
          "metadata": {},
          "output_type": "display_data"
        },
        {
          "data": {
            "text/plain": [
              "<Figure size 720x720 with 0 Axes>"
            ]
          },
          "metadata": {},
          "output_type": "display_data"
        },
        {
          "data": {
            "text/plain": [
              "<Figure size 720x720 with 0 Axes>"
            ]
          },
          "metadata": {},
          "output_type": "display_data"
        },
        {
          "data": {
            "text/plain": [
              "<Figure size 720x720 with 0 Axes>"
            ]
          },
          "metadata": {},
          "output_type": "display_data"
        },
        {
          "data": {
            "text/plain": [
              "<Figure size 720x720 with 0 Axes>"
            ]
          },
          "metadata": {},
          "output_type": "display_data"
        },
        {
          "data": {
            "text/plain": [
              "<Figure size 720x720 with 0 Axes>"
            ]
          },
          "metadata": {},
          "output_type": "display_data"
        },
        {
          "data": {
            "text/plain": [
              "<Figure size 720x720 with 0 Axes>"
            ]
          },
          "metadata": {},
          "output_type": "display_data"
        },
        {
          "data": {
            "text/plain": [
              "<Figure size 720x720 with 0 Axes>"
            ]
          },
          "metadata": {},
          "output_type": "display_data"
        },
        {
          "data": {
            "text/plain": [
              "<Figure size 720x720 with 0 Axes>"
            ]
          },
          "metadata": {},
          "output_type": "display_data"
        },
        {
          "data": {
            "text/plain": [
              "<Figure size 720x720 with 0 Axes>"
            ]
          },
          "metadata": {},
          "output_type": "display_data"
        },
        {
          "data": {
            "text/plain": [
              "<Figure size 720x720 with 0 Axes>"
            ]
          },
          "metadata": {},
          "output_type": "display_data"
        },
        {
          "data": {
            "text/plain": [
              "<Figure size 720x720 with 0 Axes>"
            ]
          },
          "metadata": {},
          "output_type": "display_data"
        },
        {
          "data": {
            "text/plain": [
              "<Figure size 720x720 with 0 Axes>"
            ]
          },
          "metadata": {},
          "output_type": "display_data"
        },
        {
          "data": {
            "text/plain": [
              "<Figure size 720x720 with 0 Axes>"
            ]
          },
          "metadata": {},
          "output_type": "display_data"
        },
        {
          "data": {
            "text/plain": [
              "<Figure size 720x720 with 0 Axes>"
            ]
          },
          "metadata": {},
          "output_type": "display_data"
        },
        {
          "data": {
            "text/plain": [
              "<Figure size 720x720 with 0 Axes>"
            ]
          },
          "metadata": {},
          "output_type": "display_data"
        },
        {
          "data": {
            "text/plain": [
              "<Figure size 720x720 with 0 Axes>"
            ]
          },
          "metadata": {},
          "output_type": "display_data"
        },
        {
          "data": {
            "text/plain": [
              "<Figure size 720x720 with 0 Axes>"
            ]
          },
          "metadata": {},
          "output_type": "display_data"
        },
        {
          "data": {
            "text/plain": [
              "<Figure size 720x720 with 0 Axes>"
            ]
          },
          "metadata": {},
          "output_type": "display_data"
        },
        {
          "data": {
            "text/plain": [
              "<Figure size 720x720 with 0 Axes>"
            ]
          },
          "metadata": {},
          "output_type": "display_data"
        },
        {
          "data": {
            "text/plain": [
              "<Figure size 720x720 with 0 Axes>"
            ]
          },
          "metadata": {},
          "output_type": "display_data"
        },
        {
          "data": {
            "text/plain": [
              "<Figure size 720x720 with 0 Axes>"
            ]
          },
          "metadata": {},
          "output_type": "display_data"
        },
        {
          "data": {
            "text/plain": [
              "<Figure size 720x720 with 0 Axes>"
            ]
          },
          "metadata": {},
          "output_type": "display_data"
        },
        {
          "data": {
            "text/plain": [
              "<Figure size 720x720 with 0 Axes>"
            ]
          },
          "metadata": {},
          "output_type": "display_data"
        },
        {
          "data": {
            "text/plain": [
              "<Figure size 720x720 with 0 Axes>"
            ]
          },
          "metadata": {},
          "output_type": "display_data"
        },
        {
          "data": {
            "text/plain": [
              "<Figure size 720x720 with 0 Axes>"
            ]
          },
          "metadata": {},
          "output_type": "display_data"
        },
        {
          "data": {
            "text/plain": [
              "<Figure size 720x720 with 0 Axes>"
            ]
          },
          "metadata": {},
          "output_type": "display_data"
        },
        {
          "data": {
            "text/plain": [
              "<Figure size 720x720 with 0 Axes>"
            ]
          },
          "metadata": {},
          "output_type": "display_data"
        },
        {
          "data": {
            "text/plain": [
              "<Figure size 720x720 with 0 Axes>"
            ]
          },
          "metadata": {},
          "output_type": "display_data"
        },
        {
          "data": {
            "text/plain": [
              "<Figure size 720x720 with 0 Axes>"
            ]
          },
          "metadata": {},
          "output_type": "display_data"
        },
        {
          "data": {
            "text/plain": [
              "<Figure size 720x720 with 0 Axes>"
            ]
          },
          "metadata": {},
          "output_type": "display_data"
        },
        {
          "data": {
            "text/plain": [
              "<Figure size 720x720 with 0 Axes>"
            ]
          },
          "metadata": {},
          "output_type": "display_data"
        },
        {
          "data": {
            "text/plain": [
              "<Figure size 720x720 with 0 Axes>"
            ]
          },
          "metadata": {},
          "output_type": "display_data"
        },
        {
          "data": {
            "text/plain": [
              "<Figure size 720x720 with 0 Axes>"
            ]
          },
          "metadata": {},
          "output_type": "display_data"
        },
        {
          "data": {
            "text/plain": [
              "<Figure size 720x720 with 0 Axes>"
            ]
          },
          "metadata": {},
          "output_type": "display_data"
        },
        {
          "data": {
            "text/plain": [
              "<Figure size 720x720 with 0 Axes>"
            ]
          },
          "metadata": {},
          "output_type": "display_data"
        },
        {
          "data": {
            "text/plain": [
              "<Figure size 720x720 with 0 Axes>"
            ]
          },
          "metadata": {},
          "output_type": "display_data"
        },
        {
          "data": {
            "text/plain": [
              "<Figure size 720x720 with 0 Axes>"
            ]
          },
          "metadata": {},
          "output_type": "display_data"
        },
        {
          "data": {
            "text/plain": [
              "<Figure size 720x720 with 0 Axes>"
            ]
          },
          "metadata": {},
          "output_type": "display_data"
        },
        {
          "data": {
            "text/plain": [
              "<Figure size 720x720 with 0 Axes>"
            ]
          },
          "metadata": {},
          "output_type": "display_data"
        },
        {
          "data": {
            "text/plain": [
              "<Figure size 720x720 with 0 Axes>"
            ]
          },
          "metadata": {},
          "output_type": "display_data"
        },
        {
          "data": {
            "text/plain": [
              "<Figure size 720x720 with 0 Axes>"
            ]
          },
          "metadata": {},
          "output_type": "display_data"
        },
        {
          "data": {
            "text/plain": [
              "<Figure size 720x720 with 0 Axes>"
            ]
          },
          "metadata": {},
          "output_type": "display_data"
        },
        {
          "data": {
            "text/plain": [
              "<Figure size 720x720 with 0 Axes>"
            ]
          },
          "metadata": {},
          "output_type": "display_data"
        },
        {
          "data": {
            "text/plain": [
              "<Figure size 720x720 with 0 Axes>"
            ]
          },
          "metadata": {},
          "output_type": "display_data"
        },
        {
          "data": {
            "text/plain": [
              "<Figure size 720x720 with 0 Axes>"
            ]
          },
          "metadata": {},
          "output_type": "display_data"
        },
        {
          "data": {
            "text/plain": [
              "<Figure size 720x720 with 0 Axes>"
            ]
          },
          "metadata": {},
          "output_type": "display_data"
        },
        {
          "data": {
            "text/plain": [
              "<Figure size 720x720 with 0 Axes>"
            ]
          },
          "metadata": {},
          "output_type": "display_data"
        },
        {
          "data": {
            "text/plain": [
              "<Figure size 720x720 with 0 Axes>"
            ]
          },
          "metadata": {},
          "output_type": "display_data"
        },
        {
          "data": {
            "text/plain": [
              "<Figure size 720x720 with 0 Axes>"
            ]
          },
          "metadata": {},
          "output_type": "display_data"
        },
        {
          "data": {
            "text/plain": [
              "<Figure size 720x720 with 0 Axes>"
            ]
          },
          "metadata": {},
          "output_type": "display_data"
        },
        {
          "data": {
            "text/plain": [
              "<Figure size 720x720 with 0 Axes>"
            ]
          },
          "metadata": {},
          "output_type": "display_data"
        },
        {
          "data": {
            "text/plain": [
              "<Figure size 720x720 with 0 Axes>"
            ]
          },
          "metadata": {},
          "output_type": "display_data"
        },
        {
          "data": {
            "text/plain": [
              "<Figure size 720x720 with 0 Axes>"
            ]
          },
          "metadata": {},
          "output_type": "display_data"
        },
        {
          "data": {
            "text/plain": [
              "<Figure size 720x720 with 0 Axes>"
            ]
          },
          "metadata": {},
          "output_type": "display_data"
        },
        {
          "data": {
            "text/plain": [
              "<Figure size 720x720 with 0 Axes>"
            ]
          },
          "metadata": {},
          "output_type": "display_data"
        },
        {
          "data": {
            "text/plain": [
              "<Figure size 720x720 with 0 Axes>"
            ]
          },
          "metadata": {},
          "output_type": "display_data"
        },
        {
          "data": {
            "text/plain": [
              "<Figure size 720x720 with 0 Axes>"
            ]
          },
          "metadata": {},
          "output_type": "display_data"
        },
        {
          "data": {
            "text/plain": [
              "<Figure size 720x720 with 0 Axes>"
            ]
          },
          "metadata": {},
          "output_type": "display_data"
        },
        {
          "data": {
            "text/plain": [
              "<Figure size 720x720 with 0 Axes>"
            ]
          },
          "metadata": {},
          "output_type": "display_data"
        },
        {
          "data": {
            "text/plain": [
              "<Figure size 720x720 with 0 Axes>"
            ]
          },
          "metadata": {},
          "output_type": "display_data"
        },
        {
          "data": {
            "text/plain": [
              "<Figure size 720x720 with 0 Axes>"
            ]
          },
          "metadata": {},
          "output_type": "display_data"
        },
        {
          "data": {
            "text/plain": [
              "<Figure size 720x720 with 0 Axes>"
            ]
          },
          "metadata": {},
          "output_type": "display_data"
        },
        {
          "data": {
            "text/plain": [
              "<Figure size 720x720 with 0 Axes>"
            ]
          },
          "metadata": {},
          "output_type": "display_data"
        },
        {
          "data": {
            "text/plain": [
              "<Figure size 720x720 with 0 Axes>"
            ]
          },
          "metadata": {},
          "output_type": "display_data"
        },
        {
          "data": {
            "text/plain": [
              "<Figure size 720x720 with 0 Axes>"
            ]
          },
          "metadata": {},
          "output_type": "display_data"
        },
        {
          "data": {
            "text/plain": [
              "<Figure size 720x720 with 0 Axes>"
            ]
          },
          "metadata": {},
          "output_type": "display_data"
        },
        {
          "data": {
            "text/plain": [
              "<Figure size 720x720 with 0 Axes>"
            ]
          },
          "metadata": {},
          "output_type": "display_data"
        },
        {
          "data": {
            "text/plain": [
              "<Figure size 720x720 with 0 Axes>"
            ]
          },
          "metadata": {},
          "output_type": "display_data"
        },
        {
          "data": {
            "text/plain": [
              "<Figure size 720x720 with 0 Axes>"
            ]
          },
          "metadata": {},
          "output_type": "display_data"
        },
        {
          "data": {
            "text/plain": [
              "<Figure size 720x720 with 0 Axes>"
            ]
          },
          "metadata": {},
          "output_type": "display_data"
        },
        {
          "data": {
            "text/plain": [
              "<Figure size 720x720 with 0 Axes>"
            ]
          },
          "metadata": {},
          "output_type": "display_data"
        },
        {
          "data": {
            "text/plain": [
              "<Figure size 720x720 with 0 Axes>"
            ]
          },
          "metadata": {},
          "output_type": "display_data"
        },
        {
          "data": {
            "text/plain": [
              "<Figure size 720x720 with 0 Axes>"
            ]
          },
          "metadata": {},
          "output_type": "display_data"
        },
        {
          "data": {
            "text/plain": [
              "<Figure size 720x720 with 0 Axes>"
            ]
          },
          "metadata": {},
          "output_type": "display_data"
        },
        {
          "data": {
            "text/plain": [
              "<Figure size 720x720 with 0 Axes>"
            ]
          },
          "metadata": {},
          "output_type": "display_data"
        },
        {
          "data": {
            "text/plain": [
              "<Figure size 720x720 with 0 Axes>"
            ]
          },
          "metadata": {},
          "output_type": "display_data"
        },
        {
          "data": {
            "text/plain": [
              "<Figure size 720x720 with 0 Axes>"
            ]
          },
          "metadata": {},
          "output_type": "display_data"
        },
        {
          "data": {
            "text/plain": [
              "<Figure size 720x720 with 0 Axes>"
            ]
          },
          "metadata": {},
          "output_type": "display_data"
        },
        {
          "data": {
            "text/plain": [
              "<Figure size 720x720 with 0 Axes>"
            ]
          },
          "metadata": {},
          "output_type": "display_data"
        },
        {
          "data": {
            "text/plain": [
              "<Figure size 720x720 with 0 Axes>"
            ]
          },
          "metadata": {},
          "output_type": "display_data"
        },
        {
          "data": {
            "text/plain": [
              "<Figure size 720x720 with 0 Axes>"
            ]
          },
          "metadata": {},
          "output_type": "display_data"
        },
        {
          "data": {
            "text/plain": [
              "<Figure size 720x720 with 0 Axes>"
            ]
          },
          "metadata": {},
          "output_type": "display_data"
        },
        {
          "data": {
            "text/plain": [
              "<Figure size 720x720 with 0 Axes>"
            ]
          },
          "metadata": {},
          "output_type": "display_data"
        },
        {
          "data": {
            "text/plain": [
              "<Figure size 720x720 with 0 Axes>"
            ]
          },
          "metadata": {},
          "output_type": "display_data"
        },
        {
          "data": {
            "text/plain": [
              "<Figure size 720x720 with 0 Axes>"
            ]
          },
          "metadata": {},
          "output_type": "display_data"
        },
        {
          "data": {
            "text/plain": [
              "<Figure size 720x720 with 0 Axes>"
            ]
          },
          "metadata": {},
          "output_type": "display_data"
        },
        {
          "data": {
            "text/plain": [
              "<Figure size 720x720 with 0 Axes>"
            ]
          },
          "metadata": {},
          "output_type": "display_data"
        },
        {
          "data": {
            "text/plain": [
              "<Figure size 720x720 with 0 Axes>"
            ]
          },
          "metadata": {},
          "output_type": "display_data"
        },
        {
          "data": {
            "text/plain": [
              "<Figure size 720x720 with 0 Axes>"
            ]
          },
          "metadata": {},
          "output_type": "display_data"
        },
        {
          "data": {
            "text/plain": [
              "<Figure size 720x720 with 0 Axes>"
            ]
          },
          "metadata": {},
          "output_type": "display_data"
        },
        {
          "data": {
            "text/plain": [
              "<Figure size 720x720 with 0 Axes>"
            ]
          },
          "metadata": {},
          "output_type": "display_data"
        },
        {
          "data": {
            "text/plain": [
              "<Figure size 720x720 with 0 Axes>"
            ]
          },
          "metadata": {},
          "output_type": "display_data"
        },
        {
          "data": {
            "text/plain": [
              "<Figure size 720x720 with 0 Axes>"
            ]
          },
          "metadata": {},
          "output_type": "display_data"
        },
        {
          "data": {
            "text/plain": [
              "<Figure size 720x720 with 0 Axes>"
            ]
          },
          "metadata": {},
          "output_type": "display_data"
        },
        {
          "data": {
            "text/plain": [
              "<Figure size 720x720 with 0 Axes>"
            ]
          },
          "metadata": {},
          "output_type": "display_data"
        },
        {
          "data": {
            "text/plain": [
              "<Figure size 720x720 with 0 Axes>"
            ]
          },
          "metadata": {},
          "output_type": "display_data"
        }
      ],
      "source": [
        "colors = []\n",
        "for i in range(len(history[1].index)):\n",
        "    colors.append('#%06X' % randint(0, 0xFFFFFF))\n",
        "\n",
        "xCoor = []\n",
        "yCoor = []\n",
        "for i in range (len(history)):\n",
        "  xCoor.append(history[i][\"d0\"].values)\n",
        "  yCoor.append(history[i][\"d1\"].values)\n",
        "\n",
        "for i in range(len(history)):\n",
        "  fig, ax = plt.subplots(figsize=(10,10))\n",
        "  ax.scatter(xCoor[i], yCoor[i], c=colors, s=150)\n",
        "  ax.set_title(\"Snapshot: \"+ str(i))\n",
        "  for j, txt in enumerate(list(history[0].index)):\n",
        "    ax.annotate(txt, (xCoor[i][j], yCoor[i][j]))\n",
        "  if i % 5 == 0:\n",
        "    print(\"Figure \" + str(i) + \" is ready!...\")\n",
        "  fig.savefig(\"/content/drive/MyDrive/AI_Labor/KnowledgeGraphEmbedding/models/Task3_yamanishi_2Dim/plots/fig_\"+str(f\"{i:04d}\")+\".png\")\n",
        "  fig.clf()"
      ]
    },
    {
      "cell_type": "markdown",
      "metadata": {
        "id": "4HQun9urjfaW"
      },
      "source": [
        "Below cell creates a GIF out of the snapshots"
      ]
    },
    {
      "cell_type": "code",
      "execution_count": null,
      "metadata": {
        "id": "JiKh7_8nM1dM"
      },
      "outputs": [],
      "source": [
        "fp_in = \"/content/drive/MyDrive/AI_Labor/KnowledgeGraphEmbedding/models/Task3_yamanishi_2Dim/plots/*\"\n",
        "fp_out = \"/content/drive/MyDrive/AI_Labor/KnowledgeGraphEmbedding/models/Task3_yamanishi_2Dim/gif/task3.gif\"\n",
        "\n",
        "img, *imgs = [Image.open(f) for f in sorted(glob.glob(fp_in)[1:])]\n",
        "img.save(fp=fp_out, format='GIF', append_images=imgs,\n",
        "         save_all=True, duration=300, loop=0)"
      ]
    },
    {
      "cell_type": "markdown",
      "metadata": {
        "id": "k35-Fkqpjhls"
      },
      "source": [
        "Below cell creates a video out of the snapshots"
      ]
    },
    {
      "cell_type": "code",
      "execution_count": null,
      "metadata": {
        "id": "auf8_s83ZDf_"
      },
      "outputs": [],
      "source": [
        "img_array = []\n",
        "for filename in sorted(glob.glob(fp_in))[1:]:\n",
        "    img = cv2.imread(filename)\n",
        "    height, width, layers = img.shape\n",
        "    size = (width,height)\n",
        "    img_array.append(img)\n",
        " \n",
        " \n",
        "out = cv2.VideoWriter('/content/drive/MyDrive/AI_Labor/KnowledgeGraphEmbedding/models/Task3_yamanishi_2Dim/video/task3.mp4',cv2.VideoWriter_fourcc(*'DIVX'), 15, size)\n",
        " \n",
        "for i in range(len(img_array)):\n",
        "    out.write(img_array[i])\n",
        "out.release()"
      ]
    },
    {
      "cell_type": "code",
      "execution_count": null,
      "metadata": {
        "colab": {
          "base_uri": "https://localhost:8080/",
          "height": 104
        },
        "id": "RSabMLqa60-M",
        "outputId": "f653e3d4-dd93-4cd4-c911-d620f066c1c1"
      },
      "outputs": [
        {
          "data": {
            "application/vnd.google.colaboratory.intrinsic+json": {
              "type": "string"
            },
            "text/plain": [
              "'\\nfor transE\\n!CUDA_VISIBLE_DEVICES=0 python -u codes/run.py --do_train  --do_valid  --do_test  --data_path data/countries_S1  --model TransE  --valid_steps 50  --save_checkpoint_steps 10  -n 5 -b 20 -d 2  -g 4.0 -a 1.0 -adv -lr 0.1 --max_steps 1000 -save models/Task3_Countries_2Dim --test_batch_size 16\\n\\nfor distmult\\n\\n'"
            ]
          },
          "execution_count": 93,
          "metadata": {},
          "output_type": "execute_result"
        }
      ],
      "source": [
        "'''\n",
        "for transE\n",
        "!CUDA_VISIBLE_DEVICES=0 python -u codes/run.py --do_train \\\n",
        " --do_valid \\\n",
        " --do_test \\\n",
        " --data_path data/countries_S1 \\\n",
        " --model TransE \\\n",
        " --valid_steps 50 \\\n",
        " --save_checkpoint_steps 10 \\\n",
        " -n 5 -b 20 -d 2 \\\n",
        " -g 4.0 -a 1.0 -adv \\\n",
        "-lr 0.1 --max_steps 1000 \\\n",
        "-save models/Task3_Countries_2Dim --test_batch_size 16\n",
        "\n",
        "for distmult\n",
        "!CUDA_VISIBLE_DEVICES=0 python -u codes/run.py --do_train \\\n",
        " --do_valid \\\n",
        " --do_test \\\n",
        " --data_path data/countries_S1 \\\n",
        " --model DistMult \\\n",
        " --valid_steps 50 \\\n",
        " --save_checkpoint_steps 2 \\\n",
        " -n 10 -b 20 -d 2 \\\n",
        " -g 2.0 -a 1.0 -adv \\\n",
        "-lr 0.1 --max_steps 250 \\\n",
        "-save models/Task3_Countries_2Dim --test_batch_size 16\n",
        "\n",
        "for Rotate\n",
        "!CUDA_VISIBLE_DEVICES=0 python -u codes/run.py --do_train \\\n",
        " --do_valid \\\n",
        " --do_test \\\n",
        " --data_path data/countries_S1 \\\n",
        " --model DistMult \\\n",
        " --valid_steps 50 \\\n",
        " --save_checkpoint_steps 2 \\\n",
        " -n 10 -b 20 -d 2 \\\n",
        " -g 2.0 -a 1.0 -adv \\\n",
        "-lr 0.1 --max_steps 250 \\\n",
        "-save models/Task3_Countries_2Dim --test_batch_size 16\n",
        "'''"
      ]
    },
    {
      "cell_type": "code",
      "execution_count": null,
      "metadata": {
        "id": "w8-ipGYGITGp"
      },
      "outputs": [],
      "source": []
    }
  ],
  "metadata": {
    "accelerator": "GPU",
    "colab": {
      "collapsed_sections": [],
      "provenance": []
    },
    "kernelspec": {
      "display_name": "Python 3",
      "name": "python3"
    }
  },
  "nbformat": 4,
  "nbformat_minor": 0
}