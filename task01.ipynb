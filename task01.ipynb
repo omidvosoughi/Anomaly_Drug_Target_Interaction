{
 "cells": [
  {
   "cell_type": "code",
   "execution_count": 1,
   "metadata": {},
   "outputs": [],
   "source": [
    "from matplotlib import pyplot as plt\n",
    "import pandas as pd\n",
    "import numpy as np\n",
    "import pathlib\n",
    "import glob\n",
    "from PIL import Image\n",
    "from random import randint\n",
    "import cv2\n",
    "import numpy as np\n",
    "import glob"
   ]
  },
  {
   "cell_type": "code",
   "execution_count": 2,
   "metadata": {},
   "outputs": [
    {
     "name": "stdout",
     "output_type": "stream",
     "text": [
      "     target    drug\n",
      "0  hsa:5147  D00528\n",
      "1   hsa:147  D00454\n",
      "2  hsa:2562  D00548\n",
      "3  hsa:6340  D00552\n",
      "4  hsa:1562  D01425\n",
      "     target    drug\n",
      "0   hsa:781  D00542\n",
      "1   hsa:763  D00538\n",
      "2   hsa:778  D00437\n",
      "3  hsa:1593  D00394\n",
      "4  hsa:2557  D00331\n",
      "       target    drug\n",
      "0    hsa:9311  D00538\n",
      "1   hsa:11238  D00218\n",
      "2   hsa:29785  D00964\n",
      "3  hsa:285220  D03350\n",
      "4    hsa:6324  D00303\n"
     ]
    }
   ],
   "source": [
    "train = pd.read_csv('train.csv', sep='\\t')\n",
    "valid = pd.read_csv('valid.csv', sep='\\t')\n",
    "test = pd.read_csv('test.csv', sep='\\t')\n",
    "print(train.head())\n",
    "print(valid.head())\n",
    "print(test.head())"
   ]
  },
  {
   "cell_type": "code",
   "execution_count": 3,
   "metadata": {},
   "outputs": [
    {
     "name": "stdout",
     "output_type": "stream",
     "text": [
      "length of train:1952\n",
      "length of valid:651\n",
      "length of test:651\n"
     ]
    }
   ],
   "source": [
    "print('length of train:{}'.format(len(train)))\n",
    "print('length of valid:{}'.format(len(valid)))\n",
    "print('length of test:{}'.format(len(test)))"
   ]
  },
  {
   "cell_type": "code",
   "execution_count": 4,
   "metadata": {},
   "outputs": [
    {
     "name": "stdout",
     "output_type": "stream",
     "text": [
      "1952\n",
      "651\n",
      "651\n"
     ]
    }
   ],
   "source": [
    "rel_list_train = []\n",
    "for i in range(len(train)):\n",
    "    rel_list_train.append('inhibitedBy')\n",
    "print(len(rel_list_train))\n",
    "\n",
    "rel_list_valid = []\n",
    "for i in range(len(valid)):\n",
    "    rel_list_valid.append('inhibitedBy')\n",
    "print(len(rel_list_valid))\n",
    "\n",
    "rel_list_test = []\n",
    "for i in range(len(test)):\n",
    "    rel_list_test.append('inhibitedBy')\n",
    "print(len(rel_list_test))"
   ]
  },
  {
   "cell_type": "code",
   "execution_count": 5,
   "metadata": {},
   "outputs": [],
   "source": [
    "train.insert(1, 'relation', rel_list_train)\n",
    "valid.insert(1, 'relation', rel_list_valid)\n",
    "test.insert(1, 'relation', rel_list_test)"
   ]
  },
  {
   "cell_type": "code",
   "execution_count": 6,
   "metadata": {},
   "outputs": [],
   "source": [
    "train.to_csv('train.txt', header=None, index=None, sep='\\t')\n",
    "valid.to_csv('valid.txt', header=None, index=None, sep='\\t')\n",
    "test.to_csv('test.txt', header=None, index=None, sep='\\t')"
   ]
  },
  {
   "cell_type": "code",
   "execution_count": 7,
   "metadata": {},
   "outputs": [
    {
     "name": "stdout",
     "output_type": "stream",
     "text": [
      "      target    drug\n",
      "0     hsa:10  D00002\n",
      "1     hsa:10  D00448\n",
      "2    hsa:100  D00037\n",
      "3    hsa:100  D00155\n",
      "4  hsa:10056  D00021\n"
     ]
    }
   ],
   "source": [
    "raw_data = pd.read_csv('data.txt', sep='\\t', names=['target', 'drug'])\n",
    "print(raw_data.head())"
   ]
  },
  {
   "cell_type": "code",
   "execution_count": 22,
   "metadata": {},
   "outputs": [
    {
     "data": {
      "text/plain": [
       "5128"
      ]
     },
     "execution_count": 22,
     "metadata": {},
     "output_type": "execute_result"
    }
   ],
   "source": [
    "len(raw_data)"
   ]
  },
  {
   "cell_type": "code",
   "execution_count": 8,
   "metadata": {},
   "outputs": [
    {
     "name": "stdout",
     "output_type": "stream",
     "text": [
      "1952\n"
     ]
    }
   ],
   "source": [
    "target_list_train = list(train['target'])\n",
    "print(len(target_list_train))\n"
   ]
  },
  {
   "cell_type": "code",
   "execution_count": 9,
   "metadata": {},
   "outputs": [
    {
     "name": "stdout",
     "output_type": "stream",
     "text": [
      "1952\n"
     ]
    }
   ],
   "source": [
    "drug_list_train = list(train['drug'])\n",
    "print(len(drug_list_train))"
   ]
  },
  {
   "cell_type": "code",
   "execution_count": 10,
   "metadata": {},
   "outputs": [
    {
     "name": "stdout",
     "output_type": "stream",
     "text": [
      "651\n"
     ]
    }
   ],
   "source": [
    "target_list_valid = list(valid['target'])\n",
    "print(len(target_list_valid))"
   ]
  },
  {
   "cell_type": "code",
   "execution_count": 11,
   "metadata": {},
   "outputs": [
    {
     "name": "stdout",
     "output_type": "stream",
     "text": [
      "651\n"
     ]
    }
   ],
   "source": [
    "drug_list_valid = list(valid['drug'])\n",
    "print(len(drug_list_valid))"
   ]
  },
  {
   "cell_type": "code",
   "execution_count": 12,
   "metadata": {},
   "outputs": [
    {
     "name": "stdout",
     "output_type": "stream",
     "text": [
      "651\n"
     ]
    }
   ],
   "source": [
    "target_list_test = list(test['target'])\n",
    "print(len(target_list_test))"
   ]
  },
  {
   "cell_type": "code",
   "execution_count": 13,
   "metadata": {},
   "outputs": [
    {
     "name": "stdout",
     "output_type": "stream",
     "text": [
      "651\n"
     ]
    }
   ],
   "source": [
    "drug_list_test = list(test['drug'])\n",
    "print(len(drug_list_test))"
   ]
  },
  {
   "cell_type": "code",
   "execution_count": 14,
   "metadata": {},
   "outputs": [
    {
     "name": "stdout",
     "output_type": "stream",
     "text": [
      "3254\n"
     ]
    }
   ],
   "source": [
    "target_list = target_list_train + target_list_valid + target_list_test\n",
    "print(len(target_list))"
   ]
  },
  {
   "cell_type": "code",
   "execution_count": 15,
   "metadata": {},
   "outputs": [
    {
     "name": "stdout",
     "output_type": "stream",
     "text": [
      "3254\n"
     ]
    }
   ],
   "source": [
    "drug_list = drug_list_train + drug_list_valid + drug_list_test\n",
    "print(len(drug_list))"
   ]
  },
  {
   "cell_type": "code",
   "execution_count": 16,
   "metadata": {},
   "outputs": [
    {
     "name": "stdout",
     "output_type": "stream",
     "text": [
      "304\n"
     ]
    }
   ],
   "source": [
    "target_list = list(dict.fromkeys(target_list))\n",
    "print(len(target_list))"
   ]
  },
  {
   "cell_type": "code",
   "execution_count": 17,
   "metadata": {},
   "outputs": [
    {
     "name": "stdout",
     "output_type": "stream",
     "text": [
      "206\n"
     ]
    }
   ],
   "source": [
    "drug_list = list(dict.fromkeys(drug_list))\n",
    "print(len(drug_list))"
   ]
  },
  {
   "cell_type": "code",
   "execution_count": 18,
   "metadata": {},
   "outputs": [
    {
     "name": "stdout",
     "output_type": "stream",
     "text": [
      "510\n"
     ]
    }
   ],
   "source": [
    "entities_list = target_list + drug_list\n",
    "print(len(entities_list))"
   ]
  },
  {
   "cell_type": "code",
   "execution_count": 19,
   "metadata": {},
   "outputs": [
    {
     "name": "stdout",
     "output_type": "stream",
     "text": [
      "510\n"
     ]
    }
   ],
   "source": [
    "entities_dict = {}\n",
    "for i in range(len(entities_list)):\n",
    "    entities_dict[i] = entities_list[i]\n",
    "print(len(entities_dict))"
   ]
  },
  {
   "cell_type": "code",
   "execution_count": 20,
   "metadata": {},
   "outputs": [],
   "source": [
    "with open('entities.dict', 'w') as f:\n",
    "    for key, values in entities_dict.items():\n",
    "        f.write('%s\\t%s\\n' % (key, values))"
   ]
  },
  {
   "cell_type": "code",
   "execution_count": 21,
   "metadata": {},
   "outputs": [],
   "source": [
    "relations_dict = {'0':'inhibitedBy'}\n",
    "with open('relations.dict', 'w') as f:\n",
    "    for key, values in relations_dict.items():\n",
    "        f.write('%s\\t%s\\n' % (key, values))"
   ]
  },
  {
   "cell_type": "code",
   "execution_count": null,
   "metadata": {},
   "outputs": [],
   "source": []
  }
 ],
 "metadata": {
  "kernelspec": {
   "display_name": "Python 3.9.12 ('pytorch_trial_0')",
   "language": "python",
   "name": "python3"
  },
  "language_info": {
   "codemirror_mode": {
    "name": "ipython",
    "version": 3
   },
   "file_extension": ".py",
   "mimetype": "text/x-python",
   "name": "python",
   "nbconvert_exporter": "python",
   "pygments_lexer": "ipython3",
   "version": "3.9.12"
  },
  "orig_nbformat": 4,
  "vscode": {
   "interpreter": {
    "hash": "c0470d853b5d5fc35c5aa1f9f6893811314728868a7619edeceac4267c8b492d"
   }
  }
 },
 "nbformat": 4,
 "nbformat_minor": 2
}
